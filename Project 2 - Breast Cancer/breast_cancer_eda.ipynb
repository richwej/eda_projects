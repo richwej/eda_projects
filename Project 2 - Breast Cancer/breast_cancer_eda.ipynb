{
 "cells": [
  {
   "cell_type": "markdown",
   "id": "bba941b4-2782-4923-bbbf-7bc509fd3658",
   "metadata": {},
   "source": [
    "<h1>A Project on Breast Cancer Diagnostics - To get certain insights</h1>"
   ]
  },
  {
   "cell_type": "markdown",
   "id": "b67cef03-afe5-4ca7-8d8a-5b65451db9b9",
   "metadata": {},
   "source": [
    "### Import Relevant Libraries"
   ]
  },
  {
   "cell_type": "code",
   "execution_count": 1,
   "id": "2176083b-add9-4073-ba80-cd1f89407b3c",
   "metadata": {},
   "outputs": [],
   "source": [
    "import numpy as np\n",
    "import pandas as pd\n",
    "import matplotlib.pyplot as plt\n",
    "import seaborn as sns\n",
    "import requests\n",
    "from bs4 import BeautifulSoup\n",
    "from datetime import datetime\n",
    "import warnings\n",
    "warnings.filterwarnings(\"ignore\")"
   ]
  },
  {
   "cell_type": "code",
   "execution_count": 2,
   "id": "fc29c457-f824-4192-bbf1-038aee440a68",
   "metadata": {},
   "outputs": [],
   "source": [
    "#Load our Dataset\n",
    "\n",
    "bc_dataset = pd.read_csv(\"Breast_Cancer.csv\", encoding = \"ISO-8859-1\")"
   ]
  },
  {
   "cell_type": "code",
   "execution_count": 3,
   "id": "e4a912de-8d9e-47f5-a58e-3f9aafd32989",
   "metadata": {},
   "outputs": [
    {
     "name": "stdout",
     "output_type": "stream",
     "text": [
      "   Age   Race Marital Status T Stage  N Stage 6th Stage  \\\n",
      "0   68  White        Married       T1      N1       IIA   \n",
      "1   50  White        Married       T2      N2      IIIA   \n",
      "2   58  White       Divorced       T3      N3      IIIC   \n",
      "3   58  White        Married       T1      N1       IIA   \n",
      "4   47  White        Married       T2      N1       IIB   \n",
      "\n",
      "               differentiate Grade   A Stage  Tumor Size Estrogen Status  \\\n",
      "0      Poorly differentiated     3  Regional           4        Positive   \n",
      "1  Moderately differentiated     2  Regional          35        Positive   \n",
      "2  Moderately differentiated     2  Regional          63        Positive   \n",
      "3      Poorly differentiated     3  Regional          18        Positive   \n",
      "4      Poorly differentiated     3  Regional          41        Positive   \n",
      "\n",
      "  Progesterone Status  Regional Node Examined  Reginol Node Positive  \\\n",
      "0            Positive                      24                      1   \n",
      "1            Positive                      14                      5   \n",
      "2            Positive                      14                      7   \n",
      "3            Positive                       2                      1   \n",
      "4            Positive                       3                      1   \n",
      "\n",
      "   Survival Months Status  \n",
      "0               60  Alive  \n",
      "1               62  Alive  \n",
      "2               75  Alive  \n",
      "3               84  Alive  \n",
      "4               50  Alive  \n",
      "      Age   Race Marital Status T Stage  N Stage 6th Stage  \\\n",
      "4019   62  Other        Married       T1      N1       IIA   \n",
      "4020   56  White       Divorced       T2      N2      IIIA   \n",
      "4021   68  White        Married       T2      N1       IIB   \n",
      "4022   58  Black       Divorced       T2      N1       IIB   \n",
      "4023   46  White        Married       T2      N1       IIB   \n",
      "\n",
      "                  differentiate Grade   A Stage  Tumor Size Estrogen Status  \\\n",
      "4019  Moderately differentiated     2  Regional           9        Positive   \n",
      "4020  Moderately differentiated     2  Regional          46        Positive   \n",
      "4021  Moderately differentiated     2  Regional          22        Positive   \n",
      "4022  Moderately differentiated     2  Regional          44        Positive   \n",
      "4023  Moderately differentiated     2  Regional          30        Positive   \n",
      "\n",
      "     Progesterone Status  Regional Node Examined  Reginol Node Positive  \\\n",
      "4019            Positive                       1                      1   \n",
      "4020            Positive                      14                      8   \n",
      "4021            Negative                      11                      3   \n",
      "4022            Positive                      11                      1   \n",
      "4023            Positive                       7                      2   \n",
      "\n",
      "      Survival Months Status  \n",
      "4019               49  Alive  \n",
      "4020               69  Alive  \n",
      "4021               69  Alive  \n",
      "4022               72  Alive  \n",
      "4023              100  Alive  \n"
     ]
    }
   ],
   "source": [
    "#Let's inspect our data and get a feel of what we are working with\n",
    "print(bc_dataset.head())\n",
    "print(bc_dataset.tail())"
   ]
  },
  {
   "cell_type": "code",
   "execution_count": 4,
   "id": "f1daf775-6cb1-4d81-a613-091d1e390859",
   "metadata": {},
   "outputs": [
    {
     "data": {
      "text/plain": [
       "Index(['Age', 'Race', 'Marital Status', 'T Stage ', 'N Stage', '6th Stage',\n",
       "       'differentiate', 'Grade', 'A Stage', 'Tumor Size', 'Estrogen Status',\n",
       "       'Progesterone Status', 'Regional Node Examined',\n",
       "       'Reginol Node Positive', 'Survival Months', 'Status'],\n",
       "      dtype='object')"
      ]
     },
     "execution_count": 4,
     "metadata": {},
     "output_type": "execute_result"
    }
   ],
   "source": [
    "#Let's get the column names and export to chatgpt to get an understanding of the data we are working with\n",
    "\n",
    "bc_dataset.columns"
   ]
  },
  {
   "cell_type": "code",
   "execution_count": 5,
   "id": "e23ba505-1f6e-4739-8f4a-f54416e36fc9",
   "metadata": {},
   "outputs": [],
   "source": [
    "#before we dig deep.., let's just drop some columns. some columns that would be dropped are based on the following assumptions:\n",
    "# Marital Status: Assume all women have similar status and relationship life is not a contributing factor\n",
    "#Race: Assume all women belong to the same race. i.e. a homogenous race in this regards\n",
    "#A stage: Essentially most of the A stages here are regional"
   ]
  },
  {
   "cell_type": "code",
   "execution_count": 6,
   "id": "a034f5e7-7c4d-44ba-aaf2-fdfb3b427e43",
   "metadata": {},
   "outputs": [],
   "source": [
    "bc_dataset_cp = bc_dataset.copy(deep = True)"
   ]
  },
  {
   "cell_type": "code",
   "execution_count": 7,
   "id": "9967be27-4f7e-44b9-9154-75d85f8a1188",
   "metadata": {},
   "outputs": [],
   "source": [
    "bc_dataset_cp.drop(['Race', 'Marital Status', 'A Stage'], axis = 1, inplace= True)"
   ]
  },
  {
   "cell_type": "code",
   "execution_count": 8,
   "id": "24d81ce5-c05c-4723-aca0-5ea8073b0052",
   "metadata": {},
   "outputs": [],
   "source": [
    "#before we continue..., are there any loopholes in our dataset\n",
    "#i mean is any null value present"
   ]
  },
  {
   "cell_type": "code",
   "execution_count": 9,
   "id": "6cfcc132-e599-4df6-bb78-ef7374d07f1e",
   "metadata": {},
   "outputs": [
    {
     "data": {
      "text/plain": [
       "Age                       0\n",
       "T Stage                   0\n",
       "N Stage                   0\n",
       "6th Stage                 0\n",
       "differentiate             0\n",
       "Grade                     0\n",
       "Tumor Size                0\n",
       "Estrogen Status           0\n",
       "Progesterone Status       0\n",
       "Regional Node Examined    0\n",
       "Reginol Node Positive     0\n",
       "Survival Months           0\n",
       "Status                    0\n",
       "dtype: int64"
      ]
     },
     "execution_count": 9,
     "metadata": {},
     "output_type": "execute_result"
    }
   ],
   "source": [
    "bc_dataset_cp.isnull().sum()\n",
    "#alright.., no null values present.., it's clean.., we can proceed"
   ]
  },
  {
   "cell_type": "code",
   "execution_count": 10,
   "id": "e592a221-2aa3-4ef0-8bfa-d7db3fd44fd3",
   "metadata": {},
   "outputs": [],
   "source": [
    "#feature-engineering --- for the sake of this transformation.., we want to convert the status to 1 for alive and 0 for dead\n",
    "#this extra column would be necessary for machine learning., as text might be intrinsically confusing\n",
    "\n",
    "bc_dataset_cp.Status.unique()\n",
    "\n",
    "#alright.., with this we can write a lambda function for mapping Alive to 1 and Dead to 0\n",
    "\n",
    "status_converter = lambda x: 1 if x == 'Alive' else 0"
   ]
  },
  {
   "cell_type": "code",
   "execution_count": 11,
   "id": "6860f5ec-797e-4084-ae9c-998e68ea33bf",
   "metadata": {},
   "outputs": [],
   "source": [
    "bc_dataset_cp['status_in_digits'] = bc_dataset_cp['Status'].map(status_converter)"
   ]
  },
  {
   "cell_type": "code",
   "execution_count": 12,
   "id": "8e8eb8ae-4e7f-4b88-b567-e0c93c879e4b",
   "metadata": {},
   "outputs": [
    {
     "data": {
      "text/plain": [
       "Index(['Age', 'T Stage ', 'N Stage', '6th Stage', 'differentiate', 'Grade',\n",
       "       'Tumor Size', 'Estrogen Status', 'Progesterone Status',\n",
       "       'Regional Node Examined', 'Reginol Node Positive', 'Survival Months',\n",
       "       'Status', 'status_in_digits'],\n",
       "      dtype='object')"
      ]
     },
     "execution_count": 12,
     "metadata": {},
     "output_type": "execute_result"
    }
   ],
   "source": [
    "bc_dataset_cp.columns"
   ]
  },
  {
   "cell_type": "code",
   "execution_count": 13,
   "id": "badeec19-710c-4d88-bded-4bd82d6e4879",
   "metadata": {},
   "outputs": [],
   "source": [
    "#column names modification\n",
    "#let's use underscore for spaces\n",
    "#let's swap case from sentence case to lower cse\n",
    "\n",
    "bc_dataset_cp.rename(columns= {'Age':'age', 'T Stage ':'t_stage','N Stage':'n_stage', '6th Stage':'6th_stage',\n",
    "                               'Grade':'grade', 'Tumor Size':'tumor_size', 'Estrogen Status':'estrogen_status',\n",
    "                               'Progesterone Status':'progesterone_status', 'Regional Node Examined':'regional_node_examined',\n",
    "                               'Reginol Node Positive':'regional_node_positive', 'Survival Months':'survival_months',\n",
    "                               'Status':'status'}, inplace = True)"
   ]
  },
  {
   "cell_type": "code",
   "execution_count": 14,
   "id": "536cdb48-1cb1-4d92-a740-ab35f8b3dc52",
   "metadata": {
    "scrolled": true
   },
   "outputs": [
    {
     "data": {
      "text/plain": [
       "Index(['age', 't_stage', 'n_stage', '6th_stage', 'differentiate', 'grade',\n",
       "       'tumor_size', 'estrogen_status', 'progesterone_status',\n",
       "       'regional_node_examined', 'regional_node_positive', 'survival_months',\n",
       "       'status', 'status_in_digits'],\n",
       "      dtype='object')"
      ]
     },
     "execution_count": 14,
     "metadata": {},
     "output_type": "execute_result"
    }
   ],
   "source": [
    "bc_dataset_cp.columns"
   ]
  },
  {
   "cell_type": "code",
   "execution_count": 15,
   "id": "ec153d0e-2e92-4c95-8d6b-3f8914a880ea",
   "metadata": {},
   "outputs": [],
   "source": [
    "#let's not get too ahead of ourselves.., but we can take a look at the data types that are numbers and see if there is \n",
    "#any correlation between them"
   ]
  },
  {
   "cell_type": "code",
   "execution_count": 16,
   "id": "e8794932-0e71-4792-8a20-9c4b55d32c7b",
   "metadata": {},
   "outputs": [
    {
     "data": {
      "text/html": [
       "<div>\n",
       "<style scoped>\n",
       "    .dataframe tbody tr th:only-of-type {\n",
       "        vertical-align: middle;\n",
       "    }\n",
       "\n",
       "    .dataframe tbody tr th {\n",
       "        vertical-align: top;\n",
       "    }\n",
       "\n",
       "    .dataframe thead th {\n",
       "        text-align: right;\n",
       "    }\n",
       "</style>\n",
       "<table border=\"1\" class=\"dataframe\">\n",
       "  <thead>\n",
       "    <tr style=\"text-align: right;\">\n",
       "      <th></th>\n",
       "      <th>age</th>\n",
       "      <th>tumor_size</th>\n",
       "      <th>regional_node_examined</th>\n",
       "      <th>regional_node_positive</th>\n",
       "      <th>survival_months</th>\n",
       "      <th>status_in_digits</th>\n",
       "    </tr>\n",
       "  </thead>\n",
       "  <tbody>\n",
       "    <tr>\n",
       "      <th>age</th>\n",
       "      <td>1.000000</td>\n",
       "      <td>-0.077215</td>\n",
       "      <td>-0.033345</td>\n",
       "      <td>0.012586</td>\n",
       "      <td>-0.009390</td>\n",
       "      <td>-0.055921</td>\n",
       "    </tr>\n",
       "    <tr>\n",
       "      <th>tumor_size</th>\n",
       "      <td>-0.077215</td>\n",
       "      <td>1.000000</td>\n",
       "      <td>0.104352</td>\n",
       "      <td>0.242322</td>\n",
       "      <td>-0.086901</td>\n",
       "      <td>-0.134205</td>\n",
       "    </tr>\n",
       "    <tr>\n",
       "      <th>regional_node_examined</th>\n",
       "      <td>-0.033345</td>\n",
       "      <td>0.104352</td>\n",
       "      <td>1.000000</td>\n",
       "      <td>0.411580</td>\n",
       "      <td>-0.022054</td>\n",
       "      <td>-0.034772</td>\n",
       "    </tr>\n",
       "    <tr>\n",
       "      <th>regional_node_positive</th>\n",
       "      <td>0.012586</td>\n",
       "      <td>0.242322</td>\n",
       "      <td>0.411580</td>\n",
       "      <td>1.000000</td>\n",
       "      <td>-0.135214</td>\n",
       "      <td>-0.256638</td>\n",
       "    </tr>\n",
       "    <tr>\n",
       "      <th>survival_months</th>\n",
       "      <td>-0.009390</td>\n",
       "      <td>-0.086901</td>\n",
       "      <td>-0.022054</td>\n",
       "      <td>-0.135214</td>\n",
       "      <td>1.000000</td>\n",
       "      <td>0.476514</td>\n",
       "    </tr>\n",
       "    <tr>\n",
       "      <th>status_in_digits</th>\n",
       "      <td>-0.055921</td>\n",
       "      <td>-0.134205</td>\n",
       "      <td>-0.034772</td>\n",
       "      <td>-0.256638</td>\n",
       "      <td>0.476514</td>\n",
       "      <td>1.000000</td>\n",
       "    </tr>\n",
       "  </tbody>\n",
       "</table>\n",
       "</div>"
      ],
      "text/plain": [
       "                             age  tumor_size  regional_node_examined  \\\n",
       "age                     1.000000   -0.077215               -0.033345   \n",
       "tumor_size             -0.077215    1.000000                0.104352   \n",
       "regional_node_examined -0.033345    0.104352                1.000000   \n",
       "regional_node_positive  0.012586    0.242322                0.411580   \n",
       "survival_months        -0.009390   -0.086901               -0.022054   \n",
       "status_in_digits       -0.055921   -0.134205               -0.034772   \n",
       "\n",
       "                        regional_node_positive  survival_months  \\\n",
       "age                                   0.012586        -0.009390   \n",
       "tumor_size                            0.242322        -0.086901   \n",
       "regional_node_examined                0.411580        -0.022054   \n",
       "regional_node_positive                1.000000        -0.135214   \n",
       "survival_months                      -0.135214         1.000000   \n",
       "status_in_digits                     -0.256638         0.476514   \n",
       "\n",
       "                        status_in_digits  \n",
       "age                            -0.055921  \n",
       "tumor_size                     -0.134205  \n",
       "regional_node_examined         -0.034772  \n",
       "regional_node_positive         -0.256638  \n",
       "survival_months                 0.476514  \n",
       "status_in_digits                1.000000  "
      ]
     },
     "execution_count": 16,
     "metadata": {},
     "output_type": "execute_result"
    }
   ],
   "source": [
    "corr_values_numeric= (bc_dataset_cp[(bc_dataset_cp.columns[bc_dataset_cp.dtypes == 'int64'])]).corr()\n",
    "#from what i can see it seems there isn't any relationship.., we can employ the heatmap of seaborn to visualize this\n",
    "\n",
    "corr_values_numeric"
   ]
  },
  {
   "cell_type": "code",
   "execution_count": 17,
   "id": "3eb67c90-2175-46d3-9ae4-247ad88cf668",
   "metadata": {},
   "outputs": [
    {
     "data": {
      "image/png": "[encoded data removed]",
      "text/plain": [
       "<Figure size 640x480 with 2 Axes>"
      ]
     },
     "metadata": {},
     "output_type": "display_data"
    }
   ],
   "source": [
    "sns.heatmap(data = corr_values_numeric.corr(), cmap = 'YlGnBu')\n",
    "plt.show()\n",
    "\n",
    "\n",
    "#observations: it's quite obvious: but we know that there is a correlation somewhere around 0.5 with the survival months\n",
    "#this might be misleading as the status is not dead.., let's reevaluate for a status of dead and see what our results tells us"
   ]
  },
  {
   "cell_type": "code",
   "execution_count": 18,
   "id": "8817216d-cd98-4d86-850b-1d310addb320",
   "metadata": {},
   "outputs": [
    {
     "data": {
      "text/plain": [
       "<Axes: xlabel='status_in_digits', ylabel='count'>"
      ]
     },
     "execution_count": 18,
     "metadata": {},
     "output_type": "execute_result"
    },
    {
     "data": {
      "image/png": "[encoded data removed]",
      "text/plain": [
       "<Figure size 640x480 with 1 Axes>"
      ]
     },
     "metadata": {},
     "output_type": "display_data"
    }
   ],
   "source": [
    "#alright.., let's start with status and survival months...\n",
    "#let's see a count plot of this\n",
    "\n",
    "sns.countplot(data = bc_dataset_cp, x= 'status_in_digits')"
   ]
  },
  {
   "cell_type": "code",
   "execution_count": 19,
   "id": "ba4fd63b-69d1-4e39-8742-f96f7907c793",
   "metadata": {},
   "outputs": [
    {
     "data": {
      "text/plain": [
       "status_in_digits\n",
       "0     28096\n",
       "1    258807\n",
       "Name: survival_months, dtype: int64"
      ]
     },
     "execution_count": 19,
     "metadata": {},
     "output_type": "execute_result"
    }
   ],
   "source": [
    "bc_dataset_cp.groupby('status_in_digits')['survival_months'].sum()"
   ]
  },
  {
   "cell_type": "code",
   "execution_count": 20,
   "id": "d2140f51-f003-481c-b954-c84e50897501",
   "metadata": {},
   "outputs": [
    {
     "data": {
      "image/png": "[encoded data removed]",
      "text/plain": [
       "<Figure size 640x480 with 1 Axes>"
      ]
     },
     "metadata": {},
     "output_type": "display_data"
    }
   ],
   "source": [
    "#alright.., what age distribution of women am i working with\n",
    "#let's take a look at the age distribution using seaborn's distplot\n",
    "\n",
    "fig = plt.figure()\n",
    "\n",
    "ax1 = fig.add_subplot(111)\n",
    "\n",
    "sns.distplot(bc_dataset_cp['age'], ax = ax1, rug = True)\n",
    "\n",
    "fig.show()"
   ]
  },
  {
   "cell_type": "code",
   "execution_count": 21,
   "id": "0905d48a-5719-4d1f-9d47-2e0e9b12d408",
   "metadata": {},
   "outputs": [],
   "source": [
    "bins_age = [30, 40, 50, 60, 70] "
   ]
  },
  {
   "cell_type": "code",
   "execution_count": 22,
   "id": "19c1162c-2ab9-4611-b017-cda671e80bd6",
   "metadata": {},
   "outputs": [],
   "source": [
    "bc_dataset_cp['binned_age'] = pd.cut(bc_dataset_cp['age'], bins_age, labels= ['30-40', '40-50', '50-60', '60+'])"
   ]
  },
  {
   "cell_type": "code",
   "execution_count": 23,
   "id": "dad582f9-7d19-4999-9f16-df31629ce1a9",
   "metadata": {},
   "outputs": [
    {
     "data": {
      "text/plain": [
       "binned_age\n",
       "30-40     297\n",
       "40-50    1196\n",
       "50-60    1386\n",
       "60+      1140\n",
       "Name: age, dtype: int64"
      ]
     },
     "execution_count": 23,
     "metadata": {},
     "output_type": "execute_result"
    }
   ],
   "source": [
    "bc_dataset_cp.groupby('binned_age')['age'].count()\n",
    "\n",
    "#observation is that the age bracket of women in this analysis is mostly in the 40-50, 50-60 and 60+ regions.., especially\n",
    "#maximum concentration in the 50-60 region"
   ]
  },
  {
   "cell_type": "code",
   "execution_count": 24,
   "id": "2f329a35-229b-4666-8de8-da2dea13dcd7",
   "metadata": {},
   "outputs": [
    {
     "data": {
      "image/png": "[encoded data removed]",
      "text/plain": [
       "<Figure size 640x480 with 1 Axes>"
      ]
     },
     "metadata": {},
     "output_type": "display_data"
    }
   ],
   "source": [
    "#what age bracket has the highest death rate\n",
    "#let's see the ratio of deaths\n",
    "\n",
    "a = pd.crosstab(bc_dataset_cp.binned_age, bc_dataset_cp.status_in_digits)\n",
    "a['ratio'] = round((a[0]/(a[0] + a[1]))*100, 2)\n",
    "sns.barplot(data = a, x = a.index, y = a['ratio'])\n",
    "plt.show()"
   ]
  },
  {
   "cell_type": "code",
   "execution_count": 25,
   "id": "08971c7f-45e7-4f3a-be77-49ac57fcfc29",
   "metadata": {},
   "outputs": [
    {
     "data": {
      "text/plain": [
       "Index(['age', 't_stage', 'n_stage', '6th_stage', 'differentiate', 'grade',\n",
       "       'tumor_size', 'estrogen_status', 'progesterone_status',\n",
       "       'regional_node_examined', 'regional_node_positive', 'survival_months',\n",
       "       'status', 'status_in_digits', 'binned_age'],\n",
       "      dtype='object')"
      ]
     },
     "execution_count": 25,
     "metadata": {},
     "output_type": "execute_result"
    }
   ],
   "source": [
    "bc_dataset_cp.columns"
   ]
  },
  {
   "cell_type": "code",
   "execution_count": 26,
   "id": "335ee497-7119-485a-ab51-1a9341311070",
   "metadata": {},
   "outputs": [
    {
     "data": {
      "text/plain": [
       "<Axes: xlabel='tumor_size'>"
      ]
     },
     "execution_count": 26,
     "metadata": {},
     "output_type": "execute_result"
    },
    {
     "data": {
      "image/png": "[encoded data removed]",
      "text/plain": [
       "<Figure size 640x480 with 1 Axes>"
      ]
     },
     "metadata": {},
     "output_type": "display_data"
    }
   ],
   "source": [
    "#alright.., let's get the boxplot of the cancer stages\n",
    "sns.boxplot(data = bc_dataset_cp, x = 'tumor_size')"
   ]
  },
  {
   "cell_type": "code",
   "execution_count": 27,
   "id": "f69b4b91-4b30-4c2a-86ee-8ae749355357",
   "metadata": {},
   "outputs": [
    {
     "data": {
      "text/plain": [
       "status_in_digits\n",
       "0    37.139610\n",
       "1    29.268779\n",
       "Name: tumor_size, dtype: float64"
      ]
     },
     "execution_count": 27,
     "metadata": {},
     "output_type": "execute_result"
    }
   ],
   "source": [
    "#let's investigate something....\n",
    "#people that died what was the average tumor size.., against those that are still living.., if there is any relationship\n",
    "\n",
    "bc_dataset_cp.groupby('status_in_digits')['tumor_size'].mean()"
   ]
  },
  {
   "cell_type": "code",
   "execution_count": 28,
   "id": "4c733e7c-f55b-4565-849b-bcf51d64d3b6",
   "metadata": {},
   "outputs": [
    {
     "data": {
      "image/png": "[encoded data removed]",
      "text/plain": [
       "<Figure size 640x480 with 1 Axes>"
      ]
     },
     "metadata": {},
     "output_type": "display_data"
    }
   ],
   "source": [
    "#let's see a boxplot of this.., let's know if the abnormal tumor sizes could contribute to death factors.., alright\n",
    "#let's take a detailed look\n",
    "\n",
    "fig = plt.figure()\n",
    "sns.set_style('dark')\n",
    "sns.boxplot(data = bc_dataset_cp, y='tumor_size', x = 'status_in_digits')\n",
    "plt.grid()\n",
    "fig.show()\n",
    "\n",
    "\n",
    "#observation: although there are several outliers in both dead and alive\n",
    "#those that died the tumor size in most of the distributions were higher\n",
    "#next stop let's just use only 95% of the population in both cases and plot to see how the boxplot looks like"
   ]
  },
  {
   "cell_type": "code",
   "execution_count": 29,
   "id": "3bd1b539-e186-427a-ad7a-5805d3f0afdc",
   "metadata": {},
   "outputs": [
    {
     "data": {
      "image/png": "[encoded data removed]",
      "text/plain": [
       "<Figure size 640x480 with 1 Axes>"
      ]
     },
     "metadata": {},
     "output_type": "display_data"
    }
   ],
   "source": [
    "top_95 = round(bc_dataset_cp.shape[0] * 0.95)\n",
    "top_95_bc_dataset_cp = bc_dataset_cp.sort_values(by = 'tumor_size').head(top_95)\n",
    "\n",
    "fig = plt.figure()\n",
    "sns.set_style('dark')\n",
    "sns.boxplot(data =top_95_bc_dataset_cp, y='tumor_size', x = 'status_in_digits')\n",
    "plt.grid()\n",
    "fig.show()\n",
    "\n",
    "#we now get a good understanding of what our dataset is all about"
   ]
  },
  {
   "cell_type": "code",
   "execution_count": 30,
   "id": "c41b9894-33d6-4b4d-9ace-e54c1f6e380a",
   "metadata": {},
   "outputs": [
    {
     "data": {
      "text/html": [
       "<div>\n",
       "<style scoped>\n",
       "    .dataframe tbody tr th:only-of-type {\n",
       "        vertical-align: middle;\n",
       "    }\n",
       "\n",
       "    .dataframe tbody tr th {\n",
       "        vertical-align: top;\n",
       "    }\n",
       "\n",
       "    .dataframe thead th {\n",
       "        text-align: right;\n",
       "    }\n",
       "</style>\n",
       "<table border=\"1\" class=\"dataframe\">\n",
       "  <thead>\n",
       "    <tr style=\"text-align: right;\">\n",
       "      <th></th>\n",
       "      <th>binned_age</th>\n",
       "      <th>tumor_size_alive</th>\n",
       "      <th>tumor_size_dead</th>\n",
       "    </tr>\n",
       "  </thead>\n",
       "  <tbody>\n",
       "    <tr>\n",
       "      <th>0</th>\n",
       "      <td>30-40</td>\n",
       "      <td>31.819672</td>\n",
       "      <td>49.886792</td>\n",
       "    </tr>\n",
       "    <tr>\n",
       "      <th>1</th>\n",
       "      <td>40-50</td>\n",
       "      <td>31.140250</td>\n",
       "      <td>37.574194</td>\n",
       "    </tr>\n",
       "    <tr>\n",
       "      <th>2</th>\n",
       "      <td>50-60</td>\n",
       "      <td>28.909016</td>\n",
       "      <td>35.858757</td>\n",
       "    </tr>\n",
       "    <tr>\n",
       "      <th>3</th>\n",
       "      <td>60+</td>\n",
       "      <td>26.952799</td>\n",
       "      <td>34.532751</td>\n",
       "    </tr>\n",
       "  </tbody>\n",
       "</table>\n",
       "</div>"
      ],
      "text/plain": [
       "  binned_age  tumor_size_alive  tumor_size_dead\n",
       "0      30-40         31.819672        49.886792\n",
       "1      40-50         31.140250        37.574194\n",
       "2      50-60         28.909016        35.858757\n",
       "3        60+         26.952799        34.532751"
      ]
     },
     "execution_count": 30,
     "metadata": {},
     "output_type": "execute_result"
    }
   ],
   "source": [
    "#is there any relationship between tumor size and age?\n",
    "#how does tumor size vary with age in the entire distribution for both dead and alive.., we can see the mean\n",
    "\n",
    "alive_tumor = bc_dataset_cp[bc_dataset_cp.status_in_digits == 1].groupby('binned_age')['tumor_size'].mean().reset_index()\n",
    "alive_tumor.rename(columns = {'tumor_size':'tumor_size_alive'}, inplace = True)\n",
    "dead_tumor = bc_dataset_cp[bc_dataset_cp.status_in_digits == 0].groupby('binned_age')['tumor_size'].mean().reset_index()\n",
    "dead_tumor.rename(columns = {'tumor_size':'tumor_size_dead'}, inplace = True)\n",
    "\n",
    "full_tumor = pd.merge(alive_tumor, dead_tumor, on = 'binned_age')\n",
    "\n",
    "full_tumor\n",
    "\n",
    "#relationship the mean tumor size of those that died are actually higher than those that are alive.. so we can conclude that\n",
    "#tumor sizes are responsible for death..\n",
    "\n",
    "#but let's see it in a boxplot just to be sure that outliers are not affecting our distribution"
   ]
  },
  {
   "cell_type": "code",
   "execution_count": 31,
   "id": "d9231216-4a1d-493e-bd0d-ceda26fc07c4",
   "metadata": {},
   "outputs": [
    {
     "data": {
      "text/plain": [
       "<Axes: xlabel='binned_age', ylabel='tumor_size'>"
      ]
     },
     "execution_count": 31,
     "metadata": {},
     "output_type": "execute_result"
    },
    {
     "data": {
      "image/png": "[encoded data removed]",
      "text/plain": [
       "<Figure size 640x480 with 1 Axes>"
      ]
     },
     "metadata": {},
     "output_type": "display_data"
    }
   ],
   "source": [
    "sns.boxplot(data = bc_dataset_cp, x = 'binned_age', y = 'tumor_size')\n",
    "\n",
    "#from this boxplot .., outliers are much.., but let's observe the outliers.., do they always lead to date cases.., alright., let's investigate"
   ]
  },
  {
   "cell_type": "code",
   "execution_count": 32,
   "id": "a475b3d6-79d9-4645-8a48-b5eac4d64925",
   "metadata": {},
   "outputs": [
    {
     "data": {
      "text/html": [
       "<div>\n",
       "<style scoped>\n",
       "    .dataframe tbody tr th:only-of-type {\n",
       "        vertical-align: middle;\n",
       "    }\n",
       "\n",
       "    .dataframe tbody tr th {\n",
       "        vertical-align: top;\n",
       "    }\n",
       "\n",
       "    .dataframe thead th {\n",
       "        text-align: right;\n",
       "    }\n",
       "</style>\n",
       "<table border=\"1\" class=\"dataframe\">\n",
       "  <thead>\n",
       "    <tr style=\"text-align: right;\">\n",
       "      <th></th>\n",
       "      <th>tumor_size</th>\n",
       "    </tr>\n",
       "    <tr>\n",
       "      <th>status_in_digits</th>\n",
       "      <th></th>\n",
       "    </tr>\n",
       "  </thead>\n",
       "  <tbody>\n",
       "    <tr>\n",
       "      <th>0</th>\n",
       "      <td>3</td>\n",
       "    </tr>\n",
       "    <tr>\n",
       "      <th>1</th>\n",
       "      <td>7</td>\n",
       "    </tr>\n",
       "  </tbody>\n",
       "</table>\n",
       "</div>"
      ],
      "text/plain": [
       "                  tumor_size\n",
       "status_in_digits            \n",
       "0                          3\n",
       "1                          7"
      ]
     },
     "execution_count": 32,
     "metadata": {},
     "output_type": "execute_result"
    }
   ],
   "source": [
    "bc_dataset_cp.sort_values(by = 'tumor_size', ascending= False)[['tumor_size', 'status_in_digits']].head(10).groupby('status_in_digits').count()\n",
    "\n",
    "#so from this we can conclude that outlies tumor sizes.., didn't really contribute to the death rate"
   ]
  },
  {
   "cell_type": "code",
   "execution_count": 33,
   "id": "ee51e91b-6d97-4615-a240-dbb046d5d376",
   "metadata": {},
   "outputs": [],
   "source": [
    "#let's take a look at the survival months to see if it relates to the status dead or alive"
   ]
  },
  {
   "cell_type": "code",
   "execution_count": 34,
   "id": "5addaa05-36c5-427d-901a-09fa383e3a3b",
   "metadata": {},
   "outputs": [
    {
     "name": "stdout",
     "output_type": "stream",
     "text": [
      "count    4024.000000\n",
      "mean       71.297962\n",
      "std        22.921430\n",
      "min         1.000000\n",
      "25%        56.000000\n",
      "50%        73.000000\n",
      "75%        90.000000\n",
      "max       107.000000\n",
      "Name: survival_months, dtype: float64\n"
     ]
    },
    {
     "data": {
      "image/png": "[encoded data removed]",
      "text/plain": [
       "<Figure size 1000x400 with 2 Axes>"
      ]
     },
     "metadata": {},
     "output_type": "display_data"
    }
   ],
   "source": [
    "#can we see how the survival months are distributed alright\n",
    "print(bc_dataset_cp.survival_months.describe())\n",
    "\n",
    "\n",
    "fig = plt.figure(figsize = (10,4))\n",
    "ax1 = fig.add_subplot(121)\n",
    "sns.distplot(bc_dataset_cp['survival_months'], rug = True, ax = ax1)\n",
    "ax2 = fig.add_subplot(122)\n",
    "sns.boxplot(data = bc_dataset_cp, y = 'survival_months', ax = ax2)\n",
    "fig.show()"
   ]
  },
  {
   "cell_type": "code",
   "execution_count": 35,
   "id": "8654251a-dea5-4d24-bdfa-b4aaf42ec113",
   "metadata": {},
   "outputs": [
    {
     "name": "stdout",
     "output_type": "stream",
     "text": [
      "['T1' 'T2' 'T3' 'T4']\n",
      "['N1' 'N2' 'N3']\n",
      "['IIA' 'IIIA' 'IIIC' 'IIB' 'IIIB']\n"
     ]
    }
   ],
   "source": [
    "#let's take a look at the stages.., and discover at what stage is someone most likely to die\n",
    "\n",
    "\n",
    "for column in bc_dataset_cp.columns:\n",
    "    if 'stage' in column:\n",
    "        print(bc_dataset_cp[column].unique())"
   ]
  },
  {
   "cell_type": "code",
   "execution_count": 36,
   "id": "b7c2ae44-8ed0-4597-afe8-439abf012c29",
   "metadata": {},
   "outputs": [
    {
     "name": "stdout",
     "output_type": "stream",
     "text": [
      "Death Table\n",
      "6th_stage         IIA    IIB  IIIA  IIIB  IIIC\n",
      "t_stage n_stage                               \n",
      "T1      N1       96.0    0.0   0.0   0.0   0.0\n",
      "        N2        0.0    0.0  31.0   0.0   0.0\n",
      "        N3        0.0    0.0   0.0   0.0  30.0\n",
      "T2      N1        0.0  135.0   0.0   0.0   0.0\n",
      "        N2        0.0    0.0  88.0   0.0   0.0\n",
      "        N3        0.0    0.0   0.0   0.0  80.0\n",
      "T3      N1        0.0    0.0  31.0   0.0   0.0\n",
      "        N2        0.0    0.0  34.0   0.0   0.0\n",
      "        N3        0.0    0.0   0.0   0.0  51.0\n",
      "T4      N1        0.0    0.0   0.0   8.0   0.0\n",
      "        N2        0.0    0.0   0.0  12.0   0.0\n",
      "        N3        0.0    0.0   0.0   0.0  20.0\n",
      "\n",
      "\n",
      "------------------------------------\n",
      "Alive Table\n",
      "6th_stage           IIA    IIB   IIIA  IIIB   IIIC\n",
      "t_stage n_stage                                   \n",
      "T1      N1       1209.0    0.0    0.0   0.0    0.0\n",
      "        N2          0.0    0.0  180.0   0.0    0.0\n",
      "        N3          0.0    0.0    0.0   0.0   57.0\n",
      "T2      N1          0.0  995.0    0.0   0.0    0.0\n",
      "        N2          0.0    0.0  340.0   0.0    0.0\n",
      "        N3          0.0    0.0    0.0   0.0  148.0\n",
      "T3      N1          0.0    0.0  231.0   0.0    0.0\n",
      "        N2          0.0    0.0  115.0   0.0    0.0\n",
      "        N3          0.0    0.0    0.0   0.0   71.0\n",
      "T4      N1          0.0    0.0    0.0  27.0    0.0\n",
      "        N2          0.0    0.0    0.0  20.0    0.0\n",
      "        N3          0.0    0.0    0.0   0.0   15.0\n"
     ]
    }
   ],
   "source": [
    "#what can we do to this\n",
    "#for the T stages let's see the death rate using a count plot for all the stages\n",
    "\n",
    "print(\"Death Table\")\n",
    "print(bc_dataset_cp[bc_dataset_cp.status_in_digits == 0].groupby(['t_stage', 'n_stage', '6th_stage'])['status_in_digits'].count().unstack().fillna(0))\n",
    "\n",
    "print(\"\\n\\n------------------------------------\\nAlive Table\")\n",
    "\n",
    "\n",
    "print(bc_dataset_cp[bc_dataset_cp.status_in_digits == 1].groupby(['t_stage', 'n_stage', '6th_stage'])['status_in_digits'].count().unstack().fillna(0))\n",
    "\n",
    "\n",
    "#observation: majority of the people that died cancer was at stage T2 and N1, followed by stage T1 and N1"
   ]
  },
  {
   "cell_type": "code",
   "execution_count": 37,
   "id": "62013338-5d59-4005-bf87-754511606849",
   "metadata": {},
   "outputs": [
    {
     "name": "stdout",
     "output_type": "stream",
     "text": [
      "status_in_digits    0     1  death_ratio\n",
      "t_stage                                 \n",
      "T1                157  1446         10.0\n",
      "T2                303  1483         17.0\n",
      "T3                116   417         22.0\n",
      "T4                 40    62         39.0\n",
      "\n",
      "-------------------------------------------------------------\n",
      "status_in_digits    0     1  death_ratio\n",
      "n_stage                                 \n",
      "N1                270  2462         10.0\n",
      "N2                165   655         20.0\n",
      "N3                181   291         38.0\n",
      "\n",
      "---------------------------------------------------------------\n",
      "status_in_digits    0     1  death_ratio\n",
      "6th_stage                               \n",
      "IIA                96  1209          7.0\n",
      "IIB               135   995         12.0\n",
      "IIIA              184   866         18.0\n",
      "IIIB               20    47         30.0\n",
      "IIIC              181   291         38.0\n"
     ]
    }
   ],
   "source": [
    "#alright.., next we want to see the various stages of the T, the N, the 6\n",
    "\n",
    "#let's get the data for all  this\n",
    "\n",
    "t_stage_data = pd.crosstab(bc_dataset_cp.t_stage, bc_dataset_cp.status_in_digits)\n",
    "t_stage_data['death_ratio'] = round((t_stage_data[0]/(t_stage_data[0] + t_stage_data[1]))*100)\n",
    "\n",
    "n_stage_data = pd.crosstab(bc_dataset_cp.n_stage, bc_dataset_cp.status_in_digits)\n",
    "n_stage_data['death_ratio'] = round((n_stage_data[0]/(n_stage_data[0] + n_stage_data[1]))*100)\n",
    "\n",
    "\n",
    "six_stage_data = pd.crosstab(bc_dataset_cp['6th_stage'], bc_dataset_cp.status_in_digits)\n",
    "six_stage_data['death_ratio'] = round((six_stage_data[0]/(six_stage_data[0] + six_stage_data[1]))*100)\n",
    "\n",
    "\n",
    "print(t_stage_data)\n",
    "print('\\n-------------------------------------------------------------')\n",
    "\n",
    "print(n_stage_data)\n",
    "print('\\n---------------------------------------------------------------')\n",
    "\n",
    "print(six_stage_data)"
   ]
  },
  {
   "cell_type": "code",
   "execution_count": 38,
   "id": "781905a5-6e9e-41f1-891e-a64f2546eef7",
   "metadata": {},
   "outputs": [
    {
     "data": {
      "image/png": "[encoded data removed]",
      "text/plain": [
       "<Figure size 1200x600 with 4 Axes>"
      ]
     },
     "metadata": {},
     "output_type": "display_data"
    }
   ],
   "source": [
    "#let's visualise this\n",
    "\n",
    "fig, axes = plt.subplots(2,2, sharey= True, figsize = (12, 6))\n",
    "\n",
    "sns.barplot(data = t_stage_data, x = t_stage_data.index, y = 'death_ratio', ax = axes[0,0])\n",
    "sns.barplot(data = n_stage_data, x = n_stage_data.index, y = 'death_ratio', ax= axes[0,1])\n",
    "sns.barplot(data = six_stage_data, x = six_stage_data.index, y = 'death_ratio', ax = axes[1,0])\n",
    "\n",
    "plt.subplots_adjust(wspace = 0.1, hspace = 0.25)\n",
    "\n",
    "plt.show()\n",
    "# axes[0,0] = sns.barplot(data = t_stage_data, x = t_stage_data.index, y = 'death_ratio')\n",
    "\n",
    "\n",
    "#observation: majority of people died in the highest stage of cancer\n",
    "#which is obvious though"
   ]
  },
  {
   "cell_type": "code",
   "execution_count": 39,
   "id": "124c5a02-46f8-42ef-9f02-96e237632e25",
   "metadata": {},
   "outputs": [
    {
     "data": {
      "text/plain": [
       "Index(['age', 't_stage', 'n_stage', '6th_stage', 'differentiate', 'grade',\n",
       "       'tumor_size', 'estrogen_status', 'progesterone_status',\n",
       "       'regional_node_examined', 'regional_node_positive', 'survival_months',\n",
       "       'status', 'status_in_digits', 'binned_age'],\n",
       "      dtype='object')"
      ]
     },
     "execution_count": 39,
     "metadata": {},
     "output_type": "execute_result"
    }
   ],
   "source": [
    "#let's look at other columns.., estrogen and progesterone or so\n",
    "\n",
    "\n",
    "bc_dataset_cp.columns"
   ]
  },
  {
   "cell_type": "code",
   "execution_count": 40,
   "id": "45ab7fba-c786-4d48-9a53-9cbc3aedbfbd",
   "metadata": {},
   "outputs": [
    {
     "name": "stdout",
     "output_type": "stream",
     "text": [
      "estrogen_status\n",
      "Negative     269\n",
      "Positive    3755\n",
      "Name: estrogen_status, dtype: int64\n",
      "\n",
      "\n",
      "---------------------------------------------------\n",
      "================================\n",
      "\n",
      "estrogen_status\n",
      "Negative    60.297398\n",
      "Positive    72.086019\n",
      "Name: survival_months, dtype: float64\n"
     ]
    }
   ],
   "source": [
    "print(bc_dataset_cp.groupby('estrogen_status')['estrogen_status'].count())\n",
    "print('\\n\\n---------------------------------------------------\\n================================\\n')\n",
    "print(bc_dataset_cp.groupby('estrogen_status')['survival_months'].mean())"
   ]
  },
  {
   "cell_type": "code",
   "execution_count": 41,
   "id": "0237efa4-9196-4f61-8f90-de83ceb20cc0",
   "metadata": {},
   "outputs": [
    {
     "name": "stdout",
     "output_type": "stream",
     "text": [
      "estrogen_status\n",
      "Negative    72.023697\n",
      "Positive    74.375138\n",
      "Name: survival_months, dtype: float64\n",
      "\n",
      "\n"
     ]
    },
    {
     "data": {
      "image/png": "[encoded data removed]",
      "text/plain": [
       "<Figure size 640x480 with 1 Axes>"
      ]
     },
     "metadata": {},
     "output_type": "display_data"
    }
   ],
   "source": [
    "sns.boxplot(data = bc_dataset_cp.sort_values(by = 'survival_months', ascending = False).head(top_95), \n",
    "            x = 'estrogen_status', y = 'survival_months')\n",
    "\n",
    "\n",
    "print(bc_dataset_cp.sort_values(by = 'survival_months', ascending = False).head(top_95).groupby('estrogen_status')['survival_months'].mean())\n",
    "print('\\n')\n",
    "\n",
    "#the estrogen status have no relationship with dead or alive.."
   ]
  },
  {
   "cell_type": "code",
   "execution_count": 42,
   "id": "e8a769a3-988e-4e36-8d1f-f875bb90c7de",
   "metadata": {},
   "outputs": [
    {
     "data": {
      "text/plain": [
       "array(['Positive', 'Negative'], dtype=object)"
      ]
     },
     "execution_count": 42,
     "metadata": {},
     "output_type": "execute_result"
    }
   ],
   "source": [
    "#let's check the progresterone status\n",
    "\n",
    "bc_dataset_cp.progesterone_status.unique()"
   ]
  },
  {
   "cell_type": "code",
   "execution_count": 43,
   "id": "6d2e0f88-e78c-4f0f-ad44-97067045e5aa",
   "metadata": {},
   "outputs": [
    {
     "data": {
      "text/plain": [
       "<Axes: >"
      ]
     },
     "execution_count": 43,
     "metadata": {},
     "output_type": "execute_result"
    },
    {
     "data": {
      "image/png": "[encoded data removed]",
      "text/plain": [
       "<Figure size 640x480 with 1 Axes>"
      ]
     },
     "metadata": {},
     "output_type": "display_data"
    }
   ],
   "source": [
    "a = pd.crosstab(bc_dataset_cp.progesterone_status, bc_dataset_cp.status).reset_index()\n",
    "\n",
    "a['dead_percentage'] = round((a['Dead']/(a['Dead'] + a['Alive'])) * 100, 2)\n",
    "\n",
    "a['dead_percentage'].plot(kind = 'bar')\n",
    "\n",
    "#so, we see that the percentage of the negatives is quite high, as compared to positive .., let's pick it"
   ]
  },
  {
   "cell_type": "code",
   "execution_count": 45,
   "id": "51cf6a7c-48f5-4147-bf67-6f9af4274ad1",
   "metadata": {},
   "outputs": [
    {
     "data": {
      "text/html": [
       "<div>\n",
       "<style scoped>\n",
       "    .dataframe tbody tr th:only-of-type {\n",
       "        vertical-align: middle;\n",
       "    }\n",
       "\n",
       "    .dataframe tbody tr th {\n",
       "        vertical-align: top;\n",
       "    }\n",
       "\n",
       "    .dataframe thead th {\n",
       "        text-align: right;\n",
       "    }\n",
       "</style>\n",
       "<table border=\"1\" class=\"dataframe\">\n",
       "  <thead>\n",
       "    <tr style=\"text-align: right;\">\n",
       "      <th></th>\n",
       "      <th>age</th>\n",
       "      <th>t_stage</th>\n",
       "      <th>n_stage</th>\n",
       "      <th>6th_stage</th>\n",
       "      <th>differentiate</th>\n",
       "      <th>grade</th>\n",
       "      <th>tumor_size</th>\n",
       "      <th>estrogen_status</th>\n",
       "      <th>progesterone_status</th>\n",
       "      <th>regional_node_examined</th>\n",
       "      <th>regional_node_positive</th>\n",
       "      <th>survival_months</th>\n",
       "      <th>status</th>\n",
       "      <th>status_in_digits</th>\n",
       "      <th>binned_age</th>\n",
       "    </tr>\n",
       "  </thead>\n",
       "  <tbody>\n",
       "    <tr>\n",
       "      <th>0</th>\n",
       "      <td>68</td>\n",
       "      <td>T1</td>\n",
       "      <td>N1</td>\n",
       "      <td>IIA</td>\n",
       "      <td>Poorly differentiated</td>\n",
       "      <td>3</td>\n",
       "      <td>4</td>\n",
       "      <td>Positive</td>\n",
       "      <td>Positive</td>\n",
       "      <td>24</td>\n",
       "      <td>1</td>\n",
       "      <td>60</td>\n",
       "      <td>Alive</td>\n",
       "      <td>1</td>\n",
       "      <td>60+</td>\n",
       "    </tr>\n",
       "    <tr>\n",
       "      <th>1</th>\n",
       "      <td>50</td>\n",
       "      <td>T2</td>\n",
       "      <td>N2</td>\n",
       "      <td>IIIA</td>\n",
       "      <td>Moderately differentiated</td>\n",
       "      <td>2</td>\n",
       "      <td>35</td>\n",
       "      <td>Positive</td>\n",
       "      <td>Positive</td>\n",
       "      <td>14</td>\n",
       "      <td>5</td>\n",
       "      <td>62</td>\n",
       "      <td>Alive</td>\n",
       "      <td>1</td>\n",
       "      <td>40-50</td>\n",
       "    </tr>\n",
       "    <tr>\n",
       "      <th>2</th>\n",
       "      <td>58</td>\n",
       "      <td>T3</td>\n",
       "      <td>N3</td>\n",
       "      <td>IIIC</td>\n",
       "      <td>Moderately differentiated</td>\n",
       "      <td>2</td>\n",
       "      <td>63</td>\n",
       "      <td>Positive</td>\n",
       "      <td>Positive</td>\n",
       "      <td>14</td>\n",
       "      <td>7</td>\n",
       "      <td>75</td>\n",
       "      <td>Alive</td>\n",
       "      <td>1</td>\n",
       "      <td>50-60</td>\n",
       "    </tr>\n",
       "  </tbody>\n",
       "</table>\n",
       "</div>"
      ],
      "text/plain": [
       "   age t_stage n_stage 6th_stage              differentiate grade  tumor_size  \\\n",
       "0   68      T1      N1       IIA      Poorly differentiated     3           4   \n",
       "1   50      T2      N2      IIIA  Moderately differentiated     2          35   \n",
       "2   58      T3      N3      IIIC  Moderately differentiated     2          63   \n",
       "\n",
       "  estrogen_status progesterone_status  regional_node_examined  \\\n",
       "0        Positive            Positive                      24   \n",
       "1        Positive            Positive                      14   \n",
       "2        Positive            Positive                      14   \n",
       "\n",
       "   regional_node_positive  survival_months status  status_in_digits binned_age  \n",
       "0                       1               60  Alive                 1        60+  \n",
       "1                       5               62  Alive                 1      40-50  \n",
       "2                       7               75  Alive                 1      50-60  "
      ]
     },
     "execution_count": 45,
     "metadata": {},
     "output_type": "execute_result"
    }
   ],
   "source": [
    "bc_dataset_cp.head(3)"
   ]
  },
  {
   "cell_type": "code",
   "execution_count": 46,
   "id": "de0cf243-dc95-44d5-946c-329392bfe2b6",
   "metadata": {},
   "outputs": [],
   "source": [
    "bc_dataset_cp['regional_node_bins'] = pd.cut(bc_dataset_cp.regional_node_positive, labels= ['1-11', '11-21', '21-31', '31-41', '41+'], bins = 5)"
   ]
  },
  {
   "cell_type": "code",
   "execution_count": 47,
   "id": "d17f9a46-92da-4dbd-a6b4-083086272cfe",
   "metadata": {},
   "outputs": [],
   "source": [
    "f = pd.crosstab(bc_dataset_cp['regional_node_bins'], bc_dataset_cp['status_in_digits']) #let's see the percentage of those that are dead, for each category of regional nodes\n",
    "f['death_ratio'] =round((f[0]/(f[0] + f[1]))*100, 2)"
   ]
  },
  {
   "cell_type": "code",
   "execution_count": 48,
   "id": "7549a8ac-8027-4b2d-bc2e-ab94445232de",
   "metadata": {},
   "outputs": [
    {
     "data": {
      "text/plain": [
       "<Axes: xlabel='regional_node_bins'>"
      ]
     },
     "execution_count": 48,
     "metadata": {},
     "output_type": "execute_result"
    },
    {
     "data": {
      "image/png": "[encoded data removed]",
      "text/plain": [
       "<Figure size 640x480 with 1 Axes>"
      ]
     },
     "metadata": {},
     "output_type": "display_data"
    }
   ],
   "source": [
    "f['death_ratio'].plot(kind = 'bar')\n",
    "\n",
    "#I just see that, as the regional nodes increase you are more likely to die"
   ]
  },
  {
   "cell_type": "code",
   "execution_count": 49,
   "id": "a92e7b04-ec34-4dc0-bd56-694c8a69893b",
   "metadata": {},
   "outputs": [
    {
     "data": {
      "text/plain": [
       "array(['3', '2', '1', ' anaplastic; Grade IV'], dtype=object)"
      ]
     },
     "execution_count": 49,
     "metadata": {},
     "output_type": "execute_result"
    }
   ],
   "source": [
    "bc_dataset_cp.grade.unique() #alright.., let's see if there is a relationship for this grade alright"
   ]
  },
  {
   "cell_type": "code",
   "execution_count": 50,
   "id": "d3236a77-e130-4c5e-9a5e-0d0645b0f06c",
   "metadata": {},
   "outputs": [],
   "source": [
    "bc_dataset_cp.grade = bc_dataset_cp.grade.apply(lambda x: 4 if x == ' anaplastic; Grade IV' else x)"
   ]
  },
  {
   "cell_type": "code",
   "execution_count": 51,
   "id": "e1d95f38-dcbb-4a2d-a7da-96095041f388",
   "metadata": {},
   "outputs": [],
   "source": [
    "bc_dataset_cp.grade = bc_dataset_cp.grade.astype(int)"
   ]
  },
  {
   "cell_type": "code",
   "execution_count": 52,
   "id": "ecd90f79-237f-409e-9ca7-f79f7451a03f",
   "metadata": {},
   "outputs": [
    {
     "data": {
      "text/plain": [
       "<Axes: xlabel='grade'>"
      ]
     },
     "execution_count": 52,
     "metadata": {},
     "output_type": "execute_result"
    },
    {
     "data": {
      "image/png": "[encoded data removed]",
      "text/plain": [
       "<Figure size 640x480 with 1 Axes>"
      ]
     },
     "metadata": {},
     "output_type": "display_data"
    }
   ],
   "source": [
    "#let's get the crosstab of this\n",
    "\n",
    "g = pd.crosstab(bc_dataset_cp.grade, bc_dataset_cp.status_in_digits)\n",
    "\n",
    "g['ratio_of_death'] = round(((g[0])/(g[0]+g[1]))* 100, 2)\n",
    "\n",
    "g['ratio_of_death'].plot(kind = 'bar')\n",
    "\n",
    "#alright.., so grade is a clear indicator"
   ]
  },
  {
   "cell_type": "markdown",
   "id": "a399a22b-6a79-420b-818a-bae81cc049f5",
   "metadata": {},
   "source": [
    "## MACHINE LEARNING FOR THIS DATA"
   ]
  },
  {
   "cell_type": "code",
   "execution_count": 53,
   "id": "05a4bc4b-0fee-413f-b006-77465fc462e3",
   "metadata": {},
   "outputs": [
    {
     "data": {
      "text/html": [
       "<div>\n",
       "<style scoped>\n",
       "    .dataframe tbody tr th:only-of-type {\n",
       "        vertical-align: middle;\n",
       "    }\n",
       "\n",
       "    .dataframe tbody tr th {\n",
       "        vertical-align: top;\n",
       "    }\n",
       "\n",
       "    .dataframe thead th {\n",
       "        text-align: right;\n",
       "    }\n",
       "</style>\n",
       "<table border=\"1\" class=\"dataframe\">\n",
       "  <thead>\n",
       "    <tr style=\"text-align: right;\">\n",
       "      <th></th>\n",
       "      <th>age</th>\n",
       "      <th>t_stage</th>\n",
       "      <th>n_stage</th>\n",
       "      <th>6th_stage</th>\n",
       "      <th>differentiate</th>\n",
       "      <th>grade</th>\n",
       "      <th>tumor_size</th>\n",
       "      <th>estrogen_status</th>\n",
       "      <th>progesterone_status</th>\n",
       "      <th>regional_node_examined</th>\n",
       "      <th>regional_node_positive</th>\n",
       "      <th>survival_months</th>\n",
       "      <th>status</th>\n",
       "      <th>status_in_digits</th>\n",
       "      <th>binned_age</th>\n",
       "      <th>regional_node_bins</th>\n",
       "    </tr>\n",
       "  </thead>\n",
       "  <tbody>\n",
       "    <tr>\n",
       "      <th>0</th>\n",
       "      <td>68</td>\n",
       "      <td>T1</td>\n",
       "      <td>N1</td>\n",
       "      <td>IIA</td>\n",
       "      <td>Poorly differentiated</td>\n",
       "      <td>3</td>\n",
       "      <td>4</td>\n",
       "      <td>Positive</td>\n",
       "      <td>Positive</td>\n",
       "      <td>24</td>\n",
       "      <td>1</td>\n",
       "      <td>60</td>\n",
       "      <td>Alive</td>\n",
       "      <td>1</td>\n",
       "      <td>60+</td>\n",
       "      <td>1-11</td>\n",
       "    </tr>\n",
       "    <tr>\n",
       "      <th>1</th>\n",
       "      <td>50</td>\n",
       "      <td>T2</td>\n",
       "      <td>N2</td>\n",
       "      <td>IIIA</td>\n",
       "      <td>Moderately differentiated</td>\n",
       "      <td>2</td>\n",
       "      <td>35</td>\n",
       "      <td>Positive</td>\n",
       "      <td>Positive</td>\n",
       "      <td>14</td>\n",
       "      <td>5</td>\n",
       "      <td>62</td>\n",
       "      <td>Alive</td>\n",
       "      <td>1</td>\n",
       "      <td>40-50</td>\n",
       "      <td>1-11</td>\n",
       "    </tr>\n",
       "  </tbody>\n",
       "</table>\n",
       "</div>"
      ],
      "text/plain": [
       "   age t_stage n_stage 6th_stage              differentiate  grade  \\\n",
       "0   68      T1      N1       IIA      Poorly differentiated      3   \n",
       "1   50      T2      N2      IIIA  Moderately differentiated      2   \n",
       "\n",
       "   tumor_size estrogen_status progesterone_status  regional_node_examined  \\\n",
       "0           4        Positive            Positive                      24   \n",
       "1          35        Positive            Positive                      14   \n",
       "\n",
       "   regional_node_positive  survival_months status  status_in_digits  \\\n",
       "0                       1               60  Alive                 1   \n",
       "1                       5               62  Alive                 1   \n",
       "\n",
       "  binned_age regional_node_bins  \n",
       "0        60+               1-11  \n",
       "1      40-50               1-11  "
      ]
     },
     "execution_count": 53,
     "metadata": {},
     "output_type": "execute_result"
    }
   ],
   "source": [
    "bc_dataset_cp.head(2)"
   ]
  },
  {
   "cell_type": "code",
   "execution_count": 54,
   "id": "779e0705-3aad-4a36-8516-5895cc6dc69f",
   "metadata": {},
   "outputs": [],
   "source": [
    "#let's drop some columns and focus on the others\n",
    "\n",
    "columns_to_drop = ['differentiate', 'estrogen_status', 'regional_node_examined', 'survival_months', 'status', 'binned_age', 'regional_node_bins']"
   ]
  },
  {
   "cell_type": "code",
   "execution_count": 55,
   "id": "44d1f504-c09a-48c2-a18a-603388372990",
   "metadata": {},
   "outputs": [],
   "source": [
    "bc_dataset_cp.drop(columns_to_drop, axis = 1, inplace = True)"
   ]
  },
  {
   "cell_type": "code",
   "execution_count": 56,
   "id": "0ece7f73-c346-47c4-8068-0bc4cf85c8f8",
   "metadata": {},
   "outputs": [
    {
     "data": {
      "text/html": [
       "<div>\n",
       "<style scoped>\n",
       "    .dataframe tbody tr th:only-of-type {\n",
       "        vertical-align: middle;\n",
       "    }\n",
       "\n",
       "    .dataframe tbody tr th {\n",
       "        vertical-align: top;\n",
       "    }\n",
       "\n",
       "    .dataframe thead th {\n",
       "        text-align: right;\n",
       "    }\n",
       "</style>\n",
       "<table border=\"1\" class=\"dataframe\">\n",
       "  <thead>\n",
       "    <tr style=\"text-align: right;\">\n",
       "      <th></th>\n",
       "      <th>age</th>\n",
       "      <th>t_stage</th>\n",
       "      <th>n_stage</th>\n",
       "      <th>6th_stage</th>\n",
       "      <th>grade</th>\n",
       "      <th>tumor_size</th>\n",
       "      <th>progesterone_status</th>\n",
       "      <th>regional_node_positive</th>\n",
       "      <th>status_in_digits</th>\n",
       "    </tr>\n",
       "  </thead>\n",
       "  <tbody>\n",
       "    <tr>\n",
       "      <th>0</th>\n",
       "      <td>68</td>\n",
       "      <td>T1</td>\n",
       "      <td>N1</td>\n",
       "      <td>IIA</td>\n",
       "      <td>3</td>\n",
       "      <td>4</td>\n",
       "      <td>Positive</td>\n",
       "      <td>1</td>\n",
       "      <td>1</td>\n",
       "    </tr>\n",
       "    <tr>\n",
       "      <th>1</th>\n",
       "      <td>50</td>\n",
       "      <td>T2</td>\n",
       "      <td>N2</td>\n",
       "      <td>IIIA</td>\n",
       "      <td>2</td>\n",
       "      <td>35</td>\n",
       "      <td>Positive</td>\n",
       "      <td>5</td>\n",
       "      <td>1</td>\n",
       "    </tr>\n",
       "    <tr>\n",
       "      <th>2</th>\n",
       "      <td>58</td>\n",
       "      <td>T3</td>\n",
       "      <td>N3</td>\n",
       "      <td>IIIC</td>\n",
       "      <td>2</td>\n",
       "      <td>63</td>\n",
       "      <td>Positive</td>\n",
       "      <td>7</td>\n",
       "      <td>1</td>\n",
       "    </tr>\n",
       "  </tbody>\n",
       "</table>\n",
       "</div>"
      ],
      "text/plain": [
       "   age t_stage n_stage 6th_stage  grade  tumor_size progesterone_status  \\\n",
       "0   68      T1      N1       IIA      3           4            Positive   \n",
       "1   50      T2      N2      IIIA      2          35            Positive   \n",
       "2   58      T3      N3      IIIC      2          63            Positive   \n",
       "\n",
       "   regional_node_positive  status_in_digits  \n",
       "0                       1                 1  \n",
       "1                       5                 1  \n",
       "2                       7                 1  "
      ]
     },
     "execution_count": 56,
     "metadata": {},
     "output_type": "execute_result"
    }
   ],
   "source": [
    "bc_dataset_cp.head(3)"
   ]
  },
  {
   "cell_type": "code",
   "execution_count": 57,
   "id": "613c45ed-c8bd-4c73-a72f-d8e088388be4",
   "metadata": {},
   "outputs": [],
   "source": [
    "#alright.., let's make the progesterone_status be 1 for positive and 0 for negative\n",
    "\n",
    "bc_dataset_cp['progesterone_status'] = bc_dataset_cp['progesterone_status'].apply(lambda x: 1 if x == 'Positive' else 0)"
   ]
  },
  {
   "cell_type": "code",
   "execution_count": 58,
   "id": "e9dbe28b-2db9-46a6-89fd-20acef7b57ed",
   "metadata": {},
   "outputs": [
    {
     "data": {
      "text/plain": [
       "array([1, 0], dtype=int64)"
      ]
     },
     "execution_count": 58,
     "metadata": {},
     "output_type": "execute_result"
    }
   ],
   "source": [
    "bc_dataset_cp.progesterone_status.unique()"
   ]
  },
  {
   "cell_type": "code",
   "execution_count": 59,
   "id": "8ed0b3db-6273-417b-8c79-cc6aa9fc7ff9",
   "metadata": {},
   "outputs": [
    {
     "data": {
      "text/html": [
       "<div>\n",
       "<style scoped>\n",
       "    .dataframe tbody tr th:only-of-type {\n",
       "        vertical-align: middle;\n",
       "    }\n",
       "\n",
       "    .dataframe tbody tr th {\n",
       "        vertical-align: top;\n",
       "    }\n",
       "\n",
       "    .dataframe thead th {\n",
       "        text-align: right;\n",
       "    }\n",
       "</style>\n",
       "<table border=\"1\" class=\"dataframe\">\n",
       "  <thead>\n",
       "    <tr style=\"text-align: right;\">\n",
       "      <th></th>\n",
       "      <th>age</th>\n",
       "      <th>t_stage</th>\n",
       "      <th>n_stage</th>\n",
       "      <th>6th_stage</th>\n",
       "      <th>grade</th>\n",
       "      <th>tumor_size</th>\n",
       "      <th>progesterone_status</th>\n",
       "      <th>regional_node_positive</th>\n",
       "      <th>status_in_digits</th>\n",
       "    </tr>\n",
       "  </thead>\n",
       "  <tbody>\n",
       "    <tr>\n",
       "      <th>0</th>\n",
       "      <td>68</td>\n",
       "      <td>T1</td>\n",
       "      <td>N1</td>\n",
       "      <td>IIA</td>\n",
       "      <td>3</td>\n",
       "      <td>4</td>\n",
       "      <td>1</td>\n",
       "      <td>1</td>\n",
       "      <td>1</td>\n",
       "    </tr>\n",
       "    <tr>\n",
       "      <th>1</th>\n",
       "      <td>50</td>\n",
       "      <td>T2</td>\n",
       "      <td>N2</td>\n",
       "      <td>IIIA</td>\n",
       "      <td>2</td>\n",
       "      <td>35</td>\n",
       "      <td>1</td>\n",
       "      <td>5</td>\n",
       "      <td>1</td>\n",
       "    </tr>\n",
       "    <tr>\n",
       "      <th>2</th>\n",
       "      <td>58</td>\n",
       "      <td>T3</td>\n",
       "      <td>N3</td>\n",
       "      <td>IIIC</td>\n",
       "      <td>2</td>\n",
       "      <td>63</td>\n",
       "      <td>1</td>\n",
       "      <td>7</td>\n",
       "      <td>1</td>\n",
       "    </tr>\n",
       "    <tr>\n",
       "      <th>3</th>\n",
       "      <td>58</td>\n",
       "      <td>T1</td>\n",
       "      <td>N1</td>\n",
       "      <td>IIA</td>\n",
       "      <td>3</td>\n",
       "      <td>18</td>\n",
       "      <td>1</td>\n",
       "      <td>1</td>\n",
       "      <td>1</td>\n",
       "    </tr>\n",
       "    <tr>\n",
       "      <th>4</th>\n",
       "      <td>47</td>\n",
       "      <td>T2</td>\n",
       "      <td>N1</td>\n",
       "      <td>IIB</td>\n",
       "      <td>3</td>\n",
       "      <td>41</td>\n",
       "      <td>1</td>\n",
       "      <td>1</td>\n",
       "      <td>1</td>\n",
       "    </tr>\n",
       "  </tbody>\n",
       "</table>\n",
       "</div>"
      ],
      "text/plain": [
       "   age t_stage n_stage 6th_stage  grade  tumor_size  progesterone_status  \\\n",
       "0   68      T1      N1       IIA      3           4                    1   \n",
       "1   50      T2      N2      IIIA      2          35                    1   \n",
       "2   58      T3      N3      IIIC      2          63                    1   \n",
       "3   58      T1      N1       IIA      3          18                    1   \n",
       "4   47      T2      N1       IIB      3          41                    1   \n",
       "\n",
       "   regional_node_positive  status_in_digits  \n",
       "0                       1                 1  \n",
       "1                       5                 1  \n",
       "2                       7                 1  \n",
       "3                       1                 1  \n",
       "4                       1                 1  "
      ]
     },
     "execution_count": 59,
     "metadata": {},
     "output_type": "execute_result"
    }
   ],
   "source": [
    "#let's use a column transformer to transform the columns that need to be numerical alright, before that we have to label encode them\n",
    "\n",
    "bc_dataset_cp.head()"
   ]
  },
  {
   "cell_type": "code",
   "execution_count": 60,
   "id": "5d0f1021-ab84-416d-b210-cc91fe8650c5",
   "metadata": {},
   "outputs": [],
   "source": [
    "from sklearn.preprocessing import OrdinalEncoder\n",
    "\n",
    "oe = OrdinalEncoder()"
   ]
  },
  {
   "cell_type": "code",
   "execution_count": 62,
   "id": "9e8825eb-7699-435a-9ad8-110440dad57e",
   "metadata": {},
   "outputs": [],
   "source": [
    "for column in ['t_stage', 'n_stage', '6th_stage']:\n",
    "    bc_dataset_cp[column] = oe.fit_transform(bc_dataset_cp[column].values.reshape(-1, 1))"
   ]
  },
  {
   "cell_type": "code",
   "execution_count": 63,
   "id": "f9d88ec6-f61f-4833-8bb3-de43635bcf4e",
   "metadata": {},
   "outputs": [
    {
     "data": {
      "text/html": [
       "<div>\n",
       "<style scoped>\n",
       "    .dataframe tbody tr th:only-of-type {\n",
       "        vertical-align: middle;\n",
       "    }\n",
       "\n",
       "    .dataframe tbody tr th {\n",
       "        vertical-align: top;\n",
       "    }\n",
       "\n",
       "    .dataframe thead th {\n",
       "        text-align: right;\n",
       "    }\n",
       "</style>\n",
       "<table border=\"1\" class=\"dataframe\">\n",
       "  <thead>\n",
       "    <tr style=\"text-align: right;\">\n",
       "      <th></th>\n",
       "      <th>age</th>\n",
       "      <th>t_stage</th>\n",
       "      <th>n_stage</th>\n",
       "      <th>6th_stage</th>\n",
       "      <th>grade</th>\n",
       "      <th>tumor_size</th>\n",
       "      <th>progesterone_status</th>\n",
       "      <th>regional_node_positive</th>\n",
       "      <th>status_in_digits</th>\n",
       "    </tr>\n",
       "  </thead>\n",
       "  <tbody>\n",
       "    <tr>\n",
       "      <th>0</th>\n",
       "      <td>68</td>\n",
       "      <td>0.0</td>\n",
       "      <td>0.0</td>\n",
       "      <td>0.0</td>\n",
       "      <td>3</td>\n",
       "      <td>4</td>\n",
       "      <td>1</td>\n",
       "      <td>1</td>\n",
       "      <td>1</td>\n",
       "    </tr>\n",
       "    <tr>\n",
       "      <th>1</th>\n",
       "      <td>50</td>\n",
       "      <td>1.0</td>\n",
       "      <td>1.0</td>\n",
       "      <td>2.0</td>\n",
       "      <td>2</td>\n",
       "      <td>35</td>\n",
       "      <td>1</td>\n",
       "      <td>5</td>\n",
       "      <td>1</td>\n",
       "    </tr>\n",
       "    <tr>\n",
       "      <th>2</th>\n",
       "      <td>58</td>\n",
       "      <td>2.0</td>\n",
       "      <td>2.0</td>\n",
       "      <td>4.0</td>\n",
       "      <td>2</td>\n",
       "      <td>63</td>\n",
       "      <td>1</td>\n",
       "      <td>7</td>\n",
       "      <td>1</td>\n",
       "    </tr>\n",
       "  </tbody>\n",
       "</table>\n",
       "</div>"
      ],
      "text/plain": [
       "   age  t_stage  n_stage  6th_stage  grade  tumor_size  progesterone_status  \\\n",
       "0   68      0.0      0.0        0.0      3           4                    1   \n",
       "1   50      1.0      1.0        2.0      2          35                    1   \n",
       "2   58      2.0      2.0        4.0      2          63                    1   \n",
       "\n",
       "   regional_node_positive  status_in_digits  \n",
       "0                       1                 1  \n",
       "1                       5                 1  \n",
       "2                       7                 1  "
      ]
     },
     "execution_count": 63,
     "metadata": {},
     "output_type": "execute_result"
    }
   ],
   "source": [
    "bc_dataset_cp.head(3)"
   ]
  },
  {
   "cell_type": "code",
   "execution_count": 65,
   "id": "443cfeba-df99-4e10-bda3-0730abb2e6b2",
   "metadata": {},
   "outputs": [],
   "source": [
    "#alright.., let's ignore this and continue with what we need regardless okay....\n",
    "\n",
    "X = bc_dataset_cp.drop(columns = {'status_in_digits'})\n",
    "y = bc_dataset_cp['status_in_digits']"
   ]
  },
  {
   "cell_type": "code",
   "execution_count": 66,
   "id": "29a6cf22-f45c-4f21-a265-282e67b31ab0",
   "metadata": {},
   "outputs": [],
   "source": [
    "from sklearn.model_selection import train_test_split"
   ]
  },
  {
   "cell_type": "code",
   "execution_count": 67,
   "id": "a0f898d8-265d-43da-9c96-78a80a96d0ba",
   "metadata": {},
   "outputs": [],
   "source": [
    "X_train, X_test, y_train, y_test = train_test_split(X, y, test_size= 0.2, stratify= y, random_state= 10)"
   ]
  },
  {
   "cell_type": "code",
   "execution_count": 69,
   "id": "24c08f56-b882-46a3-b397-410234c59a09",
   "metadata": {},
   "outputs": [],
   "source": [
    "#let's import forest and do our analysis with it\n",
    "\n",
    "from sklearn.tree import DecisionTreeClassifier"
   ]
  },
  {
   "cell_type": "code",
   "execution_count": 70,
   "id": "217f2a2d-cec9-41f9-bfac-c56417920932",
   "metadata": {},
   "outputs": [],
   "source": [
    "model = DecisionTreeClassifier(criterion = 'gini')"
   ]
  },
  {
   "cell_type": "code",
   "execution_count": 71,
   "id": "0db63a6d-e19d-4e17-82d3-3224a31b093f",
   "metadata": {},
   "outputs": [
    {
     "data": {
      "text/html": [
       "<style>#sk-container-id-1 {color: black;}#sk-container-id-1 pre{padding: 0;}#sk-container-id-1 div.sk-toggleable {background-color: white;}#sk-container-id-1 label.sk-toggleable__label {cursor: pointer;display: block;width: 100%;margin-bottom: 0;padding: 0.3em;box-sizing: border-box;text-align: center;}#sk-container-id-1 label.sk-toggleable__label-arrow:before {content: \"▸\";float: left;margin-right: 0.25em;color: #696969;}#sk-container-id-1 label.sk-toggleable__label-arrow:hover:before {color: black;}#sk-container-id-1 div.sk-estimator:hover label.sk-toggleable__label-arrow:before {color: black;}#sk-container-id-1 div.sk-toggleable__content {max-height: 0;max-width: 0;overflow: hidden;text-align: left;background-color: #f0f8ff;}#sk-container-id-1 div.sk-toggleable__content pre {margin: 0.2em;color: black;border-radius: 0.25em;background-color: #f0f8ff;}#sk-container-id-1 input.sk-toggleable__control:checked~div.sk-toggleable__content {max-height: 200px;max-width: 100%;overflow: auto;}#sk-container-id-1 input.sk-toggleable__control:checked~label.sk-toggleable__label-arrow:before {content: \"▾\";}#sk-container-id-1 div.sk-estimator input.sk-toggleable__control:checked~label.sk-toggleable__label {background-color: #d4ebff;}#sk-container-id-1 div.sk-label input.sk-toggleable__control:checked~label.sk-toggleable__label {background-color: #d4ebff;}#sk-container-id-1 input.sk-hidden--visually {border: 0;clip: rect(1px 1px 1px 1px);clip: rect(1px, 1px, 1px, 1px);height: 1px;margin: -1px;overflow: hidden;padding: 0;position: absolute;width: 1px;}#sk-container-id-1 div.sk-estimator {font-family: monospace;background-color: #f0f8ff;border: 1px dotted black;border-radius: 0.25em;box-sizing: border-box;margin-bottom: 0.5em;}#sk-container-id-1 div.sk-estimator:hover {background-color: #d4ebff;}#sk-container-id-1 div.sk-parallel-item::after {content: \"\";width: 100%;border-bottom: 1px solid gray;flex-grow: 1;}#sk-container-id-1 div.sk-label:hover label.sk-toggleable__label {background-color: #d4ebff;}#sk-container-id-1 div.sk-serial::before {content: \"\";position: absolute;border-left: 1px solid gray;box-sizing: border-box;top: 0;bottom: 0;left: 50%;z-index: 0;}#sk-container-id-1 div.sk-serial {display: flex;flex-direction: column;align-items: center;background-color: white;padding-right: 0.2em;padding-left: 0.2em;position: relative;}#sk-container-id-1 div.sk-item {position: relative;z-index: 1;}#sk-container-id-1 div.sk-parallel {display: flex;align-items: stretch;justify-content: center;background-color: white;position: relative;}#sk-container-id-1 div.sk-item::before, #sk-container-id-1 div.sk-parallel-item::before {content: \"\";position: absolute;border-left: 1px solid gray;box-sizing: border-box;top: 0;bottom: 0;left: 50%;z-index: -1;}#sk-container-id-1 div.sk-parallel-item {display: flex;flex-direction: column;z-index: 1;position: relative;background-color: white;}#sk-container-id-1 div.sk-parallel-item:first-child::after {align-self: flex-end;width: 50%;}#sk-container-id-1 div.sk-parallel-item:last-child::after {align-self: flex-start;width: 50%;}#sk-container-id-1 div.sk-parallel-item:only-child::after {width: 0;}#sk-container-id-1 div.sk-dashed-wrapped {border: 1px dashed gray;margin: 0 0.4em 0.5em 0.4em;box-sizing: border-box;padding-bottom: 0.4em;background-color: white;}#sk-container-id-1 div.sk-label label {font-family: monospace;font-weight: bold;display: inline-block;line-height: 1.2em;}#sk-container-id-1 div.sk-label-container {text-align: center;}#sk-container-id-1 div.sk-container {/* jupyter's `normalize.less` sets `[hidden] { display: none; }` but bootstrap.min.css set `[hidden] { display: none !important; }` so we also need the `!important` here to be able to override the default hidden behavior on the sphinx rendered scikit-learn.org. See: https://github.com/scikit-learn/scikit-learn/issues/21755 */display: inline-block !important;position: relative;}#sk-container-id-1 div.sk-text-repr-fallback {display: none;}</style><div id=\"sk-container-id-1\" class=\"sk-top-container\"><div class=\"sk-text-repr-fallback\"><pre>DecisionTreeClassifier()</pre><b>In a Jupyter environment, please rerun this cell to show the HTML representation or trust the notebook. <br />On GitHub, the HTML representation is unable to render, please try loading this page with nbviewer.org.</b></div><div class=\"sk-container\" hidden><div class=\"sk-item\"><div class=\"sk-estimator sk-toggleable\"><input class=\"sk-toggleable__control sk-hidden--visually\" id=\"sk-estimator-id-1\" type=\"checkbox\" checked><label for=\"sk-estimator-id-1\" class=\"sk-toggleable__label sk-toggleable__label-arrow\">DecisionTreeClassifier</label><div class=\"sk-toggleable__content\"><pre>DecisionTreeClassifier()</pre></div></div></div></div></div>"
      ],
      "text/plain": [
       "DecisionTreeClassifier()"
      ]
     },
     "execution_count": 71,
     "metadata": {},
     "output_type": "execute_result"
    }
   ],
   "source": [
    "model.fit(X_train, y_train)"
   ]
  },
  {
   "cell_type": "code",
   "execution_count": 72,
   "id": "d579c0f1-ede4-478e-a7cd-08ef06226cf5",
   "metadata": {},
   "outputs": [
    {
     "data": {
      "text/plain": [
       "0.7627329192546584"
      ]
     },
     "execution_count": 72,
     "metadata": {},
     "output_type": "execute_result"
    }
   ],
   "source": [
    "model.score(X_test, y_test)"
   ]
  },
  {
   "cell_type": "code",
   "execution_count": 73,
   "id": "d09ddc3d-90cf-4927-a043-5cb9cf8da9d4",
   "metadata": {},
   "outputs": [],
   "source": [
    "#let's try random forest\n",
    "\n",
    "from sklearn.ensemble import RandomForestClassifier"
   ]
  },
  {
   "cell_type": "code",
   "execution_count": 74,
   "id": "b02c9555-98b3-4749-9c9d-161a841e5181",
   "metadata": {},
   "outputs": [],
   "source": [
    "model_forest = RandomForestClassifier(n_estimators= 100, criterion= 'gini')"
   ]
  },
  {
   "cell_type": "code",
   "execution_count": 75,
   "id": "f578d8ba-dbf3-46f0-bf0b-19605e7faf08",
   "metadata": {},
   "outputs": [
    {
     "data": {
      "text/html": [
       "<style>#sk-container-id-2 {color: black;}#sk-container-id-2 pre{padding: 0;}#sk-container-id-2 div.sk-toggleable {background-color: white;}#sk-container-id-2 label.sk-toggleable__label {cursor: pointer;display: block;width: 100%;margin-bottom: 0;padding: 0.3em;box-sizing: border-box;text-align: center;}#sk-container-id-2 label.sk-toggleable__label-arrow:before {content: \"▸\";float: left;margin-right: 0.25em;color: #696969;}#sk-container-id-2 label.sk-toggleable__label-arrow:hover:before {color: black;}#sk-container-id-2 div.sk-estimator:hover label.sk-toggleable__label-arrow:before {color: black;}#sk-container-id-2 div.sk-toggleable__content {max-height: 0;max-width: 0;overflow: hidden;text-align: left;background-color: #f0f8ff;}#sk-container-id-2 div.sk-toggleable__content pre {margin: 0.2em;color: black;border-radius: 0.25em;background-color: #f0f8ff;}#sk-container-id-2 input.sk-toggleable__control:checked~div.sk-toggleable__content {max-height: 200px;max-width: 100%;overflow: auto;}#sk-container-id-2 input.sk-toggleable__control:checked~label.sk-toggleable__label-arrow:before {content: \"▾\";}#sk-container-id-2 div.sk-estimator input.sk-toggleable__control:checked~label.sk-toggleable__label {background-color: #d4ebff;}#sk-container-id-2 div.sk-label input.sk-toggleable__control:checked~label.sk-toggleable__label {background-color: #d4ebff;}#sk-container-id-2 input.sk-hidden--visually {border: 0;clip: rect(1px 1px 1px 1px);clip: rect(1px, 1px, 1px, 1px);height: 1px;margin: -1px;overflow: hidden;padding: 0;position: absolute;width: 1px;}#sk-container-id-2 div.sk-estimator {font-family: monospace;background-color: #f0f8ff;border: 1px dotted black;border-radius: 0.25em;box-sizing: border-box;margin-bottom: 0.5em;}#sk-container-id-2 div.sk-estimator:hover {background-color: #d4ebff;}#sk-container-id-2 div.sk-parallel-item::after {content: \"\";width: 100%;border-bottom: 1px solid gray;flex-grow: 1;}#sk-container-id-2 div.sk-label:hover label.sk-toggleable__label {background-color: #d4ebff;}#sk-container-id-2 div.sk-serial::before {content: \"\";position: absolute;border-left: 1px solid gray;box-sizing: border-box;top: 0;bottom: 0;left: 50%;z-index: 0;}#sk-container-id-2 div.sk-serial {display: flex;flex-direction: column;align-items: center;background-color: white;padding-right: 0.2em;padding-left: 0.2em;position: relative;}#sk-container-id-2 div.sk-item {position: relative;z-index: 1;}#sk-container-id-2 div.sk-parallel {display: flex;align-items: stretch;justify-content: center;background-color: white;position: relative;}#sk-container-id-2 div.sk-item::before, #sk-container-id-2 div.sk-parallel-item::before {content: \"\";position: absolute;border-left: 1px solid gray;box-sizing: border-box;top: 0;bottom: 0;left: 50%;z-index: -1;}#sk-container-id-2 div.sk-parallel-item {display: flex;flex-direction: column;z-index: 1;position: relative;background-color: white;}#sk-container-id-2 div.sk-parallel-item:first-child::after {align-self: flex-end;width: 50%;}#sk-container-id-2 div.sk-parallel-item:last-child::after {align-self: flex-start;width: 50%;}#sk-container-id-2 div.sk-parallel-item:only-child::after {width: 0;}#sk-container-id-2 div.sk-dashed-wrapped {border: 1px dashed gray;margin: 0 0.4em 0.5em 0.4em;box-sizing: border-box;padding-bottom: 0.4em;background-color: white;}#sk-container-id-2 div.sk-label label {font-family: monospace;font-weight: bold;display: inline-block;line-height: 1.2em;}#sk-container-id-2 div.sk-label-container {text-align: center;}#sk-container-id-2 div.sk-container {/* jupyter's `normalize.less` sets `[hidden] { display: none; }` but bootstrap.min.css set `[hidden] { display: none !important; }` so we also need the `!important` here to be able to override the default hidden behavior on the sphinx rendered scikit-learn.org. See: https://github.com/scikit-learn/scikit-learn/issues/21755 */display: inline-block !important;position: relative;}#sk-container-id-2 div.sk-text-repr-fallback {display: none;}</style><div id=\"sk-container-id-2\" class=\"sk-top-container\"><div class=\"sk-text-repr-fallback\"><pre>RandomForestClassifier()</pre><b>In a Jupyter environment, please rerun this cell to show the HTML representation or trust the notebook. <br />On GitHub, the HTML representation is unable to render, please try loading this page with nbviewer.org.</b></div><div class=\"sk-container\" hidden><div class=\"sk-item\"><div class=\"sk-estimator sk-toggleable\"><input class=\"sk-toggleable__control sk-hidden--visually\" id=\"sk-estimator-id-2\" type=\"checkbox\" checked><label for=\"sk-estimator-id-2\" class=\"sk-toggleable__label sk-toggleable__label-arrow\">RandomForestClassifier</label><div class=\"sk-toggleable__content\"><pre>RandomForestClassifier()</pre></div></div></div></div></div>"
      ],
      "text/plain": [
       "RandomForestClassifier()"
      ]
     },
     "execution_count": 75,
     "metadata": {},
     "output_type": "execute_result"
    }
   ],
   "source": [
    "model_forest.fit(X_train, y_train)"
   ]
  },
  {
   "cell_type": "code",
   "execution_count": 77,
   "id": "ca77b3c7-0f48-4f5e-babd-e9adf3d66cf8",
   "metadata": {},
   "outputs": [
    {
     "data": {
      "text/plain": [
       "0.8211180124223603"
      ]
     },
     "execution_count": 77,
     "metadata": {},
     "output_type": "execute_result"
    }
   ],
   "source": [
    "model_forest.score(X_test, y_test)\n",
    "\n",
    "#alright.., that's a whooping 82%.., let's use cross val and Shuffle split in the next cell"
   ]
  },
  {
   "cell_type": "code",
   "execution_count": 78,
   "id": "4a0e2115-6c49-47f0-ae54-695d82373b4a",
   "metadata": {},
   "outputs": [],
   "source": [
    "from sklearn.model_selection import ShuffleSplit\n",
    "from sklearn.model_selection import cross_val_score"
   ]
  },
  {
   "cell_type": "code",
   "execution_count": 79,
   "id": "b9e0a278-ddab-4b0a-a97b-fd85d7feb5ff",
   "metadata": {},
   "outputs": [],
   "source": [
    "cv = ShuffleSplit(n_splits = 5, test_size = 0.2, random_state= 0)"
   ]
  },
  {
   "cell_type": "code",
   "execution_count": 80,
   "id": "926bb86c-2520-45e9-9aa3-aeb84996376a",
   "metadata": {},
   "outputs": [
    {
     "data": {
      "text/plain": [
       "array([0.81242236, 0.82608696, 0.82111801, 0.81987578, 0.8       ])"
      ]
     },
     "execution_count": 80,
     "metadata": {},
     "output_type": "execute_result"
    }
   ],
   "source": [
    "cross_val_score(RandomForestClassifier(n_estimators = 100, criterion = 'gini'), X, y, cv = cv)"
   ]
  },
  {
   "cell_type": "code",
   "execution_count": 81,
   "id": "f5d5c41a-f05a-4616-81d0-a6e8f93a4016",
   "metadata": {},
   "outputs": [],
   "source": [
    "#alright.., this is nice.., let's stop here, so with this model, we are 80% sure of the survival status given these parameters"
   ]
  },
  {
   "cell_type": "code",
   "execution_count": null,
   "id": "a6e1a42f-aa28-4f40-ac11-18e400b02e5b",
   "metadata": {},
   "outputs": [],
   "source": []
  }
 ],
 "metadata": {
  "kernelspec": {
   "display_name": "Python 3 (ipykernel)",
   "language": "python",
   "name": "python3"
  },
  "language_info": {
   "codemirror_mode": {
    "name": "ipython",
    "version": 3
   },
   "file_extension": ".py",
   "mimetype": "text/x-python",
   "name": "python",
   "nbconvert_exporter": "python",
   "pygments_lexer": "ipython3",
   "version": "3.11.4"
  }
 },
 "nbformat": 4,
 "nbformat_minor": 5
}

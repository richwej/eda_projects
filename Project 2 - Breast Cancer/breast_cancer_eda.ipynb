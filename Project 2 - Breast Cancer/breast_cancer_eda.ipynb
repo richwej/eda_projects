{
 "cells": [
  {
   "cell_type": "markdown",
   "id": "bba941b4-2782-4923-bbbf-7bc509fd3658",
   "metadata": {},
   "source": [
    "<h1>A Project on Breast Cancer Diagnostics - To get certain insights</h1>"
   ]
  },
  {
   "cell_type": "markdown",
   "id": "b67cef03-afe5-4ca7-8d8a-5b65451db9b9",
   "metadata": {},
   "source": [
    "### Import Relevant Libraries"
   ]
  },
  {
   "cell_type": "code",
   "execution_count": 3,
   "id": "2176083b-add9-4073-ba80-cd1f89407b3c",
   "metadata": {},
   "outputs": [],
   "source": [
    "import numpy as np\n",
    "import pandas as pd\n",
    "import matplotlib.pyplot as plt\n",
    "import seaborn as sns\n",
    "import requests\n",
    "from bs4 import BeautifulSoup\n",
    "from datetime import datetime"
   ]
  },
  {
   "cell_type": "code",
   "execution_count": 4,
   "id": "fc29c457-f824-4192-bbf1-038aee440a68",
   "metadata": {},
   "outputs": [],
   "source": [
    "#Load our Dataset\n",
    "\n",
    "bc_dataset = pd.read_csv(\"Breast_Cancer.csv\", encoding = \"ISO-8859-1\")"
   ]
  },
  {
   "cell_type": "code",
   "execution_count": 7,
   "id": "e4a912de-8d9e-47f5-a58e-3f9aafd32989",
   "metadata": {},
   "outputs": [
    {
     "name": "stdout",
     "output_type": "stream",
     "text": [
      "   Age   Race Marital Status T Stage  N Stage 6th Stage  \\\n",
      "0   68  White        Married       T1      N1       IIA   \n",
      "1   50  White        Married       T2      N2      IIIA   \n",
      "2   58  White       Divorced       T3      N3      IIIC   \n",
      "3   58  White        Married       T1      N1       IIA   \n",
      "4   47  White        Married       T2      N1       IIB   \n",
      "\n",
      "               differentiate Grade   A Stage  Tumor Size Estrogen Status  \\\n",
      "0      Poorly differentiated     3  Regional           4        Positive   \n",
      "1  Moderately differentiated     2  Regional          35        Positive   \n",
      "2  Moderately differentiated     2  Regional          63        Positive   \n",
      "3      Poorly differentiated     3  Regional          18        Positive   \n",
      "4      Poorly differentiated     3  Regional          41        Positive   \n",
      "\n",
      "  Progesterone Status  Regional Node Examined  Reginol Node Positive  \\\n",
      "0            Positive                      24                      1   \n",
      "1            Positive                      14                      5   \n",
      "2            Positive                      14                      7   \n",
      "3            Positive                       2                      1   \n",
      "4            Positive                       3                      1   \n",
      "\n",
      "   Survival Months Status  \n",
      "0               60  Alive  \n",
      "1               62  Alive  \n",
      "2               75  Alive  \n",
      "3               84  Alive  \n",
      "4               50  Alive  \n",
      "      Age   Race Marital Status T Stage  N Stage 6th Stage  \\\n",
      "4019   62  Other        Married       T1      N1       IIA   \n",
      "4020   56  White       Divorced       T2      N2      IIIA   \n",
      "4021   68  White        Married       T2      N1       IIB   \n",
      "4022   58  Black       Divorced       T2      N1       IIB   \n",
      "4023   46  White        Married       T2      N1       IIB   \n",
      "\n",
      "                  differentiate Grade   A Stage  Tumor Size Estrogen Status  \\\n",
      "4019  Moderately differentiated     2  Regional           9        Positive   \n",
      "4020  Moderately differentiated     2  Regional          46        Positive   \n",
      "4021  Moderately differentiated     2  Regional          22        Positive   \n",
      "4022  Moderately differentiated     2  Regional          44        Positive   \n",
      "4023  Moderately differentiated     2  Regional          30        Positive   \n",
      "\n",
      "     Progesterone Status  Regional Node Examined  Reginol Node Positive  \\\n",
      "4019            Positive                       1                      1   \n",
      "4020            Positive                      14                      8   \n",
      "4021            Negative                      11                      3   \n",
      "4022            Positive                      11                      1   \n",
      "4023            Positive                       7                      2   \n",
      "\n",
      "      Survival Months Status  \n",
      "4019               49  Alive  \n",
      "4020               69  Alive  \n",
      "4021               69  Alive  \n",
      "4022               72  Alive  \n",
      "4023              100  Alive  \n"
     ]
    }
   ],
   "source": [
    "#Let's inspect our data and get a feel of what we are working with\n",
    "print(bc_dataset.head())\n",
    "print(bc_dataset.tail())"
   ]
  },
  {
   "cell_type": "code",
   "execution_count": 6,
   "id": "f1daf775-6cb1-4d81-a613-091d1e390859",
   "metadata": {},
   "outputs": [
    {
     "data": {
      "text/plain": [
       "Index(['Age', 'Race', 'Marital Status', 'T Stage ', 'N Stage', '6th Stage',\n",
       "       'differentiate', 'Grade', 'A Stage', 'Tumor Size', 'Estrogen Status',\n",
       "       'Progesterone Status', 'Regional Node Examined',\n",
       "       'Reginol Node Positive', 'Survival Months', 'Status'],\n",
       "      dtype='object')"
      ]
     },
     "execution_count": 6,
     "metadata": {},
     "output_type": "execute_result"
    }
   ],
   "source": [
    "#Let's get the column names and export to chatgpt to get an understanding of the data we are working with\n",
    "\n",
    "bc_dataset.columns"
   ]
  },
  {
   "cell_type": "code",
   "execution_count": 8,
   "id": "e23ba505-1f6e-4739-8f4a-f54416e36fc9",
   "metadata": {},
   "outputs": [],
   "source": [
    "#before we dig deep.., let's just drop some columns. some columns that would be dropped are based on the following assumptions:\n",
    "# Marital Status: Assume all women have similar status and relationship life is not a contributing factor\n",
    "#Race: Assume all women belong to the same race. i.e. a homogenous race in this regards\n",
    "#A stage: Essentially most of the A stages here are regional"
   ]
  },
  {
   "cell_type": "code",
   "execution_count": 9,
   "id": "a034f5e7-7c4d-44ba-aaf2-fdfb3b427e43",
   "metadata": {},
   "outputs": [],
   "source": [
    "bc_dataset_cp = bc_dataset.copy(deep = True)"
   ]
  },
  {
   "cell_type": "code",
   "execution_count": 11,
   "id": "9967be27-4f7e-44b9-9154-75d85f8a1188",
   "metadata": {},
   "outputs": [],
   "source": [
    "bc_dataset_cp.drop(['Race', 'Marital Status', 'A Stage'], axis = 1, inplace= True)"
   ]
  },
  {
   "cell_type": "code",
   "execution_count": 54,
   "id": "08526ab8-2b60-41a0-ad91-bbcea76d5dde",
   "metadata": {},
   "outputs": [
    {
     "name": "stdout",
     "output_type": "stream",
     "text": [
      "<class 'pandas.core.frame.DataFrame'>\n",
      "RangeIndex: 4024 entries, 0 to 4023\n",
      "Data columns (total 14 columns):\n",
      " #   Column                  Non-Null Count  Dtype \n",
      "---  ------                  --------------  ----- \n",
      " 0   age                     4024 non-null   int64 \n",
      " 1   t_stage                 4024 non-null   object\n",
      " 2   n_stage                 4024 non-null   object\n",
      " 3   6th_stage               4024 non-null   object\n",
      " 4   differentiate           4024 non-null   object\n",
      " 5   grade                   4024 non-null   object\n",
      " 6   tumor_size              4024 non-null   int64 \n",
      " 7   estrogen_status         4024 non-null   object\n",
      " 8   progesterone_status     4024 non-null   object\n",
      " 9   regional_node_examined  4024 non-null   int64 \n",
      " 10  regional_node_positive  4024 non-null   int64 \n",
      " 11  survival_months         4024 non-null   int64 \n",
      " 12  status                  4024 non-null   object\n",
      " 13  status_in_digits        4024 non-null   int64 \n",
      "dtypes: int64(6), object(8)\n",
      "memory usage: 440.3+ KB\n",
      "None\n",
      "   age t_stage n_stage 6th_stage              differentiate grade  tumor_size  \\\n",
      "0   68      T1      N1       IIA      Poorly differentiated     3           4   \n",
      "1   50      T2      N2      IIIA  Moderately differentiated     2          35   \n",
      "2   58      T3      N3      IIIC  Moderately differentiated     2          63   \n",
      "3   58      T1      N1       IIA      Poorly differentiated     3          18   \n",
      "4   47      T2      N1       IIB      Poorly differentiated     3          41   \n",
      "5   51      T1      N1       IIA  Moderately differentiated     2          20   \n",
      "6   51      T1      N1       IIA        Well differentiated     1           8   \n",
      "7   40      T2      N1       IIB  Moderately differentiated     2          30   \n",
      "8   40      T4      N3      IIIC      Poorly differentiated     3         103   \n",
      "9   69      T4      N3      IIIC        Well differentiated     1          32   \n",
      "\n",
      "  estrogen_status progesterone_status  regional_node_examined  \\\n",
      "0        Positive            Positive                      24   \n",
      "1        Positive            Positive                      14   \n",
      "2        Positive            Positive                      14   \n",
      "3        Positive            Positive                       2   \n",
      "4        Positive            Positive                       3   \n",
      "5        Positive            Positive                      18   \n",
      "6        Positive            Positive                      11   \n",
      "7        Positive            Positive                       9   \n",
      "8        Positive            Positive                      20   \n",
      "9        Positive            Positive                      21   \n",
      "\n",
      "   regional_node_positive  survival_months status  status_in_digits  \n",
      "0                       1               60  Alive                 1  \n",
      "1                       5               62  Alive                 1  \n",
      "2                       7               75  Alive                 1  \n",
      "3                       1               84  Alive                 1  \n",
      "4                       1               50  Alive                 1  \n",
      "5                       2               89  Alive                 1  \n",
      "6                       1               54  Alive                 1  \n",
      "7                       1               14   Dead                 0  \n",
      "8                      18               70  Alive                 1  \n",
      "9                      12               92  Alive                 1  \n",
      "(4024, 14)\n"
     ]
    }
   ],
   "source": [
    "#Let's get a feel of the data types and information of our dataset\n",
    "\n",
    "print(bc_dataset_cp.info())\n",
    "\n",
    "#let's also see our data again:\n",
    "\n",
    "print(bc_dataset_cp.head(10))\n",
    "\n",
    "print(bc_dataset_cp.shape)"
   ]
  },
  {
   "cell_type": "code",
   "execution_count": 14,
   "id": "24d81ce5-c05c-4723-aca0-5ea8073b0052",
   "metadata": {},
   "outputs": [],
   "source": [
    "#before we continue..., are there any loopholes in our dataset\n",
    "#i mean is any null value present"
   ]
  },
  {
   "cell_type": "code",
   "execution_count": 17,
   "id": "6cfcc132-e599-4df6-bb78-ef7374d07f1e",
   "metadata": {},
   "outputs": [
    {
     "data": {
      "text/plain": [
       "Age                       0\n",
       "T Stage                   0\n",
       "N Stage                   0\n",
       "6th Stage                 0\n",
       "differentiate             0\n",
       "Grade                     0\n",
       "Tumor Size                0\n",
       "Estrogen Status           0\n",
       "Progesterone Status       0\n",
       "Regional Node Examined    0\n",
       "Reginol Node Positive     0\n",
       "Survival Months           0\n",
       "Status                    0\n",
       "dtype: int64"
      ]
     },
     "execution_count": 17,
     "metadata": {},
     "output_type": "execute_result"
    }
   ],
   "source": [
    "bc_dataset_cp.isnull().sum()\n",
    "#alright.., no null values present.., it's clean.., we can proceed"
   ]
  },
  {
   "cell_type": "code",
   "execution_count": 21,
   "id": "e592a221-2aa3-4ef0-8bfa-d7db3fd44fd3",
   "metadata": {},
   "outputs": [],
   "source": [
    "#feature-engineering --- for the sake of this transformation.., we want to convert the status to 1 for alive and 0 for dead\n",
    "#this extra column would be necessary for machine learning., as text might be intrinsically confusing\n",
    "\n",
    "bc_dataset_cp.Status.unique()\n",
    "\n",
    "#alright.., with this we can write a lambda function for mapping Alive to 1 and Dead to 0\n",
    "\n",
    "status_converter = lambda x: 1 if x == 'Alive' else 0"
   ]
  },
  {
   "cell_type": "code",
   "execution_count": 22,
   "id": "6860f5ec-797e-4084-ae9c-998e68ea33bf",
   "metadata": {},
   "outputs": [],
   "source": [
    "bc_dataset_cp['status_in_digits'] = bc_dataset_cp['Status'].map(status_converter)"
   ]
  },
  {
   "cell_type": "code",
   "execution_count": 24,
   "id": "8e8eb8ae-4e7f-4b88-b567-e0c93c879e4b",
   "metadata": {},
   "outputs": [
    {
     "data": {
      "text/plain": [
       "Index(['Age', 'T Stage ', 'N Stage', '6th Stage', 'differentiate', 'Grade',\n",
       "       'Tumor Size', 'Estrogen Status', 'Progesterone Status',\n",
       "       'Regional Node Examined', 'Reginol Node Positive', 'Survival Months',\n",
       "       'Status', 'status_in_digits'],\n",
       "      dtype='object')"
      ]
     },
     "execution_count": 24,
     "metadata": {},
     "output_type": "execute_result"
    }
   ],
   "source": [
    "bc_dataset_cp.columns"
   ]
  },
  {
   "cell_type": "code",
   "execution_count": 28,
   "id": "badeec19-710c-4d88-bded-4bd82d6e4879",
   "metadata": {},
   "outputs": [],
   "source": [
    "#column names modification\n",
    "#let's use underscore for spaces\n",
    "#let's swap case from sentence case to lower cse\n",
    "\n",
    "bc_dataset_cp.rename(columns= {'Age':'age', 'T Stage ':'t_stage','N Stage':'n_stage', '6th Stage':'6th_stage',\n",
    "                               'Grade':'grade', 'Tumor Size':'tumor_size', 'Estrogen Status':'estrogen_status',\n",
    "                               'Progesterone Status':'progesterone_status', 'Regional Node Examined':'regional_node_examined',\n",
    "                               'Reginol Node Positive':'regional_node_positive', 'Survival Months':'survival_months',\n",
    "                               'Status':'status'}, inplace = True)"
   ]
  },
  {
   "cell_type": "code",
   "execution_count": 29,
   "id": "536cdb48-1cb1-4d92-a740-ab35f8b3dc52",
   "metadata": {
    "scrolled": true
   },
   "outputs": [
    {
     "data": {
      "text/plain": [
       "Index(['age', 't_stage', 'n_stage', '6th_stage', 'differentiate', 'grade',\n",
       "       'tumor_size', 'estrogen_status', 'progesterone_status',\n",
       "       'regional_node_examined', 'regional_node_positive', 'survival_months',\n",
       "       'status', 'status_in_digits'],\n",
       "      dtype='object')"
      ]
     },
     "execution_count": 29,
     "metadata": {},
     "output_type": "execute_result"
    }
   ],
   "source": [
    "bc_dataset_cp.columns"
   ]
  },
  {
   "cell_type": "code",
   "execution_count": 30,
   "id": "ec153d0e-2e92-4c95-8d6b-3f8914a880ea",
   "metadata": {},
   "outputs": [],
   "source": [
    "#let's not get too ahead of ourselves.., but we can take a look at the data types that are numbers and see if there is \n",
    "#any correlation between them"
   ]
  },
  {
   "cell_type": "code",
   "execution_count": 63,
   "id": "e8794932-0e71-4792-8a20-9c4b55d32c7b",
   "metadata": {},
   "outputs": [],
   "source": [
    "corr_values_numeric= (bc_dataset_cp[(bc_dataset_cp.columns[bc_dataset_cp.dtypes == 'int64'])]).corr()\n",
    "#from what i can see it seems there isn't any relationship.., we can employ the heatmap of seaborn to visualize this"
   ]
  },
  {
   "cell_type": "code",
   "execution_count": 64,
   "id": "16395a4e-d444-4914-bc54-7645e9d490ca",
   "metadata": {},
   "outputs": [
    {
     "data": {
      "text/html": [
       "<div>\n",
       "<style scoped>\n",
       "    .dataframe tbody tr th:only-of-type {\n",
       "        vertical-align: middle;\n",
       "    }\n",
       "\n",
       "    .dataframe tbody tr th {\n",
       "        vertical-align: top;\n",
       "    }\n",
       "\n",
       "    .dataframe thead th {\n",
       "        text-align: right;\n",
       "    }\n",
       "</style>\n",
       "<table border=\"1\" class=\"dataframe\">\n",
       "  <thead>\n",
       "    <tr style=\"text-align: right;\">\n",
       "      <th></th>\n",
       "      <th>age</th>\n",
       "      <th>tumor_size</th>\n",
       "      <th>regional_node_examined</th>\n",
       "      <th>regional_node_positive</th>\n",
       "      <th>survival_months</th>\n",
       "      <th>status_in_digits</th>\n",
       "    </tr>\n",
       "  </thead>\n",
       "  <tbody>\n",
       "    <tr>\n",
       "      <th>age</th>\n",
       "      <td>1.000000</td>\n",
       "      <td>-0.077215</td>\n",
       "      <td>-0.033345</td>\n",
       "      <td>0.012586</td>\n",
       "      <td>-0.009390</td>\n",
       "      <td>-0.055921</td>\n",
       "    </tr>\n",
       "    <tr>\n",
       "      <th>tumor_size</th>\n",
       "      <td>-0.077215</td>\n",
       "      <td>1.000000</td>\n",
       "      <td>0.104352</td>\n",
       "      <td>0.242322</td>\n",
       "      <td>-0.086901</td>\n",
       "      <td>-0.134205</td>\n",
       "    </tr>\n",
       "    <tr>\n",
       "      <th>regional_node_examined</th>\n",
       "      <td>-0.033345</td>\n",
       "      <td>0.104352</td>\n",
       "      <td>1.000000</td>\n",
       "      <td>0.411580</td>\n",
       "      <td>-0.022054</td>\n",
       "      <td>-0.034772</td>\n",
       "    </tr>\n",
       "    <tr>\n",
       "      <th>regional_node_positive</th>\n",
       "      <td>0.012586</td>\n",
       "      <td>0.242322</td>\n",
       "      <td>0.411580</td>\n",
       "      <td>1.000000</td>\n",
       "      <td>-0.135214</td>\n",
       "      <td>-0.256638</td>\n",
       "    </tr>\n",
       "    <tr>\n",
       "      <th>survival_months</th>\n",
       "      <td>-0.009390</td>\n",
       "      <td>-0.086901</td>\n",
       "      <td>-0.022054</td>\n",
       "      <td>-0.135214</td>\n",
       "      <td>1.000000</td>\n",
       "      <td>0.476514</td>\n",
       "    </tr>\n",
       "    <tr>\n",
       "      <th>status_in_digits</th>\n",
       "      <td>-0.055921</td>\n",
       "      <td>-0.134205</td>\n",
       "      <td>-0.034772</td>\n",
       "      <td>-0.256638</td>\n",
       "      <td>0.476514</td>\n",
       "      <td>1.000000</td>\n",
       "    </tr>\n",
       "  </tbody>\n",
       "</table>\n",
       "</div>"
      ],
      "text/plain": [
       "                             age  tumor_size  regional_node_examined  \\\n",
       "age                     1.000000   -0.077215               -0.033345   \n",
       "tumor_size             -0.077215    1.000000                0.104352   \n",
       "regional_node_examined -0.033345    0.104352                1.000000   \n",
       "regional_node_positive  0.012586    0.242322                0.411580   \n",
       "survival_months        -0.009390   -0.086901               -0.022054   \n",
       "status_in_digits       -0.055921   -0.134205               -0.034772   \n",
       "\n",
       "                        regional_node_positive  survival_months  \\\n",
       "age                                   0.012586        -0.009390   \n",
       "tumor_size                            0.242322        -0.086901   \n",
       "regional_node_examined                0.411580        -0.022054   \n",
       "regional_node_positive                1.000000        -0.135214   \n",
       "survival_months                      -0.135214         1.000000   \n",
       "status_in_digits                     -0.256638         0.476514   \n",
       "\n",
       "                        status_in_digits  \n",
       "age                            -0.055921  \n",
       "tumor_size                     -0.134205  \n",
       "regional_node_examined         -0.034772  \n",
       "regional_node_positive         -0.256638  \n",
       "survival_months                 0.476514  \n",
       "status_in_digits                1.000000  "
      ]
     },
     "execution_count": 64,
     "metadata": {},
     "output_type": "execute_result"
    }
   ],
   "source": [
    "corr_values_numeric"
   ]
  },
  {
   "cell_type": "code",
   "execution_count": 65,
   "id": "3eb67c90-2175-46d3-9ae4-247ad88cf668",
   "metadata": {},
   "outputs": [
    {
     "data": {
      "image/png": "[encoded data removed]",
      "text/plain": [
       "<Figure size 640x480 with 2 Axes>"
      ]
     },
     "metadata": {},
     "output_type": "display_data"
    }
   ],
   "source": [
    "sns.heatmap(data = corr_values_numeric.corr(), cmap = 'YlGnBu')\n",
    "plt.show()\n",
    "\n",
    "\n",
    "#observations: it's quite obvious: but we know that there is a correlation somewhere around 0.5 with the survival months\n",
    "#this might be misleading as the status is not dead.., let's reevaluate for a status of dead and see what our results tells us"
   ]
  },
  {
   "cell_type": "code",
   "execution_count": 67,
   "id": "8817216d-cd98-4d86-850b-1d310addb320",
   "metadata": {},
   "outputs": [
    {
     "name": "stderr",
     "output_type": "stream",
     "text": [
      "C:\\Users\\richmond\\AppData\\Local\\Programs\\Python\\Python311\\Lib\\site-packages\\seaborn\\_oldcore.py:1498: FutureWarning: is_categorical_dtype is deprecated and will be removed in a future version. Use isinstance(dtype, CategoricalDtype) instead\n",
      "  if pd.api.types.is_categorical_dtype(vector):\n",
      "C:\\Users\\richmond\\AppData\\Local\\Programs\\Python\\Python311\\Lib\\site-packages\\seaborn\\_oldcore.py:1498: FutureWarning: is_categorical_dtype is deprecated and will be removed in a future version. Use isinstance(dtype, CategoricalDtype) instead\n",
      "  if pd.api.types.is_categorical_dtype(vector):\n",
      "C:\\Users\\richmond\\AppData\\Local\\Programs\\Python\\Python311\\Lib\\site-packages\\seaborn\\_oldcore.py:1498: FutureWarning: is_categorical_dtype is deprecated and will be removed in a future version. Use isinstance(dtype, CategoricalDtype) instead\n",
      "  if pd.api.types.is_categorical_dtype(vector):\n"
     ]
    },
    {
     "data": {
      "text/plain": [
       "<Axes: xlabel='status_in_digits', ylabel='count'>"
      ]
     },
     "execution_count": 67,
     "metadata": {},
     "output_type": "execute_result"
    },
    {
     "data": {
      "image/png": "[encoded data removed]",
      "text/plain": [
       "<Figure size 640x480 with 1 Axes>"
      ]
     },
     "metadata": {},
     "output_type": "display_data"
    }
   ],
   "source": [
    "#alright.., let's start with status and survival months...\n",
    "#let's see a count plot of this\n",
    "\n",
    "sns.countplot(data = bc_dataset_cp, x= 'status_in_digits')"
   ]
  },
  {
   "cell_type": "code",
   "execution_count": 71,
   "id": "ba4fd63b-69d1-4e39-8742-f96f7907c793",
   "metadata": {},
   "outputs": [
    {
     "data": {
      "text/plain": [
       "status_in_digits\n",
       "0     28096\n",
       "1    258807\n",
       "Name: survival_months, dtype: int64"
      ]
     },
     "execution_count": 71,
     "metadata": {},
     "output_type": "execute_result"
    }
   ],
   "source": [
    "bc_dataset_cp.groupby('status_in_digits')['survival_months'].sum()"
   ]
  },
  {
   "cell_type": "code",
   "execution_count": null,
   "id": "d2140f51-f003-481c-b954-c84e50897501",
   "metadata": {},
   "outputs": [],
   "source": []
  }
 ],
 "metadata": {
  "kernelspec": {
   "display_name": "Python 3 (ipykernel)",
   "language": "python",
   "name": "python3"
  },
  "language_info": {
   "codemirror_mode": {
    "name": "ipython",
    "version": 3
   },
   "file_extension": ".py",
   "mimetype": "text/x-python",
   "name": "python",
   "nbconvert_exporter": "python",
   "pygments_lexer": "ipython3",
   "version": "3.11.4"
  }
 },
 "nbformat": 4,
 "nbformat_minor": 5
}

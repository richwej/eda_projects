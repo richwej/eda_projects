{
 "cells": [
  {
   "cell_type": "markdown",
   "id": "e085b3dd-c785-41e1-b476-5f7185c0d978",
   "metadata": {},
   "source": [
    "### WELCOME TO THE ANALYSIS OF A LENDING CLUB LOAN DATA"
   ]
  },
  {
   "cell_type": "markdown",
   "id": "cb5318b2-ad26-4b45-996e-a21a86a433bd",
   "metadata": {},
   "source": [
    "<h5>1. Importing Relevant libraries and Modules</h5>"
   ]
  },
  {
   "cell_type": "code",
   "execution_count": 1,
   "id": "7f72d5f4-be2b-4d22-be6b-ce78a14f9b66",
   "metadata": {},
   "outputs": [],
   "source": [
    "import numpy as np\n",
    "import pandas as pd\n",
    "import matplotlib.pyplot as plt\n",
    "import seaborn as sns\n",
    "#from datetime import datetime"
   ]
  },
  {
   "cell_type": "code",
   "execution_count": 2,
   "id": "54cdb56f-e1bb-484f-9291-9e4f0aeb27fc",
   "metadata": {},
   "outputs": [],
   "source": [
    "#Remove Warnings\n",
    "import warnings\n",
    "warnings.filterwarnings(\"ignore\")"
   ]
  },
  {
   "cell_type": "markdown",
   "id": "0850aeb4-ef45-43ea-bfa2-2801d04ea521",
   "metadata": {},
   "source": [
    "<h5>2.Load your CSV File</h5>"
   ]
  },
  {
   "cell_type": "code",
   "execution_count": 3,
   "id": "dbc9f7ab-a220-48b6-91c5-2a593625f2f0",
   "metadata": {},
   "outputs": [],
   "source": [
    "loan_dataset = pd.read_csv(\"loan.csv\", encoding= \"ISO-8859-1\") #The encoding is useful in this case"
   ]
  },
  {
   "cell_type": "code",
   "execution_count": 4,
   "id": "e0d19590-a95f-48e3-b29f-260a91e6051e",
   "metadata": {},
   "outputs": [],
   "source": [
    "#create a shallow copy of this dataset so that our original would be unaffected\n",
    "loan_dataset_cp = loan_dataset.copy(deep = True)"
   ]
  },
  {
   "cell_type": "markdown",
   "id": "04bdbae4-9a49-41e8-aafd-cb7d2c3f8594",
   "metadata": {},
   "source": [
    "#### Inspect the data to know what we have"
   ]
  },
  {
   "cell_type": "code",
   "execution_count": 5,
   "id": "d4b2226d-e799-4ebe-96a3-eee2390cf923",
   "metadata": {},
   "outputs": [
    {
     "data": {
      "text/plain": [
       "(39717, 111)"
      ]
     },
     "execution_count": 5,
     "metadata": {},
     "output_type": "execute_result"
    }
   ],
   "source": [
    "loan_dataset_cp.shape"
   ]
  },
  {
   "cell_type": "code",
   "execution_count": 6,
   "id": "35234865-41ba-477a-873a-be829af6c815",
   "metadata": {},
   "outputs": [
    {
     "data": {
      "text/html": [
       "<div>\n",
       "<style scoped>\n",
       "    .dataframe tbody tr th:only-of-type {\n",
       "        vertical-align: middle;\n",
       "    }\n",
       "\n",
       "    .dataframe tbody tr th {\n",
       "        vertical-align: top;\n",
       "    }\n",
       "\n",
       "    .dataframe thead th {\n",
       "        text-align: right;\n",
       "    }\n",
       "</style>\n",
       "<table border=\"1\" class=\"dataframe\">\n",
       "  <thead>\n",
       "    <tr style=\"text-align: right;\">\n",
       "      <th></th>\n",
       "      <th>id</th>\n",
       "      <th>member_id</th>\n",
       "      <th>loan_amnt</th>\n",
       "      <th>funded_amnt</th>\n",
       "      <th>funded_amnt_inv</th>\n",
       "      <th>term</th>\n",
       "      <th>int_rate</th>\n",
       "      <th>installment</th>\n",
       "      <th>grade</th>\n",
       "      <th>sub_grade</th>\n",
       "      <th>...</th>\n",
       "      <th>num_tl_90g_dpd_24m</th>\n",
       "      <th>num_tl_op_past_12m</th>\n",
       "      <th>pct_tl_nvr_dlq</th>\n",
       "      <th>percent_bc_gt_75</th>\n",
       "      <th>pub_rec_bankruptcies</th>\n",
       "      <th>tax_liens</th>\n",
       "      <th>tot_hi_cred_lim</th>\n",
       "      <th>total_bal_ex_mort</th>\n",
       "      <th>total_bc_limit</th>\n",
       "      <th>total_il_high_credit_limit</th>\n",
       "    </tr>\n",
       "  </thead>\n",
       "  <tbody>\n",
       "    <tr>\n",
       "      <th>0</th>\n",
       "      <td>1077501</td>\n",
       "      <td>1296599</td>\n",
       "      <td>5000</td>\n",
       "      <td>5000</td>\n",
       "      <td>4975.0</td>\n",
       "      <td>36 months</td>\n",
       "      <td>10.65%</td>\n",
       "      <td>162.87</td>\n",
       "      <td>B</td>\n",
       "      <td>B2</td>\n",
       "      <td>...</td>\n",
       "      <td>NaN</td>\n",
       "      <td>NaN</td>\n",
       "      <td>NaN</td>\n",
       "      <td>NaN</td>\n",
       "      <td>0.0</td>\n",
       "      <td>0.0</td>\n",
       "      <td>NaN</td>\n",
       "      <td>NaN</td>\n",
       "      <td>NaN</td>\n",
       "      <td>NaN</td>\n",
       "    </tr>\n",
       "    <tr>\n",
       "      <th>1</th>\n",
       "      <td>1077430</td>\n",
       "      <td>1314167</td>\n",
       "      <td>2500</td>\n",
       "      <td>2500</td>\n",
       "      <td>2500.0</td>\n",
       "      <td>60 months</td>\n",
       "      <td>15.27%</td>\n",
       "      <td>59.83</td>\n",
       "      <td>C</td>\n",
       "      <td>C4</td>\n",
       "      <td>...</td>\n",
       "      <td>NaN</td>\n",
       "      <td>NaN</td>\n",
       "      <td>NaN</td>\n",
       "      <td>NaN</td>\n",
       "      <td>0.0</td>\n",
       "      <td>0.0</td>\n",
       "      <td>NaN</td>\n",
       "      <td>NaN</td>\n",
       "      <td>NaN</td>\n",
       "      <td>NaN</td>\n",
       "    </tr>\n",
       "    <tr>\n",
       "      <th>2</th>\n",
       "      <td>1077175</td>\n",
       "      <td>1313524</td>\n",
       "      <td>2400</td>\n",
       "      <td>2400</td>\n",
       "      <td>2400.0</td>\n",
       "      <td>36 months</td>\n",
       "      <td>15.96%</td>\n",
       "      <td>84.33</td>\n",
       "      <td>C</td>\n",
       "      <td>C5</td>\n",
       "      <td>...</td>\n",
       "      <td>NaN</td>\n",
       "      <td>NaN</td>\n",
       "      <td>NaN</td>\n",
       "      <td>NaN</td>\n",
       "      <td>0.0</td>\n",
       "      <td>0.0</td>\n",
       "      <td>NaN</td>\n",
       "      <td>NaN</td>\n",
       "      <td>NaN</td>\n",
       "      <td>NaN</td>\n",
       "    </tr>\n",
       "    <tr>\n",
       "      <th>3</th>\n",
       "      <td>1076863</td>\n",
       "      <td>1277178</td>\n",
       "      <td>10000</td>\n",
       "      <td>10000</td>\n",
       "      <td>10000.0</td>\n",
       "      <td>36 months</td>\n",
       "      <td>13.49%</td>\n",
       "      <td>339.31</td>\n",
       "      <td>C</td>\n",
       "      <td>C1</td>\n",
       "      <td>...</td>\n",
       "      <td>NaN</td>\n",
       "      <td>NaN</td>\n",
       "      <td>NaN</td>\n",
       "      <td>NaN</td>\n",
       "      <td>0.0</td>\n",
       "      <td>0.0</td>\n",
       "      <td>NaN</td>\n",
       "      <td>NaN</td>\n",
       "      <td>NaN</td>\n",
       "      <td>NaN</td>\n",
       "    </tr>\n",
       "    <tr>\n",
       "      <th>4</th>\n",
       "      <td>1075358</td>\n",
       "      <td>1311748</td>\n",
       "      <td>3000</td>\n",
       "      <td>3000</td>\n",
       "      <td>3000.0</td>\n",
       "      <td>60 months</td>\n",
       "      <td>12.69%</td>\n",
       "      <td>67.79</td>\n",
       "      <td>B</td>\n",
       "      <td>B5</td>\n",
       "      <td>...</td>\n",
       "      <td>NaN</td>\n",
       "      <td>NaN</td>\n",
       "      <td>NaN</td>\n",
       "      <td>NaN</td>\n",
       "      <td>0.0</td>\n",
       "      <td>0.0</td>\n",
       "      <td>NaN</td>\n",
       "      <td>NaN</td>\n",
       "      <td>NaN</td>\n",
       "      <td>NaN</td>\n",
       "    </tr>\n",
       "  </tbody>\n",
       "</table>\n",
       "<p>5 rows × 111 columns</p>\n",
       "</div>"
      ],
      "text/plain": [
       "        id  member_id  loan_amnt  funded_amnt  funded_amnt_inv        term  \\\n",
       "0  1077501    1296599       5000         5000           4975.0   36 months   \n",
       "1  1077430    1314167       2500         2500           2500.0   60 months   \n",
       "2  1077175    1313524       2400         2400           2400.0   36 months   \n",
       "3  1076863    1277178      10000        10000          10000.0   36 months   \n",
       "4  1075358    1311748       3000         3000           3000.0   60 months   \n",
       "\n",
       "  int_rate  installment grade sub_grade  ... num_tl_90g_dpd_24m  \\\n",
       "0   10.65%       162.87     B        B2  ...                NaN   \n",
       "1   15.27%        59.83     C        C4  ...                NaN   \n",
       "2   15.96%        84.33     C        C5  ...                NaN   \n",
       "3   13.49%       339.31     C        C1  ...                NaN   \n",
       "4   12.69%        67.79     B        B5  ...                NaN   \n",
       "\n",
       "  num_tl_op_past_12m pct_tl_nvr_dlq  percent_bc_gt_75 pub_rec_bankruptcies  \\\n",
       "0                NaN            NaN               NaN                  0.0   \n",
       "1                NaN            NaN               NaN                  0.0   \n",
       "2                NaN            NaN               NaN                  0.0   \n",
       "3                NaN            NaN               NaN                  0.0   \n",
       "4                NaN            NaN               NaN                  0.0   \n",
       "\n",
       "  tax_liens tot_hi_cred_lim total_bal_ex_mort total_bc_limit  \\\n",
       "0       0.0             NaN               NaN            NaN   \n",
       "1       0.0             NaN               NaN            NaN   \n",
       "2       0.0             NaN               NaN            NaN   \n",
       "3       0.0             NaN               NaN            NaN   \n",
       "4       0.0             NaN               NaN            NaN   \n",
       "\n",
       "  total_il_high_credit_limit  \n",
       "0                        NaN  \n",
       "1                        NaN  \n",
       "2                        NaN  \n",
       "3                        NaN  \n",
       "4                        NaN  \n",
       "\n",
       "[5 rows x 111 columns]"
      ]
     },
     "execution_count": 6,
     "metadata": {},
     "output_type": "execute_result"
    }
   ],
   "source": [
    "loan_dataset_cp.head()"
   ]
  },
  {
   "cell_type": "markdown",
   "id": "b2577103-c481-4bef-8f88-036ba9acc531",
   "metadata": {},
   "source": [
    "#### Dropping Some Irrelevant Columns and Taking only the Ones we need"
   ]
  },
  {
   "cell_type": "code",
   "execution_count": 7,
   "id": "c522cc83-9251-4ebe-a0cb-1aa994c76611",
   "metadata": {},
   "outputs": [],
   "source": [
    "#let's know or let's see the columns we have in our dataset already"
   ]
  },
  {
   "cell_type": "code",
   "execution_count": 8,
   "id": "5c951690-c56a-46f6-8457-9f275df49e9a",
   "metadata": {},
   "outputs": [
    {
     "data": {
      "text/plain": [
       "Index(['id', 'member_id', 'loan_amnt', 'funded_amnt', 'funded_amnt_inv',\n",
       "       'term', 'int_rate', 'installment', 'grade', 'sub_grade',\n",
       "       ...\n",
       "       'num_tl_90g_dpd_24m', 'num_tl_op_past_12m', 'pct_tl_nvr_dlq',\n",
       "       'percent_bc_gt_75', 'pub_rec_bankruptcies', 'tax_liens',\n",
       "       'tot_hi_cred_lim', 'total_bal_ex_mort', 'total_bc_limit',\n",
       "       'total_il_high_credit_limit'],\n",
       "      dtype='object', length=111)"
      ]
     },
     "execution_count": 8,
     "metadata": {},
     "output_type": "execute_result"
    }
   ],
   "source": [
    "loan_dataset_cp.columns"
   ]
  },
  {
   "cell_type": "code",
   "execution_count": 9,
   "id": "1f74258a-cde4-43e5-bac2-defefd092c18",
   "metadata": {},
   "outputs": [],
   "source": [
    "#or rather.., let's store it in an empty list\n",
    "loan_dataset_columns = [column for column in loan_dataset_cp.columns]"
   ]
  },
  {
   "cell_type": "code",
   "execution_count": 10,
   "id": "d54bb313-57a6-4796-953d-8ab2fab517ed",
   "metadata": {},
   "outputs": [
    {
     "data": {
      "text/plain": [
       "111"
      ]
     },
     "execution_count": 10,
     "metadata": {},
     "output_type": "execute_result"
    }
   ],
   "source": [
    "len(loan_dataset_columns)"
   ]
  },
  {
   "cell_type": "code",
   "execution_count": 11,
   "id": "76af4400-551f-4ffc-a952-e366ce5aca7e",
   "metadata": {
    "scrolled": true
   },
   "outputs": [
    {
     "name": "stdout",
     "output_type": "stream",
     "text": [
      "id\n",
      "member_id\n",
      "loan_amnt\n",
      "funded_amnt\n",
      "funded_amnt_inv\n",
      "term\n",
      "int_rate\n",
      "installment\n",
      "grade\n",
      "sub_grade\n",
      "emp_title\n",
      "emp_length\n",
      "home_ownership\n",
      "annual_inc\n",
      "verification_status\n",
      "issue_d\n",
      "loan_status\n",
      "pymnt_plan\n",
      "url\n",
      "desc\n",
      "purpose\n",
      "title\n",
      "zip_code\n",
      "addr_state\n",
      "dti\n",
      "delinq_2yrs\n",
      "earliest_cr_line\n",
      "inq_last_6mths\n",
      "mths_since_last_delinq\n",
      "mths_since_last_record\n",
      "open_acc\n",
      "pub_rec\n",
      "revol_bal\n",
      "revol_util\n",
      "total_acc\n",
      "initial_list_status\n",
      "out_prncp\n",
      "out_prncp_inv\n",
      "total_pymnt\n",
      "total_pymnt_inv\n",
      "total_rec_prncp\n",
      "total_rec_int\n",
      "total_rec_late_fee\n",
      "recoveries\n",
      "collection_recovery_fee\n",
      "last_pymnt_d\n",
      "last_pymnt_amnt\n",
      "next_pymnt_d\n",
      "last_credit_pull_d\n",
      "collections_12_mths_ex_med\n",
      "mths_since_last_major_derog\n",
      "policy_code\n",
      "application_type\n",
      "annual_inc_joint\n",
      "dti_joint\n",
      "verification_status_joint\n",
      "acc_now_delinq\n",
      "tot_coll_amt\n",
      "tot_cur_bal\n",
      "open_acc_6m\n",
      "open_il_6m\n",
      "open_il_12m\n",
      "open_il_24m\n",
      "mths_since_rcnt_il\n",
      "total_bal_il\n",
      "il_util\n",
      "open_rv_12m\n",
      "open_rv_24m\n",
      "max_bal_bc\n",
      "all_util\n",
      "total_rev_hi_lim\n",
      "inq_fi\n",
      "total_cu_tl\n",
      "inq_last_12m\n",
      "acc_open_past_24mths\n",
      "avg_cur_bal\n",
      "bc_open_to_buy\n",
      "bc_util\n",
      "chargeoff_within_12_mths\n",
      "delinq_amnt\n",
      "mo_sin_old_il_acct\n",
      "mo_sin_old_rev_tl_op\n",
      "mo_sin_rcnt_rev_tl_op\n",
      "mo_sin_rcnt_tl\n",
      "mort_acc\n",
      "mths_since_recent_bc\n",
      "mths_since_recent_bc_dlq\n",
      "mths_since_recent_inq\n",
      "mths_since_recent_revol_delinq\n",
      "num_accts_ever_120_pd\n",
      "num_actv_bc_tl\n",
      "num_actv_rev_tl\n",
      "num_bc_sats\n",
      "num_bc_tl\n",
      "num_il_tl\n",
      "num_op_rev_tl\n",
      "num_rev_accts\n",
      "num_rev_tl_bal_gt_0\n",
      "num_sats\n",
      "num_tl_120dpd_2m\n",
      "num_tl_30dpd\n",
      "num_tl_90g_dpd_24m\n",
      "num_tl_op_past_12m\n",
      "pct_tl_nvr_dlq\n",
      "percent_bc_gt_75\n",
      "pub_rec_bankruptcies\n",
      "tax_liens\n",
      "tot_hi_cred_lim\n",
      "total_bal_ex_mort\n",
      "total_bc_limit\n",
      "total_il_high_credit_limit\n"
     ]
    }
   ],
   "source": [
    "for column in loan_dataset_columns:\n",
    "    print(column)"
   ]
  },
  {
   "cell_type": "code",
   "execution_count": 12,
   "id": "0f25ee1e-1427-4db6-9aee-420dcba2036b",
   "metadata": {},
   "outputs": [
    {
     "data": {
      "text/plain": [
       "True"
      ]
     },
     "execution_count": 12,
     "metadata": {},
     "output_type": "execute_result"
    }
   ],
   "source": [
    "'acc_now_delinq' in loan_dataset_columns"
   ]
  },
  {
   "cell_type": "code",
   "execution_count": 13,
   "id": "3090e744-76c3-4e7f-a5c1-5cbd71122ebf",
   "metadata": {},
   "outputs": [],
   "source": [
    "loan_dataset_columns.sort()"
   ]
  },
  {
   "cell_type": "code",
   "execution_count": 14,
   "id": "b559ee60-5e0a-4a63-a568-496ccacf0efd",
   "metadata": {},
   "outputs": [
    {
     "name": "stdout",
     "output_type": "stream",
     "text": [
      "acc_now_delinq\n",
      "acc_open_past_24mths\n",
      "addr_state\n",
      "all_util\n",
      "annual_inc\n",
      "annual_inc_joint\n",
      "application_type\n",
      "avg_cur_bal\n",
      "bc_open_to_buy\n",
      "bc_util\n",
      "chargeoff_within_12_mths\n",
      "collection_recovery_fee\n",
      "collections_12_mths_ex_med\n",
      "delinq_2yrs\n",
      "delinq_amnt\n",
      "desc\n",
      "dti\n",
      "dti_joint\n",
      "earliest_cr_line\n",
      "emp_length\n",
      "emp_title\n",
      "funded_amnt\n",
      "funded_amnt_inv\n",
      "grade\n",
      "home_ownership\n",
      "id\n",
      "il_util\n",
      "initial_list_status\n",
      "inq_fi\n",
      "inq_last_12m\n",
      "inq_last_6mths\n",
      "installment\n",
      "int_rate\n",
      "issue_d\n",
      "last_credit_pull_d\n",
      "last_pymnt_amnt\n",
      "last_pymnt_d\n",
      "loan_amnt\n",
      "loan_status\n",
      "max_bal_bc\n",
      "member_id\n",
      "mo_sin_old_il_acct\n",
      "mo_sin_old_rev_tl_op\n",
      "mo_sin_rcnt_rev_tl_op\n",
      "mo_sin_rcnt_tl\n",
      "mort_acc\n",
      "mths_since_last_delinq\n",
      "mths_since_last_major_derog\n",
      "mths_since_last_record\n",
      "mths_since_rcnt_il\n",
      "mths_since_recent_bc\n",
      "mths_since_recent_bc_dlq\n",
      "mths_since_recent_inq\n",
      "mths_since_recent_revol_delinq\n",
      "next_pymnt_d\n",
      "num_accts_ever_120_pd\n",
      "num_actv_bc_tl\n",
      "num_actv_rev_tl\n",
      "num_bc_sats\n",
      "num_bc_tl\n",
      "num_il_tl\n",
      "num_op_rev_tl\n",
      "num_rev_accts\n",
      "num_rev_tl_bal_gt_0\n",
      "num_sats\n",
      "num_tl_120dpd_2m\n",
      "num_tl_30dpd\n",
      "num_tl_90g_dpd_24m\n",
      "num_tl_op_past_12m\n",
      "open_acc\n",
      "open_acc_6m\n",
      "open_il_12m\n",
      "open_il_24m\n",
      "open_il_6m\n",
      "open_rv_12m\n",
      "open_rv_24m\n",
      "out_prncp\n",
      "out_prncp_inv\n",
      "pct_tl_nvr_dlq\n",
      "percent_bc_gt_75\n",
      "policy_code\n",
      "pub_rec\n",
      "pub_rec_bankruptcies\n",
      "purpose\n",
      "pymnt_plan\n",
      "recoveries\n",
      "revol_bal\n",
      "revol_util\n",
      "sub_grade\n",
      "tax_liens\n",
      "term\n",
      "title\n",
      "tot_coll_amt\n",
      "tot_cur_bal\n",
      "tot_hi_cred_lim\n",
      "total_acc\n",
      "total_bal_ex_mort\n",
      "total_bal_il\n",
      "total_bc_limit\n",
      "total_cu_tl\n",
      "total_il_high_credit_limit\n",
      "total_pymnt\n",
      "total_pymnt_inv\n",
      "total_rec_int\n",
      "total_rec_late_fee\n",
      "total_rec_prncp\n",
      "total_rev_hi_lim\n",
      "url\n",
      "verification_status\n",
      "verification_status_joint\n",
      "zip_code\n"
     ]
    }
   ],
   "source": [
    "for columns in loan_dataset_columns:\n",
    "    print(columns)"
   ]
  },
  {
   "cell_type": "code",
   "execution_count": 15,
   "id": "c1aa0ba7-6f99-4dbb-9072-b22bc07bece8",
   "metadata": {},
   "outputs": [],
   "source": [
    "#Rather than dropping, which is more tedious let's carry the ones we need"
   ]
  },
  {
   "cell_type": "code",
   "execution_count": 16,
   "id": "7484c011-d8b8-4599-b9a1-3889bb908420",
   "metadata": {},
   "outputs": [],
   "source": [
    "#let's just drop regardless"
   ]
  },
  {
   "cell_type": "code",
   "execution_count": 17,
   "id": "4fb78d8e-91ac-4d8a-b5c3-37cc1bf8a881",
   "metadata": {},
   "outputs": [],
   "source": [
    "loan_dataset_cp = loan_dataset_cp.drop([\n",
    "'acc_now_delinq'\n",
    ",'acc_open_past_24mths'\n",
    ",'all_util'\n",
    ",'annual_inc_joint'\n",
    ",'application_type'\n",
    ",'avg_cur_bal'\n",
    ",'bc_open_to_buy'\n",
    ",'bc_util'\n",
    ",'chargeoff_within_12_mths'\n",
    ",'collection_recovery_fee'\n",
    ",'collections_12_mths_ex_med'\n",
    ",'delinq_2yrs'\n",
    ",'delinq_amnt'\n",
    ",'desc'\n",
    ",'dti_joint'\n",
    ",'earliest_cr_line'\n",
    ",'home_ownership'\n",
    ",'id'\n",
    ",'il_util'\n",
    ",'initial_list_status'\n",
    ",'inq_fi'\n",
    ",'inq_last_12m'\n",
    ",'max_bal_bc'\n",
    ",'member_id'\n",
    ",'mo_sin_old_il_acct'\n",
    ",'mo_sin_old_rev_tl_op'\n",
    ",'mo_sin_rcnt_rev_tl_op'\n",
    ",'mo_sin_rcnt_tl'\n",
    ",'mort_acc'\n",
    ",'mths_since_last_delinq'\n",
    ",'mths_since_last_major_derog'\n",
    ",'mths_since_last_record'\n",
    ",'mths_since_rcnt_il'\n",
    ",'mths_since_recent_bc'\n",
    ",'mths_since_recent_bc_dlq'\n",
    ",'mths_since_recent_inq'\n",
    ",'mths_since_recent_revol_delinq'\n",
    ",'num_accts_ever_120_pd'\n",
    ",'num_actv_bc_tl'\n",
    ",'num_actv_rev_tl'\n",
    ",'num_bc_sats'\n",
    ",'num_bc_tl'\n",
    ",'num_il_tl'\n",
    ",'num_op_rev_tl'\n",
    ",'num_rev_accts'\n",
    ",'num_rev_tl_bal_gt_0'\n",
    ",'num_sats'\n",
    ",'num_tl_120dpd_2m'\n",
    ",'num_tl_30dpd'\n",
    ",'num_tl_90g_dpd_24m'\n",
    ",'num_tl_op_past_12m'\n",
    ",'open_acc_6m'\n",
    ",'open_il_12m'\n",
    ",'open_il_24m'\n",
    ",'open_il_6m'\n",
    ",'open_rv_12m'\n",
    ",'open_rv_24m'\n",
    ",'out_prncp'\n",
    ",'out_prncp_inv'\n",
    ",'pct_tl_nvr_dlq'\n",
    ",'percent_bc_gt_75'\n",
    ",'policy_code'\n",
    ",'pymnt_plan'\n",
    ",'recoveries'\n",
    ",'tax_liens'\n",
    ",'title'\n",
    ",'tot_coll_amt'\n",
    ",'tot_cur_bal'\n",
    ",'tot_hi_cred_lim'\n",
    ",'total_bal_ex_mort'\n",
    ",'total_bal_il'\n",
    ",'total_bc_limit'\n",
    ",'total_cu_tl'\n",
    ",'next_pymnt_d'\n",
    ",'total_il_high_credit_limit'\n",
    ",'total_pymnt'\n",
    ",'total_pymnt_inv'\n",
    ",'total_rec_int'\n",
    ",'total_rec_late_fee'\n",
    ",'total_rec_prncp'\n",
    ",'verification_status_joint'\n",
    ",'total_rev_hi_lim'\n",
    ",'last_pymnt_amnt'\n",
    ",'last_credit_pull_d'\n",
    ",'url'], axis='columns')"
   ]
  },
  {
   "cell_type": "code",
   "execution_count": 18,
   "id": "3360450c-eeef-4273-8224-ff369fa82a86",
   "metadata": {},
   "outputs": [
    {
     "data": {
      "text/plain": [
       "(39717, 26)"
      ]
     },
     "execution_count": 18,
     "metadata": {},
     "output_type": "execute_result"
    }
   ],
   "source": [
    "loan_dataset_cp.shape"
   ]
  },
  {
   "cell_type": "code",
   "execution_count": 19,
   "id": "3692374c-9907-40bd-b81d-b7c41ab1fe8c",
   "metadata": {},
   "outputs": [
    {
     "data": {
      "text/html": [
       "<div>\n",
       "<style scoped>\n",
       "    .dataframe tbody tr th:only-of-type {\n",
       "        vertical-align: middle;\n",
       "    }\n",
       "\n",
       "    .dataframe tbody tr th {\n",
       "        vertical-align: top;\n",
       "    }\n",
       "\n",
       "    .dataframe thead th {\n",
       "        text-align: right;\n",
       "    }\n",
       "</style>\n",
       "<table border=\"1\" class=\"dataframe\">\n",
       "  <thead>\n",
       "    <tr style=\"text-align: right;\">\n",
       "      <th></th>\n",
       "      <th>loan_amnt</th>\n",
       "      <th>funded_amnt</th>\n",
       "      <th>funded_amnt_inv</th>\n",
       "      <th>term</th>\n",
       "      <th>int_rate</th>\n",
       "      <th>installment</th>\n",
       "      <th>grade</th>\n",
       "      <th>sub_grade</th>\n",
       "      <th>emp_title</th>\n",
       "      <th>emp_length</th>\n",
       "      <th>...</th>\n",
       "      <th>addr_state</th>\n",
       "      <th>dti</th>\n",
       "      <th>inq_last_6mths</th>\n",
       "      <th>open_acc</th>\n",
       "      <th>pub_rec</th>\n",
       "      <th>revol_bal</th>\n",
       "      <th>revol_util</th>\n",
       "      <th>total_acc</th>\n",
       "      <th>last_pymnt_d</th>\n",
       "      <th>pub_rec_bankruptcies</th>\n",
       "    </tr>\n",
       "  </thead>\n",
       "  <tbody>\n",
       "    <tr>\n",
       "      <th>0</th>\n",
       "      <td>5000</td>\n",
       "      <td>5000</td>\n",
       "      <td>4975.0</td>\n",
       "      <td>36 months</td>\n",
       "      <td>10.65%</td>\n",
       "      <td>162.87</td>\n",
       "      <td>B</td>\n",
       "      <td>B2</td>\n",
       "      <td>NaN</td>\n",
       "      <td>10+ years</td>\n",
       "      <td>...</td>\n",
       "      <td>AZ</td>\n",
       "      <td>27.65</td>\n",
       "      <td>1</td>\n",
       "      <td>3</td>\n",
       "      <td>0</td>\n",
       "      <td>13648</td>\n",
       "      <td>83.70%</td>\n",
       "      <td>9</td>\n",
       "      <td>Jan-15</td>\n",
       "      <td>0.0</td>\n",
       "    </tr>\n",
       "    <tr>\n",
       "      <th>1</th>\n",
       "      <td>2500</td>\n",
       "      <td>2500</td>\n",
       "      <td>2500.0</td>\n",
       "      <td>60 months</td>\n",
       "      <td>15.27%</td>\n",
       "      <td>59.83</td>\n",
       "      <td>C</td>\n",
       "      <td>C4</td>\n",
       "      <td>Ryder</td>\n",
       "      <td>&lt; 1 year</td>\n",
       "      <td>...</td>\n",
       "      <td>GA</td>\n",
       "      <td>1.00</td>\n",
       "      <td>5</td>\n",
       "      <td>3</td>\n",
       "      <td>0</td>\n",
       "      <td>1687</td>\n",
       "      <td>9.40%</td>\n",
       "      <td>4</td>\n",
       "      <td>Apr-13</td>\n",
       "      <td>0.0</td>\n",
       "    </tr>\n",
       "    <tr>\n",
       "      <th>2</th>\n",
       "      <td>2400</td>\n",
       "      <td>2400</td>\n",
       "      <td>2400.0</td>\n",
       "      <td>36 months</td>\n",
       "      <td>15.96%</td>\n",
       "      <td>84.33</td>\n",
       "      <td>C</td>\n",
       "      <td>C5</td>\n",
       "      <td>NaN</td>\n",
       "      <td>10+ years</td>\n",
       "      <td>...</td>\n",
       "      <td>IL</td>\n",
       "      <td>8.72</td>\n",
       "      <td>2</td>\n",
       "      <td>2</td>\n",
       "      <td>0</td>\n",
       "      <td>2956</td>\n",
       "      <td>98.50%</td>\n",
       "      <td>10</td>\n",
       "      <td>Jun-14</td>\n",
       "      <td>0.0</td>\n",
       "    </tr>\n",
       "    <tr>\n",
       "      <th>3</th>\n",
       "      <td>10000</td>\n",
       "      <td>10000</td>\n",
       "      <td>10000.0</td>\n",
       "      <td>36 months</td>\n",
       "      <td>13.49%</td>\n",
       "      <td>339.31</td>\n",
       "      <td>C</td>\n",
       "      <td>C1</td>\n",
       "      <td>AIR RESOURCES BOARD</td>\n",
       "      <td>10+ years</td>\n",
       "      <td>...</td>\n",
       "      <td>CA</td>\n",
       "      <td>20.00</td>\n",
       "      <td>1</td>\n",
       "      <td>10</td>\n",
       "      <td>0</td>\n",
       "      <td>5598</td>\n",
       "      <td>21%</td>\n",
       "      <td>37</td>\n",
       "      <td>Jan-15</td>\n",
       "      <td>0.0</td>\n",
       "    </tr>\n",
       "    <tr>\n",
       "      <th>4</th>\n",
       "      <td>3000</td>\n",
       "      <td>3000</td>\n",
       "      <td>3000.0</td>\n",
       "      <td>60 months</td>\n",
       "      <td>12.69%</td>\n",
       "      <td>67.79</td>\n",
       "      <td>B</td>\n",
       "      <td>B5</td>\n",
       "      <td>University Medical Group</td>\n",
       "      <td>1 year</td>\n",
       "      <td>...</td>\n",
       "      <td>OR</td>\n",
       "      <td>17.94</td>\n",
       "      <td>0</td>\n",
       "      <td>15</td>\n",
       "      <td>0</td>\n",
       "      <td>27783</td>\n",
       "      <td>53.90%</td>\n",
       "      <td>38</td>\n",
       "      <td>May-16</td>\n",
       "      <td>0.0</td>\n",
       "    </tr>\n",
       "  </tbody>\n",
       "</table>\n",
       "<p>5 rows × 26 columns</p>\n",
       "</div>"
      ],
      "text/plain": [
       "   loan_amnt  funded_amnt  funded_amnt_inv        term int_rate  installment  \\\n",
       "0       5000         5000           4975.0   36 months   10.65%       162.87   \n",
       "1       2500         2500           2500.0   60 months   15.27%        59.83   \n",
       "2       2400         2400           2400.0   36 months   15.96%        84.33   \n",
       "3      10000        10000          10000.0   36 months   13.49%       339.31   \n",
       "4       3000         3000           3000.0   60 months   12.69%        67.79   \n",
       "\n",
       "  grade sub_grade                 emp_title emp_length  ...  addr_state  \\\n",
       "0     B        B2                       NaN  10+ years  ...          AZ   \n",
       "1     C        C4                     Ryder   < 1 year  ...          GA   \n",
       "2     C        C5                       NaN  10+ years  ...          IL   \n",
       "3     C        C1       AIR RESOURCES BOARD  10+ years  ...          CA   \n",
       "4     B        B5  University Medical Group     1 year  ...          OR   \n",
       "\n",
       "     dti inq_last_6mths open_acc pub_rec revol_bal revol_util  total_acc  \\\n",
       "0  27.65              1        3       0     13648     83.70%          9   \n",
       "1   1.00              5        3       0      1687      9.40%          4   \n",
       "2   8.72              2        2       0      2956     98.50%         10   \n",
       "3  20.00              1       10       0      5598        21%         37   \n",
       "4  17.94              0       15       0     27783     53.90%         38   \n",
       "\n",
       "   last_pymnt_d  pub_rec_bankruptcies  \n",
       "0        Jan-15                   0.0  \n",
       "1        Apr-13                   0.0  \n",
       "2        Jun-14                   0.0  \n",
       "3        Jan-15                   0.0  \n",
       "4        May-16                   0.0  \n",
       "\n",
       "[5 rows x 26 columns]"
      ]
     },
     "execution_count": 19,
     "metadata": {},
     "output_type": "execute_result"
    }
   ],
   "source": [
    "loan_dataset_cp.head()"
   ]
  },
  {
   "cell_type": "code",
   "execution_count": 20,
   "id": "6e726ec3-a8fd-4804-95bb-d3ce0d278ccf",
   "metadata": {},
   "outputs": [],
   "source": [
    "#let's gain more insight into our data"
   ]
  },
  {
   "cell_type": "code",
   "execution_count": 21,
   "id": "ed1b9ba9-4b24-4cab-86b8-bcc4042dd528",
   "metadata": {},
   "outputs": [
    {
     "name": "stdout",
     "output_type": "stream",
     "text": [
      "<class 'pandas.core.frame.DataFrame'>\n",
      "RangeIndex: 39717 entries, 0 to 39716\n",
      "Data columns (total 26 columns):\n",
      " #   Column                Non-Null Count  Dtype  \n",
      "---  ------                --------------  -----  \n",
      " 0   loan_amnt             39717 non-null  int64  \n",
      " 1   funded_amnt           39717 non-null  int64  \n",
      " 2   funded_amnt_inv       39717 non-null  float64\n",
      " 3   term                  39717 non-null  object \n",
      " 4   int_rate              39717 non-null  object \n",
      " 5   installment           39717 non-null  float64\n",
      " 6   grade                 39717 non-null  object \n",
      " 7   sub_grade             39717 non-null  object \n",
      " 8   emp_title             37258 non-null  object \n",
      " 9   emp_length            38642 non-null  object \n",
      " 10  annual_inc            39717 non-null  float64\n",
      " 11  verification_status   39717 non-null  object \n",
      " 12  issue_d               39717 non-null  object \n",
      " 13  loan_status           39717 non-null  object \n",
      " 14  purpose               39717 non-null  object \n",
      " 15  zip_code              39717 non-null  object \n",
      " 16  addr_state            39717 non-null  object \n",
      " 17  dti                   39717 non-null  float64\n",
      " 18  inq_last_6mths        39717 non-null  int64  \n",
      " 19  open_acc              39717 non-null  int64  \n",
      " 20  pub_rec               39717 non-null  int64  \n",
      " 21  revol_bal             39717 non-null  int64  \n",
      " 22  revol_util            39667 non-null  object \n",
      " 23  total_acc             39717 non-null  int64  \n",
      " 24  last_pymnt_d          39646 non-null  object \n",
      " 25  pub_rec_bankruptcies  39020 non-null  float64\n",
      "dtypes: float64(5), int64(7), object(14)\n",
      "memory usage: 7.9+ MB\n"
     ]
    }
   ],
   "source": [
    "loan_dataset_cp.info()"
   ]
  },
  {
   "cell_type": "code",
   "execution_count": 22,
   "id": "275b7082-7061-46bd-916b-608e000335ff",
   "metadata": {},
   "outputs": [],
   "source": [
    "#let's take a look at the memory usage alright"
   ]
  },
  {
   "cell_type": "code",
   "execution_count": 23,
   "id": "5fb17eb3-3050-473b-a83d-45341c5901fe",
   "metadata": {},
   "outputs": [
    {
     "data": {
      "text/plain": [
       "Index                      132\n",
       "loan_amnt               317736\n",
       "funded_amnt             317736\n",
       "funded_amnt_inv         317736\n",
       "term                    317736\n",
       "int_rate                317736\n",
       "installment             317736\n",
       "grade                   317736\n",
       "sub_grade               317736\n",
       "emp_title               317736\n",
       "emp_length              317736\n",
       "annual_inc              317736\n",
       "verification_status     317736\n",
       "issue_d                 317736\n",
       "loan_status             317736\n",
       "purpose                 317736\n",
       "zip_code                317736\n",
       "addr_state              317736\n",
       "dti                     317736\n",
       "inq_last_6mths          317736\n",
       "open_acc                317736\n",
       "pub_rec                 317736\n",
       "revol_bal               317736\n",
       "revol_util              317736\n",
       "total_acc               317736\n",
       "last_pymnt_d            317736\n",
       "pub_rec_bankruptcies    317736\n",
       "dtype: int64"
      ]
     },
     "execution_count": 23,
     "metadata": {},
     "output_type": "execute_result"
    }
   ],
   "source": [
    "loan_dataset_cp.memory_usage()"
   ]
  },
  {
   "cell_type": "code",
   "execution_count": 24,
   "id": "6c3a1701-13e4-49a6-81fb-74d4440fff91",
   "metadata": {},
   "outputs": [
    {
     "data": {
      "text/plain": [
       "pandas.core.series.Series"
      ]
     },
     "execution_count": 24,
     "metadata": {},
     "output_type": "execute_result"
    }
   ],
   "source": [
    "type(loan_dataset_cp.memory_usage())"
   ]
  },
  {
   "cell_type": "code",
   "execution_count": 25,
   "id": "673caec8-e78b-4771-a869-70458e11a0d8",
   "metadata": {},
   "outputs": [
    {
     "data": {
      "text/plain": [
       "317.736"
      ]
     },
     "execution_count": 25,
     "metadata": {},
     "output_type": "execute_result"
    }
   ],
   "source": [
    "317736/1000"
   ]
  },
  {
   "cell_type": "code",
   "execution_count": 26,
   "id": "5c71ee58-c526-4ed0-bc69-8d670ff72ef8",
   "metadata": {},
   "outputs": [
    {
     "data": {
      "text/plain": [
       "8.242"
      ]
     },
     "execution_count": 26,
     "metadata": {},
     "output_type": "execute_result"
    }
   ],
   "source": [
    "317/1000 * 26"
   ]
  },
  {
   "cell_type": "markdown",
   "id": "a66f8972-02fa-4e43-9f89-45ac49e8b088",
   "metadata": {},
   "source": [
    "#### Let's do a quick transformation using Apply/Map - Lambda\n",
    "<p>This is Actually a little bit of feature Engineering</p>"
   ]
  },
  {
   "cell_type": "code",
   "execution_count": 27,
   "id": "e0fc0673-c8e5-4a9f-ab00-093d868f5f79",
   "metadata": {},
   "outputs": [
    {
     "data": {
      "text/plain": [
       "0     Fully Paid\n",
       "1    Charged Off\n",
       "2     Fully Paid\n",
       "3     Fully Paid\n",
       "4        Current\n",
       "Name: loan_status, dtype: object"
      ]
     },
     "execution_count": 27,
     "metadata": {},
     "output_type": "execute_result"
    }
   ],
   "source": [
    "loan_dataset_cp.loan_status.head()"
   ]
  },
  {
   "cell_type": "code",
   "execution_count": 28,
   "id": "0b4e7a97-e6e9-42aa-8ae2-70f3c5e34af2",
   "metadata": {},
   "outputs": [],
   "source": [
    "#let's create a new column called defaulted that returns True(1) if it was charged off i.e. defaulted\n",
    "#and False (0) if it was fully paid"
   ]
  },
  {
   "cell_type": "code",
   "execution_count": 29,
   "id": "eb825115-c74b-4631-823d-d30aa4dabe2c",
   "metadata": {},
   "outputs": [],
   "source": [
    "loan_dataset_cp['defaulted'] = loan_dataset_cp['loan_status'].map(lambda x: 1 if x == 'Charged Off' else 0)\n",
    "#this could also be like this alright\n",
    "#loan_dataset_cp['defaulted'] = loan_dataset_cp['loan_status'].apply(lambda x: 1 if x == 'Charged Off' else 0)"
   ]
  },
  {
   "cell_type": "code",
   "execution_count": 30,
   "id": "d69443b4-7e8e-4e93-a94f-c9a96297bbb5",
   "metadata": {},
   "outputs": [],
   "source": [
    "#observe, we can't see all the columns, let's set the pd options of the column so that we can see it"
   ]
  },
  {
   "cell_type": "code",
   "execution_count": 31,
   "id": "8aec7f8e-cac8-421b-977a-a6063a4a4cc6",
   "metadata": {},
   "outputs": [],
   "source": [
    "pd.options.display.max_columns = 30"
   ]
  },
  {
   "cell_type": "code",
   "execution_count": 32,
   "id": "3851713e-7c65-4659-821b-49dc41853f97",
   "metadata": {},
   "outputs": [
    {
     "data": {
      "text/html": [
       "<div>\n",
       "<style scoped>\n",
       "    .dataframe tbody tr th:only-of-type {\n",
       "        vertical-align: middle;\n",
       "    }\n",
       "\n",
       "    .dataframe tbody tr th {\n",
       "        vertical-align: top;\n",
       "    }\n",
       "\n",
       "    .dataframe thead th {\n",
       "        text-align: right;\n",
       "    }\n",
       "</style>\n",
       "<table border=\"1\" class=\"dataframe\">\n",
       "  <thead>\n",
       "    <tr style=\"text-align: right;\">\n",
       "      <th></th>\n",
       "      <th>loan_amnt</th>\n",
       "      <th>funded_amnt</th>\n",
       "      <th>funded_amnt_inv</th>\n",
       "      <th>term</th>\n",
       "      <th>int_rate</th>\n",
       "      <th>installment</th>\n",
       "      <th>grade</th>\n",
       "      <th>sub_grade</th>\n",
       "      <th>emp_title</th>\n",
       "      <th>emp_length</th>\n",
       "      <th>annual_inc</th>\n",
       "      <th>verification_status</th>\n",
       "      <th>issue_d</th>\n",
       "      <th>loan_status</th>\n",
       "      <th>purpose</th>\n",
       "      <th>zip_code</th>\n",
       "      <th>addr_state</th>\n",
       "      <th>dti</th>\n",
       "      <th>inq_last_6mths</th>\n",
       "      <th>open_acc</th>\n",
       "      <th>pub_rec</th>\n",
       "      <th>revol_bal</th>\n",
       "      <th>revol_util</th>\n",
       "      <th>total_acc</th>\n",
       "      <th>last_pymnt_d</th>\n",
       "      <th>pub_rec_bankruptcies</th>\n",
       "      <th>defaulted</th>\n",
       "    </tr>\n",
       "  </thead>\n",
       "  <tbody>\n",
       "    <tr>\n",
       "      <th>0</th>\n",
       "      <td>5000</td>\n",
       "      <td>5000</td>\n",
       "      <td>4975.0</td>\n",
       "      <td>36 months</td>\n",
       "      <td>10.65%</td>\n",
       "      <td>162.87</td>\n",
       "      <td>B</td>\n",
       "      <td>B2</td>\n",
       "      <td>NaN</td>\n",
       "      <td>10+ years</td>\n",
       "      <td>24000.0</td>\n",
       "      <td>Verified</td>\n",
       "      <td>Dec-11</td>\n",
       "      <td>Fully Paid</td>\n",
       "      <td>credit_card</td>\n",
       "      <td>860xx</td>\n",
       "      <td>AZ</td>\n",
       "      <td>27.65</td>\n",
       "      <td>1</td>\n",
       "      <td>3</td>\n",
       "      <td>0</td>\n",
       "      <td>13648</td>\n",
       "      <td>83.70%</td>\n",
       "      <td>9</td>\n",
       "      <td>Jan-15</td>\n",
       "      <td>0.0</td>\n",
       "      <td>0</td>\n",
       "    </tr>\n",
       "    <tr>\n",
       "      <th>1</th>\n",
       "      <td>2500</td>\n",
       "      <td>2500</td>\n",
       "      <td>2500.0</td>\n",
       "      <td>60 months</td>\n",
       "      <td>15.27%</td>\n",
       "      <td>59.83</td>\n",
       "      <td>C</td>\n",
       "      <td>C4</td>\n",
       "      <td>Ryder</td>\n",
       "      <td>&lt; 1 year</td>\n",
       "      <td>30000.0</td>\n",
       "      <td>Source Verified</td>\n",
       "      <td>Dec-11</td>\n",
       "      <td>Charged Off</td>\n",
       "      <td>car</td>\n",
       "      <td>309xx</td>\n",
       "      <td>GA</td>\n",
       "      <td>1.00</td>\n",
       "      <td>5</td>\n",
       "      <td>3</td>\n",
       "      <td>0</td>\n",
       "      <td>1687</td>\n",
       "      <td>9.40%</td>\n",
       "      <td>4</td>\n",
       "      <td>Apr-13</td>\n",
       "      <td>0.0</td>\n",
       "      <td>1</td>\n",
       "    </tr>\n",
       "    <tr>\n",
       "      <th>2</th>\n",
       "      <td>2400</td>\n",
       "      <td>2400</td>\n",
       "      <td>2400.0</td>\n",
       "      <td>36 months</td>\n",
       "      <td>15.96%</td>\n",
       "      <td>84.33</td>\n",
       "      <td>C</td>\n",
       "      <td>C5</td>\n",
       "      <td>NaN</td>\n",
       "      <td>10+ years</td>\n",
       "      <td>12252.0</td>\n",
       "      <td>Not Verified</td>\n",
       "      <td>Dec-11</td>\n",
       "      <td>Fully Paid</td>\n",
       "      <td>small_business</td>\n",
       "      <td>606xx</td>\n",
       "      <td>IL</td>\n",
       "      <td>8.72</td>\n",
       "      <td>2</td>\n",
       "      <td>2</td>\n",
       "      <td>0</td>\n",
       "      <td>2956</td>\n",
       "      <td>98.50%</td>\n",
       "      <td>10</td>\n",
       "      <td>Jun-14</td>\n",
       "      <td>0.0</td>\n",
       "      <td>0</td>\n",
       "    </tr>\n",
       "    <tr>\n",
       "      <th>3</th>\n",
       "      <td>10000</td>\n",
       "      <td>10000</td>\n",
       "      <td>10000.0</td>\n",
       "      <td>36 months</td>\n",
       "      <td>13.49%</td>\n",
       "      <td>339.31</td>\n",
       "      <td>C</td>\n",
       "      <td>C1</td>\n",
       "      <td>AIR RESOURCES BOARD</td>\n",
       "      <td>10+ years</td>\n",
       "      <td>49200.0</td>\n",
       "      <td>Source Verified</td>\n",
       "      <td>Dec-11</td>\n",
       "      <td>Fully Paid</td>\n",
       "      <td>other</td>\n",
       "      <td>917xx</td>\n",
       "      <td>CA</td>\n",
       "      <td>20.00</td>\n",
       "      <td>1</td>\n",
       "      <td>10</td>\n",
       "      <td>0</td>\n",
       "      <td>5598</td>\n",
       "      <td>21%</td>\n",
       "      <td>37</td>\n",
       "      <td>Jan-15</td>\n",
       "      <td>0.0</td>\n",
       "      <td>0</td>\n",
       "    </tr>\n",
       "    <tr>\n",
       "      <th>4</th>\n",
       "      <td>3000</td>\n",
       "      <td>3000</td>\n",
       "      <td>3000.0</td>\n",
       "      <td>60 months</td>\n",
       "      <td>12.69%</td>\n",
       "      <td>67.79</td>\n",
       "      <td>B</td>\n",
       "      <td>B5</td>\n",
       "      <td>University Medical Group</td>\n",
       "      <td>1 year</td>\n",
       "      <td>80000.0</td>\n",
       "      <td>Source Verified</td>\n",
       "      <td>Dec-11</td>\n",
       "      <td>Current</td>\n",
       "      <td>other</td>\n",
       "      <td>972xx</td>\n",
       "      <td>OR</td>\n",
       "      <td>17.94</td>\n",
       "      <td>0</td>\n",
       "      <td>15</td>\n",
       "      <td>0</td>\n",
       "      <td>27783</td>\n",
       "      <td>53.90%</td>\n",
       "      <td>38</td>\n",
       "      <td>May-16</td>\n",
       "      <td>0.0</td>\n",
       "      <td>0</td>\n",
       "    </tr>\n",
       "  </tbody>\n",
       "</table>\n",
       "</div>"
      ],
      "text/plain": [
       "   loan_amnt  funded_amnt  funded_amnt_inv        term int_rate  installment  \\\n",
       "0       5000         5000           4975.0   36 months   10.65%       162.87   \n",
       "1       2500         2500           2500.0   60 months   15.27%        59.83   \n",
       "2       2400         2400           2400.0   36 months   15.96%        84.33   \n",
       "3      10000        10000          10000.0   36 months   13.49%       339.31   \n",
       "4       3000         3000           3000.0   60 months   12.69%        67.79   \n",
       "\n",
       "  grade sub_grade                 emp_title emp_length  annual_inc  \\\n",
       "0     B        B2                       NaN  10+ years     24000.0   \n",
       "1     C        C4                     Ryder   < 1 year     30000.0   \n",
       "2     C        C5                       NaN  10+ years     12252.0   \n",
       "3     C        C1       AIR RESOURCES BOARD  10+ years     49200.0   \n",
       "4     B        B5  University Medical Group     1 year     80000.0   \n",
       "\n",
       "  verification_status issue_d  loan_status         purpose zip_code  \\\n",
       "0            Verified  Dec-11   Fully Paid     credit_card    860xx   \n",
       "1     Source Verified  Dec-11  Charged Off             car    309xx   \n",
       "2        Not Verified  Dec-11   Fully Paid  small_business    606xx   \n",
       "3     Source Verified  Dec-11   Fully Paid           other    917xx   \n",
       "4     Source Verified  Dec-11      Current           other    972xx   \n",
       "\n",
       "  addr_state    dti  inq_last_6mths  open_acc  pub_rec  revol_bal revol_util  \\\n",
       "0         AZ  27.65               1         3        0      13648     83.70%   \n",
       "1         GA   1.00               5         3        0       1687      9.40%   \n",
       "2         IL   8.72               2         2        0       2956     98.50%   \n",
       "3         CA  20.00               1        10        0       5598        21%   \n",
       "4         OR  17.94               0        15        0      27783     53.90%   \n",
       "\n",
       "   total_acc last_pymnt_d  pub_rec_bankruptcies  defaulted  \n",
       "0          9       Jan-15                   0.0          0  \n",
       "1          4       Apr-13                   0.0          1  \n",
       "2         10       Jun-14                   0.0          0  \n",
       "3         37       Jan-15                   0.0          0  \n",
       "4         38       May-16                   0.0          0  "
      ]
     },
     "execution_count": 32,
     "metadata": {},
     "output_type": "execute_result"
    }
   ],
   "source": [
    "loan_dataset_cp.head()"
   ]
  },
  {
   "cell_type": "code",
   "execution_count": 33,
   "id": "5858dc02-21f0-4e4f-9ce6-bf202add92d1",
   "metadata": {},
   "outputs": [],
   "source": [
    "#Let's see some statistical analysis of this data"
   ]
  },
  {
   "cell_type": "code",
   "execution_count": 34,
   "id": "d71ea483-aaac-49d0-9426-9b3cb1023b7e",
   "metadata": {},
   "outputs": [
    {
     "data": {
      "text/html": [
       "<div>\n",
       "<style scoped>\n",
       "    .dataframe tbody tr th:only-of-type {\n",
       "        vertical-align: middle;\n",
       "    }\n",
       "\n",
       "    .dataframe tbody tr th {\n",
       "        vertical-align: top;\n",
       "    }\n",
       "\n",
       "    .dataframe thead th {\n",
       "        text-align: right;\n",
       "    }\n",
       "</style>\n",
       "<table border=\"1\" class=\"dataframe\">\n",
       "  <thead>\n",
       "    <tr style=\"text-align: right;\">\n",
       "      <th></th>\n",
       "      <th>loan_amnt</th>\n",
       "      <th>funded_amnt</th>\n",
       "      <th>funded_amnt_inv</th>\n",
       "      <th>installment</th>\n",
       "      <th>annual_inc</th>\n",
       "      <th>dti</th>\n",
       "      <th>inq_last_6mths</th>\n",
       "      <th>open_acc</th>\n",
       "      <th>pub_rec</th>\n",
       "      <th>revol_bal</th>\n",
       "      <th>total_acc</th>\n",
       "      <th>pub_rec_bankruptcies</th>\n",
       "      <th>defaulted</th>\n",
       "    </tr>\n",
       "  </thead>\n",
       "  <tbody>\n",
       "    <tr>\n",
       "      <th>count</th>\n",
       "      <td>39717.000000</td>\n",
       "      <td>39717.000000</td>\n",
       "      <td>39717.000000</td>\n",
       "      <td>39717.000000</td>\n",
       "      <td>3.971700e+04</td>\n",
       "      <td>39717.000000</td>\n",
       "      <td>39717.000000</td>\n",
       "      <td>39717.000000</td>\n",
       "      <td>39717.000000</td>\n",
       "      <td>39717.000000</td>\n",
       "      <td>39717.000000</td>\n",
       "      <td>39020.000000</td>\n",
       "      <td>39717.000000</td>\n",
       "    </tr>\n",
       "    <tr>\n",
       "      <th>mean</th>\n",
       "      <td>11219.443815</td>\n",
       "      <td>10947.713196</td>\n",
       "      <td>10397.448868</td>\n",
       "      <td>324.561922</td>\n",
       "      <td>6.896893e+04</td>\n",
       "      <td>13.315130</td>\n",
       "      <td>0.869200</td>\n",
       "      <td>9.294408</td>\n",
       "      <td>0.055065</td>\n",
       "      <td>13382.528086</td>\n",
       "      <td>22.088828</td>\n",
       "      <td>0.043260</td>\n",
       "      <td>0.141677</td>\n",
       "    </tr>\n",
       "    <tr>\n",
       "      <th>std</th>\n",
       "      <td>7456.670694</td>\n",
       "      <td>7187.238670</td>\n",
       "      <td>7128.450439</td>\n",
       "      <td>208.874874</td>\n",
       "      <td>6.379377e+04</td>\n",
       "      <td>6.678594</td>\n",
       "      <td>1.070219</td>\n",
       "      <td>4.400282</td>\n",
       "      <td>0.237200</td>\n",
       "      <td>15885.016641</td>\n",
       "      <td>11.401709</td>\n",
       "      <td>0.204324</td>\n",
       "      <td>0.348723</td>\n",
       "    </tr>\n",
       "    <tr>\n",
       "      <th>min</th>\n",
       "      <td>500.000000</td>\n",
       "      <td>500.000000</td>\n",
       "      <td>0.000000</td>\n",
       "      <td>15.690000</td>\n",
       "      <td>4.000000e+03</td>\n",
       "      <td>0.000000</td>\n",
       "      <td>0.000000</td>\n",
       "      <td>2.000000</td>\n",
       "      <td>0.000000</td>\n",
       "      <td>0.000000</td>\n",
       "      <td>2.000000</td>\n",
       "      <td>0.000000</td>\n",
       "      <td>0.000000</td>\n",
       "    </tr>\n",
       "    <tr>\n",
       "      <th>25%</th>\n",
       "      <td>5500.000000</td>\n",
       "      <td>5400.000000</td>\n",
       "      <td>5000.000000</td>\n",
       "      <td>167.020000</td>\n",
       "      <td>4.040400e+04</td>\n",
       "      <td>8.170000</td>\n",
       "      <td>0.000000</td>\n",
       "      <td>6.000000</td>\n",
       "      <td>0.000000</td>\n",
       "      <td>3703.000000</td>\n",
       "      <td>13.000000</td>\n",
       "      <td>0.000000</td>\n",
       "      <td>0.000000</td>\n",
       "    </tr>\n",
       "    <tr>\n",
       "      <th>50%</th>\n",
       "      <td>10000.000000</td>\n",
       "      <td>9600.000000</td>\n",
       "      <td>8975.000000</td>\n",
       "      <td>280.220000</td>\n",
       "      <td>5.900000e+04</td>\n",
       "      <td>13.400000</td>\n",
       "      <td>1.000000</td>\n",
       "      <td>9.000000</td>\n",
       "      <td>0.000000</td>\n",
       "      <td>8850.000000</td>\n",
       "      <td>20.000000</td>\n",
       "      <td>0.000000</td>\n",
       "      <td>0.000000</td>\n",
       "    </tr>\n",
       "    <tr>\n",
       "      <th>75%</th>\n",
       "      <td>15000.000000</td>\n",
       "      <td>15000.000000</td>\n",
       "      <td>14400.000000</td>\n",
       "      <td>430.780000</td>\n",
       "      <td>8.230000e+04</td>\n",
       "      <td>18.600000</td>\n",
       "      <td>1.000000</td>\n",
       "      <td>12.000000</td>\n",
       "      <td>0.000000</td>\n",
       "      <td>17058.000000</td>\n",
       "      <td>29.000000</td>\n",
       "      <td>0.000000</td>\n",
       "      <td>0.000000</td>\n",
       "    </tr>\n",
       "    <tr>\n",
       "      <th>max</th>\n",
       "      <td>35000.000000</td>\n",
       "      <td>35000.000000</td>\n",
       "      <td>35000.000000</td>\n",
       "      <td>1305.190000</td>\n",
       "      <td>6.000000e+06</td>\n",
       "      <td>29.990000</td>\n",
       "      <td>8.000000</td>\n",
       "      <td>44.000000</td>\n",
       "      <td>4.000000</td>\n",
       "      <td>149588.000000</td>\n",
       "      <td>90.000000</td>\n",
       "      <td>2.000000</td>\n",
       "      <td>1.000000</td>\n",
       "    </tr>\n",
       "  </tbody>\n",
       "</table>\n",
       "</div>"
      ],
      "text/plain": [
       "          loan_amnt   funded_amnt  funded_amnt_inv   installment  \\\n",
       "count  39717.000000  39717.000000     39717.000000  39717.000000   \n",
       "mean   11219.443815  10947.713196     10397.448868    324.561922   \n",
       "std     7456.670694   7187.238670      7128.450439    208.874874   \n",
       "min      500.000000    500.000000         0.000000     15.690000   \n",
       "25%     5500.000000   5400.000000      5000.000000    167.020000   \n",
       "50%    10000.000000   9600.000000      8975.000000    280.220000   \n",
       "75%    15000.000000  15000.000000     14400.000000    430.780000   \n",
       "max    35000.000000  35000.000000     35000.000000   1305.190000   \n",
       "\n",
       "         annual_inc           dti  inq_last_6mths      open_acc       pub_rec  \\\n",
       "count  3.971700e+04  39717.000000    39717.000000  39717.000000  39717.000000   \n",
       "mean   6.896893e+04     13.315130        0.869200      9.294408      0.055065   \n",
       "std    6.379377e+04      6.678594        1.070219      4.400282      0.237200   \n",
       "min    4.000000e+03      0.000000        0.000000      2.000000      0.000000   \n",
       "25%    4.040400e+04      8.170000        0.000000      6.000000      0.000000   \n",
       "50%    5.900000e+04     13.400000        1.000000      9.000000      0.000000   \n",
       "75%    8.230000e+04     18.600000        1.000000     12.000000      0.000000   \n",
       "max    6.000000e+06     29.990000        8.000000     44.000000      4.000000   \n",
       "\n",
       "           revol_bal     total_acc  pub_rec_bankruptcies     defaulted  \n",
       "count   39717.000000  39717.000000          39020.000000  39717.000000  \n",
       "mean    13382.528086     22.088828              0.043260      0.141677  \n",
       "std     15885.016641     11.401709              0.204324      0.348723  \n",
       "min         0.000000      2.000000              0.000000      0.000000  \n",
       "25%      3703.000000     13.000000              0.000000      0.000000  \n",
       "50%      8850.000000     20.000000              0.000000      0.000000  \n",
       "75%     17058.000000     29.000000              0.000000      0.000000  \n",
       "max    149588.000000     90.000000              2.000000      1.000000  "
      ]
     },
     "execution_count": 34,
     "metadata": {},
     "output_type": "execute_result"
    }
   ],
   "source": [
    "loan_dataset_cp.describe()"
   ]
  },
  {
   "cell_type": "code",
   "execution_count": 35,
   "id": "5596cb6a-bc2d-4e7c-b94d-2d971f3d759c",
   "metadata": {},
   "outputs": [
    {
     "data": {
      "text/plain": [
       "pandas.core.frame.DataFrame"
      ]
     },
     "execution_count": 35,
     "metadata": {},
     "output_type": "execute_result"
    }
   ],
   "source": [
    "type(loan_dataset_cp.describe())"
   ]
  },
  {
   "cell_type": "code",
   "execution_count": 36,
   "id": "a90779bd-9374-4b55-b9bf-5ecf547ee7c4",
   "metadata": {},
   "outputs": [
    {
     "data": {
      "text/plain": [
       "count    39717.000000\n",
       "mean     11219.443815\n",
       "std       7456.670694\n",
       "min        500.000000\n",
       "25%       5500.000000\n",
       "50%      10000.000000\n",
       "75%      15000.000000\n",
       "max      35000.000000\n",
       "Name: loan_amnt, dtype: float64"
      ]
     },
     "execution_count": 36,
     "metadata": {},
     "output_type": "execute_result"
    }
   ],
   "source": [
    "loan_dataset_cp.describe().loan_amnt"
   ]
  },
  {
   "cell_type": "code",
   "execution_count": 37,
   "id": "5f1d50b0-50a3-4e81-9f6b-748f835ce1f7",
   "metadata": {},
   "outputs": [],
   "source": [
    "#general information of the dataset"
   ]
  },
  {
   "cell_type": "code",
   "execution_count": 38,
   "id": "6b0ec8f9-4287-48b4-bfa0-1efdcbd9cf87",
   "metadata": {},
   "outputs": [
    {
     "name": "stdout",
     "output_type": "stream",
     "text": [
      "<class 'pandas.core.frame.DataFrame'>\n",
      "RangeIndex: 39717 entries, 0 to 39716\n",
      "Data columns (total 27 columns):\n",
      " #   Column                Non-Null Count  Dtype  \n",
      "---  ------                --------------  -----  \n",
      " 0   loan_amnt             39717 non-null  int64  \n",
      " 1   funded_amnt           39717 non-null  int64  \n",
      " 2   funded_amnt_inv       39717 non-null  float64\n",
      " 3   term                  39717 non-null  object \n",
      " 4   int_rate              39717 non-null  object \n",
      " 5   installment           39717 non-null  float64\n",
      " 6   grade                 39717 non-null  object \n",
      " 7   sub_grade             39717 non-null  object \n",
      " 8   emp_title             37258 non-null  object \n",
      " 9   emp_length            38642 non-null  object \n",
      " 10  annual_inc            39717 non-null  float64\n",
      " 11  verification_status   39717 non-null  object \n",
      " 12  issue_d               39717 non-null  object \n",
      " 13  loan_status           39717 non-null  object \n",
      " 14  purpose               39717 non-null  object \n",
      " 15  zip_code              39717 non-null  object \n",
      " 16  addr_state            39717 non-null  object \n",
      " 17  dti                   39717 non-null  float64\n",
      " 18  inq_last_6mths        39717 non-null  int64  \n",
      " 19  open_acc              39717 non-null  int64  \n",
      " 20  pub_rec               39717 non-null  int64  \n",
      " 21  revol_bal             39717 non-null  int64  \n",
      " 22  revol_util            39667 non-null  object \n",
      " 23  total_acc             39717 non-null  int64  \n",
      " 24  last_pymnt_d          39646 non-null  object \n",
      " 25  pub_rec_bankruptcies  39020 non-null  float64\n",
      " 26  defaulted             39717 non-null  int64  \n",
      "dtypes: float64(5), int64(8), object(14)\n",
      "memory usage: 8.2+ MB\n"
     ]
    }
   ],
   "source": [
    "loan_dataset_cp.info()"
   ]
  },
  {
   "cell_type": "markdown",
   "id": "bdbb77e9-7e4b-41e7-aca8-659e18eafe2e",
   "metadata": {},
   "source": [
    "#### UNIVARIATE ANALYSIS"
   ]
  },
  {
   "cell_type": "code",
   "execution_count": 39,
   "id": "4302b1c0-e9ed-4ae6-aa29-b97d3f8ab5ef",
   "metadata": {},
   "outputs": [],
   "source": [
    "#Aim: To checkout the distribution of Loan Amounts and Funded Amounts"
   ]
  },
  {
   "cell_type": "code",
   "execution_count": 40,
   "id": "3a7bec2a-efa4-444e-9db3-3e8b34f3bd81",
   "metadata": {},
   "outputs": [
    {
     "name": "stdout",
     "output_type": "stream",
     "text": [
      "loan_amnt\n",
      "funded_amnt\n"
     ]
    }
   ],
   "source": [
    "for values in loan_dataset_cp.columns:\n",
    "    if values.endswith('amnt'):\n",
    "        print(values)\n",
    "    else:\n",
    "        pass"
   ]
  },
  {
   "cell_type": "code",
   "execution_count": 41,
   "id": "811e1e08-1e11-48de-a9df-90778b1dff36",
   "metadata": {},
   "outputs": [
    {
     "data": {
      "image/png": "[encoded data removed]",
      "text/plain": [
       "<Figure size 800x400 with 1 Axes>"
      ]
     },
     "metadata": {},
     "output_type": "display_data"
    }
   ],
   "source": [
    "fig = plt.figure(figsize = (8,4))\n",
    "plt.hist(x = [loan_dataset_cp.loan_amnt, loan_dataset_cp.funded_amnt], label = ['Loan Amount', 'Funded Amount'])\n",
    "plt.xlabel(\"Loan Amount/Funded Amount\")\n",
    "plt.ylabel(\"The count of these\")\n",
    "plt.title(\"LOAN AMOUNT/FUNDED AMOUNT VS TITLE\")\n",
    "plt.legend()\n",
    "fig.show()"
   ]
  },
  {
   "cell_type": "markdown",
   "id": "5b75d7fc-2c1e-4a80-be0d-30805943c0b7",
   "metadata": {},
   "source": [
    "##### Just a pivot_table analysis"
   ]
  },
  {
   "cell_type": "code",
   "execution_count": 42,
   "id": "870e01b3-f71a-436f-8602-c5f299f107b1",
   "metadata": {},
   "outputs": [],
   "source": [
    "#let's do average funded amount for defaulters and not defauotrers for the 36 and 60 months period"
   ]
  },
  {
   "cell_type": "code",
   "execution_count": 43,
   "id": "98bc1445-e246-41cc-975d-838446839128",
   "metadata": {},
   "outputs": [
    {
     "data": {
      "text/plain": [
       "Index(['loan_amnt', 'funded_amnt', 'funded_amnt_inv', 'term', 'int_rate',\n",
       "       'installment', 'grade', 'sub_grade', 'emp_title', 'emp_length',\n",
       "       'annual_inc', 'verification_status', 'issue_d', 'loan_status',\n",
       "       'purpose', 'zip_code', 'addr_state', 'dti', 'inq_last_6mths',\n",
       "       'open_acc', 'pub_rec', 'revol_bal', 'revol_util', 'total_acc',\n",
       "       'last_pymnt_d', 'pub_rec_bankruptcies', 'defaulted'],\n",
       "      dtype='object')"
      ]
     },
     "execution_count": 43,
     "metadata": {},
     "output_type": "execute_result"
    }
   ],
   "source": [
    "loan_dataset_cp.columns"
   ]
  },
  {
   "cell_type": "code",
   "execution_count": 44,
   "id": "25c23dbc-fe9b-4a46-8ebe-297d2117200d",
   "metadata": {},
   "outputs": [
    {
     "data": {
      "text/html": [
       "<div>\n",
       "<style scoped>\n",
       "    .dataframe tbody tr th:only-of-type {\n",
       "        vertical-align: middle;\n",
       "    }\n",
       "\n",
       "    .dataframe tbody tr th {\n",
       "        vertical-align: top;\n",
       "    }\n",
       "\n",
       "    .dataframe thead th {\n",
       "        text-align: right;\n",
       "    }\n",
       "</style>\n",
       "<table border=\"1\" class=\"dataframe\">\n",
       "  <thead>\n",
       "    <tr style=\"text-align: right;\">\n",
       "      <th>term</th>\n",
       "      <th>36 months</th>\n",
       "      <th>60 months</th>\n",
       "    </tr>\n",
       "    <tr>\n",
       "      <th>defaulted</th>\n",
       "      <th></th>\n",
       "      <th></th>\n",
       "    </tr>\n",
       "  </thead>\n",
       "  <tbody>\n",
       "    <tr>\n",
       "      <th>0</th>\n",
       "      <td>9495.432757</td>\n",
       "      <td>14966.135507</td>\n",
       "    </tr>\n",
       "    <tr>\n",
       "      <th>1</th>\n",
       "      <td>9258.064766</td>\n",
       "      <td>15108.583333</td>\n",
       "    </tr>\n",
       "  </tbody>\n",
       "</table>\n",
       "</div>"
      ],
      "text/plain": [
       "term         36 months     60 months\n",
       "defaulted                           \n",
       "0          9495.432757  14966.135507\n",
       "1          9258.064766  15108.583333"
      ]
     },
     "execution_count": 44,
     "metadata": {},
     "output_type": "execute_result"
    }
   ],
   "source": [
    "loan_dataset_cp.pivot_table(index = 'defaulted', columns = 'term', values = 'funded_amnt', aggfunc = 'mean')"
   ]
  },
  {
   "cell_type": "code",
   "execution_count": 45,
   "id": "82b575b7-22dd-47fd-a0cc-87498d059814",
   "metadata": {},
   "outputs": [],
   "source": [
    "#let's get a visual representation or understanding of the amounnt of loans that was disbursed alright."
   ]
  },
  {
   "cell_type": "code",
   "execution_count": 56,
   "id": "a529153e-e1c5-4da6-964f-cdacd7e74c3c",
   "metadata": {},
   "outputs": [
    {
     "data": {
      "image/png": "[encoded data removed]",
      "text/plain": [
       "<Figure size 500x300 with 1 Axes>"
      ]
     },
     "metadata": {},
     "output_type": "display_data"
    }
   ],
   "source": [
    "plt.figure(figsize = (5,3))\n",
    "sns.boxplot(loan_dataset_cp.loan_amnt, orient = 'horizontal')\n",
    "plt.show()"
   ]
  },
  {
   "cell_type": "code",
   "execution_count": 57,
   "id": "99e968d4-9b9b-40bb-a5b0-66a7107ca825",
   "metadata": {},
   "outputs": [],
   "source": [
    "#let's examine the income of the defaulters and the non defaulter.., we could use pivot_table\n",
    "#just to see probably the average"
   ]
  },
  {
   "cell_type": "code",
   "execution_count": 58,
   "id": "399780b8-a579-46d6-baa3-c03b07bee4fc",
   "metadata": {},
   "outputs": [
    {
     "data": {
      "text/html": [
       "<div>\n",
       "<style scoped>\n",
       "    .dataframe tbody tr th:only-of-type {\n",
       "        vertical-align: middle;\n",
       "    }\n",
       "\n",
       "    .dataframe tbody tr th {\n",
       "        vertical-align: top;\n",
       "    }\n",
       "\n",
       "    .dataframe thead th {\n",
       "        text-align: right;\n",
       "    }\n",
       "</style>\n",
       "<table border=\"1\" class=\"dataframe\">\n",
       "  <thead>\n",
       "    <tr style=\"text-align: right;\">\n",
       "      <th></th>\n",
       "      <th>loan_amnt</th>\n",
       "      <th>funded_amnt</th>\n",
       "      <th>funded_amnt_inv</th>\n",
       "      <th>term</th>\n",
       "      <th>int_rate</th>\n",
       "      <th>installment</th>\n",
       "      <th>grade</th>\n",
       "      <th>sub_grade</th>\n",
       "      <th>emp_title</th>\n",
       "      <th>emp_length</th>\n",
       "      <th>annual_inc</th>\n",
       "      <th>verification_status</th>\n",
       "      <th>issue_d</th>\n",
       "      <th>loan_status</th>\n",
       "      <th>purpose</th>\n",
       "      <th>zip_code</th>\n",
       "      <th>addr_state</th>\n",
       "      <th>dti</th>\n",
       "      <th>inq_last_6mths</th>\n",
       "      <th>open_acc</th>\n",
       "      <th>pub_rec</th>\n",
       "      <th>revol_bal</th>\n",
       "      <th>revol_util</th>\n",
       "      <th>total_acc</th>\n",
       "      <th>last_pymnt_d</th>\n",
       "      <th>pub_rec_bankruptcies</th>\n",
       "      <th>defaulted</th>\n",
       "    </tr>\n",
       "  </thead>\n",
       "  <tbody>\n",
       "    <tr>\n",
       "      <th>0</th>\n",
       "      <td>5000</td>\n",
       "      <td>5000</td>\n",
       "      <td>4975.0</td>\n",
       "      <td>36 months</td>\n",
       "      <td>10.65%</td>\n",
       "      <td>162.87</td>\n",
       "      <td>B</td>\n",
       "      <td>B2</td>\n",
       "      <td>NaN</td>\n",
       "      <td>10+ years</td>\n",
       "      <td>24000.0</td>\n",
       "      <td>Verified</td>\n",
       "      <td>Dec-11</td>\n",
       "      <td>Fully Paid</td>\n",
       "      <td>credit_card</td>\n",
       "      <td>860xx</td>\n",
       "      <td>AZ</td>\n",
       "      <td>27.65</td>\n",
       "      <td>1</td>\n",
       "      <td>3</td>\n",
       "      <td>0</td>\n",
       "      <td>13648</td>\n",
       "      <td>83.70%</td>\n",
       "      <td>9</td>\n",
       "      <td>Jan-15</td>\n",
       "      <td>0.0</td>\n",
       "      <td>0</td>\n",
       "    </tr>\n",
       "  </tbody>\n",
       "</table>\n",
       "</div>"
      ],
      "text/plain": [
       "   loan_amnt  funded_amnt  funded_amnt_inv        term int_rate  installment  \\\n",
       "0       5000         5000           4975.0   36 months   10.65%       162.87   \n",
       "\n",
       "  grade sub_grade emp_title emp_length  annual_inc verification_status  \\\n",
       "0     B        B2       NaN  10+ years     24000.0            Verified   \n",
       "\n",
       "  issue_d loan_status      purpose zip_code addr_state    dti  inq_last_6mths  \\\n",
       "0  Dec-11  Fully Paid  credit_card    860xx         AZ  27.65               1   \n",
       "\n",
       "   open_acc  pub_rec  revol_bal revol_util  total_acc last_pymnt_d  \\\n",
       "0         3        0      13648     83.70%          9       Jan-15   \n",
       "\n",
       "   pub_rec_bankruptcies  defaulted  \n",
       "0                   0.0          0  "
      ]
     },
     "execution_count": 58,
     "metadata": {},
     "output_type": "execute_result"
    }
   ],
   "source": [
    "loan_dataset_cp.head(1)"
   ]
  },
  {
   "cell_type": "code",
   "execution_count": 59,
   "id": "b17a43a7-97b9-4f2b-a778-bdf780e1e920",
   "metadata": {},
   "outputs": [
    {
     "data": {
      "text/html": [
       "<div>\n",
       "<style scoped>\n",
       "    .dataframe tbody tr th:only-of-type {\n",
       "        vertical-align: middle;\n",
       "    }\n",
       "\n",
       "    .dataframe tbody tr th {\n",
       "        vertical-align: top;\n",
       "    }\n",
       "\n",
       "    .dataframe thead th {\n",
       "        text-align: right;\n",
       "    }\n",
       "</style>\n",
       "<table border=\"1\" class=\"dataframe\">\n",
       "  <thead>\n",
       "    <tr style=\"text-align: right;\">\n",
       "      <th></th>\n",
       "      <th>annual_inc</th>\n",
       "    </tr>\n",
       "    <tr>\n",
       "      <th>defaulted</th>\n",
       "      <th></th>\n",
       "    </tr>\n",
       "  </thead>\n",
       "  <tbody>\n",
       "    <tr>\n",
       "      <th>0</th>\n",
       "      <td>70048.707623</td>\n",
       "    </tr>\n",
       "    <tr>\n",
       "      <th>1</th>\n",
       "      <td>62427.298034</td>\n",
       "    </tr>\n",
       "  </tbody>\n",
       "</table>\n",
       "</div>"
      ],
      "text/plain": [
       "             annual_inc\n",
       "defaulted              \n",
       "0          70048.707623\n",
       "1          62427.298034"
      ]
     },
     "execution_count": 59,
     "metadata": {},
     "output_type": "execute_result"
    }
   ],
   "source": [
    "loan_dataset_cp.pivot_table(index = 'defaulted', values = 'annual_inc', aggfunc = 'mean')"
   ]
  },
  {
   "cell_type": "code",
   "execution_count": 71,
   "id": "f0ac81b3-70b0-4dbb-9509-ca8f1f0e7062",
   "metadata": {},
   "outputs": [
    {
     "data": {
      "image/png": "[encoded data removed]",
      "text/plain": [
       "<Figure size 640x480 with 1 Axes>"
      ]
     },
     "metadata": {},
     "output_type": "display_data"
    }
   ],
   "source": [
    "fig, ax = plt.subplots()\n",
    "ax = sns.boxplot(x = 'defaulted', y = 'annual_inc', data = loan_dataset_cp)\n",
    "ax.set_xlabel(\"Defaulted? (0 = 'No', 1 = 'Yes')\")\n",
    "ax.set_ylabel(\"Annual Income\")\n",
    "ax.set_title(\"Visualisation of annual income of defaulted (0 and 1)\")\n",
    "fig.show()\n",
    "\n",
    "# fig = plt.figure()\n",
    "# ax = fig.add_subplot(1,1,1)\n",
    "# ax = sns.boxplot(x = 'defaulted', y = 'annual_inc', data = loan_dataset_cp)\n",
    "# ax.set_xlabel(\"Defaulted? (0 = 'No', 1 = 'Yes')\")\n",
    "# ax.set_ylabel(\"Annual Income\")\n",
    "# ax.set_title(\"Visualisation of annual income of defaulted (0 and 1)\")\n",
    "# fig.show()\n",
    "\n",
    "# plt.figure()\n",
    "# sns.boxplot(x = 'defaulted', y = 'annual_inc', data = loan_dataset_cp)\n",
    "# plt.xlabel(\"Defaulted? (0 = 'No', 1 = 'Yes')\")\n",
    "# plt.ylabel(\"Annual Income\")\n",
    "# plt.title(\"Visualisation of annual income of defaulted (0 and 1)\")\n",
    "# plt.show()\n",
    "\n",
    "# plt.figure()\n",
    "# plt.subplot(111)\n",
    "# sns.boxplot(x = 'defaulted', y = 'annual_inc', data = loan_dataset_cp)\n",
    "# plt.xlabel(\"Defaulted? (0 = 'No', 1 = 'Yes')\")\n",
    "# plt.ylabel(\"Annual Income\")\n",
    "# plt.title(\"Visualisation of annual income of defaulted (0 and 1)\")\n",
    "# plt.show()"
   ]
  },
  {
   "cell_type": "markdown",
   "id": "b84a287f-1fde-4f41-bab8-095e4a55a89b",
   "metadata": {},
   "source": [
    "### REMOVE OUTLIERS"
   ]
  },
  {
   "cell_type": "code",
   "execution_count": 72,
   "id": "b3abf14c-f6fb-47d9-93fa-018f5a0c0f57",
   "metadata": {},
   "outputs": [],
   "source": [
    "#let's find out the total population we have for the annual income and see if we can\n",
    "#take 99% out of it"
   ]
  },
  {
   "cell_type": "code",
   "execution_count": 75,
   "id": "78d00816-7e92-427f-a34f-6124b139e810",
   "metadata": {},
   "outputs": [],
   "source": [
    "total_annual_inc = loan_dataset_cp['annual_inc'].count()"
   ]
  },
  {
   "cell_type": "code",
   "execution_count": 78,
   "id": "a32aa246-e9a8-4365-b417-084474abdc51",
   "metadata": {},
   "outputs": [],
   "source": [
    "top_99_total_annual_inc = round(total_annual_inc * 0.99)"
   ]
  },
  {
   "cell_type": "code",
   "execution_count": 81,
   "id": "0918d950-00bd-4190-8e30-48b8d22d6ffb",
   "metadata": {},
   "outputs": [
    {
     "data": {
      "text/plain": [
       "39320"
      ]
     },
     "execution_count": 81,
     "metadata": {},
     "output_type": "execute_result"
    }
   ],
   "source": [
    "top_99_total_annual_inc"
   ]
  },
  {
   "cell_type": "code",
   "execution_count": 82,
   "id": "d90c163f-7140-4d43-b970-a41f366e1247",
   "metadata": {},
   "outputs": [],
   "source": [
    "#so we could create a dataframe out of these 39320 values"
   ]
  },
  {
   "cell_type": "code",
   "execution_count": 83,
   "id": "ef70669b-f77a-4ce5-984b-1fed9ce19874",
   "metadata": {},
   "outputs": [],
   "source": [
    "loan_dataset_cp_temp = pd.DataFrame({'defaulted':loan_dataset_cp.defaulted, 'annual_inc':loan_dataset_cp.annual_inc})"
   ]
  },
  {
   "cell_type": "code",
   "execution_count": 87,
   "id": "3b401b66-2c8c-4861-86d6-4af1b8cacc2b",
   "metadata": {},
   "outputs": [],
   "source": [
    "k = loan_dataset_cp_temp.sort_values(by = 'annual_inc').head(top_99_total_annual_inc)"
   ]
  },
  {
   "cell_type": "code",
   "execution_count": 88,
   "id": "d251b03b-da82-405d-bdd6-85b018af1098",
   "metadata": {},
   "outputs": [
    {
     "data": {
      "image/png": "[encoded data removed]",
      "text/plain": [
       "<Figure size 640x480 with 1 Axes>"
      ]
     },
     "metadata": {},
     "output_type": "display_data"
    }
   ],
   "source": [
    "plt.figure()\n",
    "sns.boxplot(x = 'defaulted', y = 'annual_inc', data = k)\n",
    "plt.xlabel(\"Defaulted? (0 = 'No', 1 = 'Yes')\")\n",
    "plt.ylabel(\"Annual Income\")\n",
    "plt.title(\"Visualisation of annual income of defaulted (0 and 1)\")\n",
    "plt.show()"
   ]
  },
  {
   "cell_type": "code",
   "execution_count": null,
   "id": "3440c889-d900-4ae0-9182-6c2ea5cb656d",
   "metadata": {},
   "outputs": [],
   "source": []
  }
 ],
 "metadata": {
  "kernelspec": {
   "display_name": "Python 3 (ipykernel)",
   "language": "python",
   "name": "python3"
  },
  "language_info": {
   "codemirror_mode": {
    "name": "ipython",
    "version": 3
   },
   "file_extension": ".py",
   "mimetype": "text/x-python",
   "name": "python",
   "nbconvert_exporter": "python",
   "pygments_lexer": "ipython3",
   "version": "3.11.4"
  }
 },
 "nbformat": 4,
 "nbformat_minor": 5
}

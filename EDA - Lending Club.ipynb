{
 "cells": [
  {
   "cell_type": "markdown",
   "id": "e085b3dd-c785-41e1-b476-5f7185c0d978",
   "metadata": {},
   "source": [
    "### WELCOME TO THE ANALYSIS OF A LENDING CLUB LOAN DATA"
   ]
  },
  {
   "cell_type": "markdown",
   "id": "cb5318b2-ad26-4b45-996e-a21a86a433bd",
   "metadata": {},
   "source": [
    "<h5>1. Importing Relevant libraries and Modules</h5>"
   ]
  },
  {
   "cell_type": "code",
   "execution_count": 1,
   "id": "7f72d5f4-be2b-4d22-be6b-ce78a14f9b66",
   "metadata": {},
   "outputs": [],
   "source": [
    "import numpy as np\n",
    "import pandas as pd\n",
    "import matplotlib.pyplot as plt\n",
    "import seaborn as sns\n",
    "#from datetime import datetime"
   ]
  },
  {
   "cell_type": "code",
   "execution_count": 2,
   "id": "54cdb56f-e1bb-484f-9291-9e4f0aeb27fc",
   "metadata": {},
   "outputs": [],
   "source": [
    "#Remove Warnings\n",
    "import warnings\n",
    "warnings.filterwarnings(\"ignore\")"
   ]
  },
  {
   "cell_type": "markdown",
   "id": "0850aeb4-ef45-43ea-bfa2-2801d04ea521",
   "metadata": {},
   "source": [
    "<h5>2.Load your CSV File</h5>"
   ]
  },
  {
   "cell_type": "code",
   "execution_count": null,
   "id": "dbc9f7ab-a220-48b6-91c5-2a593625f2f0",
   "metadata": {},
   "outputs": [],
   "source": [
    "loan_dataset = pd.read_csv(\"loan.csv\", encoding= \"ISO-8859-1\") #The encoding is useful in this case"
   ]
  },
  {
   "cell_type": "code",
   "execution_count": null,
   "id": "e0d19590-a95f-48e3-b29f-260a91e6051e",
   "metadata": {},
   "outputs": [],
   "source": [
    "#create a shallow copy of this dataset so that our original would be unaffected\n",
    "loan_dataset_cp = loan_dataset.copy(deep = True)"
   ]
  },
  {
   "cell_type": "markdown",
   "id": "04bdbae4-9a49-41e8-aafd-cb7d2c3f8594",
   "metadata": {},
   "source": [
    "#### Inspect the data to know what we have"
   ]
  },
  {
   "cell_type": "code",
   "execution_count": null,
   "id": "d4b2226d-e799-4ebe-96a3-eee2390cf923",
   "metadata": {},
   "outputs": [],
   "source": [
    "loan_dataset_cp.shape"
   ]
  },
  {
   "cell_type": "code",
   "execution_count": null,
   "id": "35234865-41ba-477a-873a-be829af6c815",
   "metadata": {},
   "outputs": [],
   "source": [
    "loan_dataset_cp.head()"
   ]
  },
  {
   "cell_type": "markdown",
   "id": "b2577103-c481-4bef-8f88-036ba9acc531",
   "metadata": {},
   "source": [
    "#### Dropping Some Irrelevant Columns and Taking only the Ones we need"
   ]
  },
  {
   "cell_type": "code",
   "execution_count": null,
   "id": "c522cc83-9251-4ebe-a0cb-1aa994c76611",
   "metadata": {},
   "outputs": [],
   "source": [
    "#let's know or let's see the columns we have in our dataset already"
   ]
  },
  {
   "cell_type": "code",
   "execution_count": null,
   "id": "5c951690-c56a-46f6-8457-9f275df49e9a",
   "metadata": {},
   "outputs": [],
   "source": [
    "loan_dataset_cp.columns"
   ]
  },
  {
   "cell_type": "code",
   "execution_count": null,
   "id": "1f74258a-cde4-43e5-bac2-defefd092c18",
   "metadata": {},
   "outputs": [],
   "source": [
    "#or rather.., let's store it in an empty list\n",
    "loan_dataset_columns = [column for column in loan_dataset_cp.columns]"
   ]
  },
  {
   "cell_type": "code",
   "execution_count": null,
   "id": "d54bb313-57a6-4796-953d-8ab2fab517ed",
   "metadata": {},
   "outputs": [],
   "source": [
    "len(loan_dataset_columns)"
   ]
  },
  {
   "cell_type": "code",
   "execution_count": null,
   "id": "76af4400-551f-4ffc-a952-e366ce5aca7e",
   "metadata": {
    "scrolled": true
   },
   "outputs": [],
   "source": [
    "for column in loan_dataset_columns:\n",
    "    print(column)"
   ]
  },
  {
   "cell_type": "code",
   "execution_count": null,
   "id": "0f25ee1e-1427-4db6-9aee-420dcba2036b",
   "metadata": {},
   "outputs": [],
   "source": [
    "'acc_now_delinq' in loan_dataset_columns"
   ]
  },
  {
   "cell_type": "code",
   "execution_count": null,
   "id": "3090e744-76c3-4e7f-a5c1-5cbd71122ebf",
   "metadata": {},
   "outputs": [],
   "source": [
    "loan_dataset_columns.sort()"
   ]
  },
  {
   "cell_type": "code",
   "execution_count": null,
   "id": "b559ee60-5e0a-4a63-a568-496ccacf0efd",
   "metadata": {},
   "outputs": [],
   "source": [
    "for columns in loan_dataset_columns:\n",
    "    print(columns)"
   ]
  },
  {
   "cell_type": "code",
   "execution_count": null,
   "id": "c1aa0ba7-6f99-4dbb-9072-b22bc07bece8",
   "metadata": {},
   "outputs": [],
   "source": [
    "#Rather than dropping, which is more tedious let's carry the ones we need"
   ]
  },
  {
   "cell_type": "code",
   "execution_count": null,
   "id": "7484c011-d8b8-4599-b9a1-3889bb908420",
   "metadata": {},
   "outputs": [],
   "source": [
    "#let's just drop regardless"
   ]
  },
  {
   "cell_type": "code",
   "execution_count": null,
   "id": "4fb78d8e-91ac-4d8a-b5c3-37cc1bf8a881",
   "metadata": {},
   "outputs": [],
   "source": [
    "loan_dataset_cp = loan_dataset_cp.drop([\n",
    "'acc_now_delinq'\n",
    ",'acc_open_past_24mths'\n",
    ",'all_util'\n",
    ",'annual_inc_joint'\n",
    ",'application_type'\n",
    ",'avg_cur_bal'\n",
    ",'bc_open_to_buy'\n",
    ",'bc_util'\n",
    ",'chargeoff_within_12_mths'\n",
    ",'collection_recovery_fee'\n",
    ",'collections_12_mths_ex_med'\n",
    ",'delinq_2yrs'\n",
    ",'delinq_amnt'\n",
    ",'desc'\n",
    ",'dti_joint'\n",
    ",'earliest_cr_line'\n",
    ",'home_ownership'\n",
    ",'id'\n",
    ",'il_util'\n",
    ",'initial_list_status'\n",
    ",'inq_fi'\n",
    ",'inq_last_12m'\n",
    ",'max_bal_bc'\n",
    ",'member_id'\n",
    ",'mo_sin_old_il_acct'\n",
    ",'mo_sin_old_rev_tl_op'\n",
    ",'mo_sin_rcnt_rev_tl_op'\n",
    ",'mo_sin_rcnt_tl'\n",
    ",'mort_acc'\n",
    ",'mths_since_last_delinq'\n",
    ",'mths_since_last_major_derog'\n",
    ",'mths_since_last_record'\n",
    ",'mths_since_rcnt_il'\n",
    ",'mths_since_recent_bc'\n",
    ",'mths_since_recent_bc_dlq'\n",
    ",'mths_since_recent_inq'\n",
    ",'mths_since_recent_revol_delinq'\n",
    ",'num_accts_ever_120_pd'\n",
    ",'num_actv_bc_tl'\n",
    ",'num_actv_rev_tl'\n",
    ",'num_bc_sats'\n",
    ",'num_bc_tl'\n",
    ",'num_il_tl'\n",
    ",'num_op_rev_tl'\n",
    ",'num_rev_accts'\n",
    ",'num_rev_tl_bal_gt_0'\n",
    ",'num_sats'\n",
    ",'num_tl_120dpd_2m'\n",
    ",'num_tl_30dpd'\n",
    ",'num_tl_90g_dpd_24m'\n",
    ",'num_tl_op_past_12m'\n",
    ",'open_acc_6m'\n",
    ",'open_il_12m'\n",
    ",'open_il_24m'\n",
    ",'open_il_6m'\n",
    ",'open_rv_12m'\n",
    ",'open_rv_24m'\n",
    ",'out_prncp'\n",
    ",'out_prncp_inv'\n",
    ",'pct_tl_nvr_dlq'\n",
    ",'percent_bc_gt_75'\n",
    ",'policy_code'\n",
    ",'pymnt_plan'\n",
    ",'recoveries'\n",
    ",'tax_liens'\n",
    ",'title'\n",
    ",'tot_coll_amt'\n",
    ",'tot_cur_bal'\n",
    ",'tot_hi_cred_lim'\n",
    ",'total_bal_ex_mort'\n",
    ",'total_bal_il'\n",
    ",'total_bc_limit'\n",
    ",'total_cu_tl'\n",
    ",'next_pymnt_d'\n",
    ",'total_il_high_credit_limit'\n",
    ",'total_pymnt'\n",
    ",'total_pymnt_inv'\n",
    ",'total_rec_int'\n",
    ",'total_rec_late_fee'\n",
    ",'total_rec_prncp'\n",
    ",'verification_status_joint'\n",
    ",'total_rev_hi_lim'\n",
    ",'last_pymnt_amnt'\n",
    ",'last_credit_pull_d'\n",
    ",'url'], axis='columns')"
   ]
  },
  {
   "cell_type": "code",
   "execution_count": null,
   "id": "3360450c-eeef-4273-8224-ff369fa82a86",
   "metadata": {},
   "outputs": [],
   "source": [
    "loan_dataset_cp.shape"
   ]
  },
  {
   "cell_type": "code",
   "execution_count": null,
   "id": "3692374c-9907-40bd-b81d-b7c41ab1fe8c",
   "metadata": {},
   "outputs": [],
   "source": [
    "loan_dataset_cp.head()"
   ]
  },
  {
   "cell_type": "code",
   "execution_count": null,
   "id": "6e726ec3-a8fd-4804-95bb-d3ce0d278ccf",
   "metadata": {},
   "outputs": [],
   "source": [
    "#let's gain more insight into our data"
   ]
  },
  {
   "cell_type": "code",
   "execution_count": null,
   "id": "ed1b9ba9-4b24-4cab-86b8-bcc4042dd528",
   "metadata": {},
   "outputs": [],
   "source": [
    "loan_dataset_cp.info()"
   ]
  },
  {
   "cell_type": "code",
   "execution_count": null,
   "id": "275b7082-7061-46bd-916b-608e000335ff",
   "metadata": {},
   "outputs": [],
   "source": [
    "#let's take a look at the memory usage alright"
   ]
  },
  {
   "cell_type": "code",
   "execution_count": null,
   "id": "5fb17eb3-3050-473b-a83d-45341c5901fe",
   "metadata": {},
   "outputs": [],
   "source": [
    "loan_dataset_cp.memory_usage()"
   ]
  },
  {
   "cell_type": "code",
   "execution_count": null,
   "id": "6c3a1701-13e4-49a6-81fb-74d4440fff91",
   "metadata": {},
   "outputs": [],
   "source": [
    "type(loan_dataset_cp.memory_usage())"
   ]
  },
  {
   "cell_type": "code",
   "execution_count": null,
   "id": "673caec8-e78b-4771-a869-70458e11a0d8",
   "metadata": {},
   "outputs": [],
   "source": [
    "317736/1000"
   ]
  },
  {
   "cell_type": "code",
   "execution_count": null,
   "id": "5c71ee58-c526-4ed0-bc69-8d670ff72ef8",
   "metadata": {},
   "outputs": [],
   "source": [
    "317/1000 * 26"
   ]
  },
  {
   "cell_type": "markdown",
   "id": "a66f8972-02fa-4e43-9f89-45ac49e8b088",
   "metadata": {},
   "source": [
    "#### Let's do a quick transformation using Apply/Map - Lambda\n",
    "<p>This is Actually a little bit of feature Engineering</p>"
   ]
  },
  {
   "cell_type": "code",
   "execution_count": null,
   "id": "e0fc0673-c8e5-4a9f-ab00-093d868f5f79",
   "metadata": {},
   "outputs": [],
   "source": [
    "loan_dataset_cp.loan_status.head()"
   ]
  },
  {
   "cell_type": "code",
   "execution_count": null,
   "id": "0b4e7a97-e6e9-42aa-8ae2-70f3c5e34af2",
   "metadata": {},
   "outputs": [],
   "source": [
    "#let's create a new column called defaulted that returns True(1) if it was charged off i.e. defaulted\n",
    "#and False (0) if it was fully paid"
   ]
  },
  {
   "cell_type": "code",
   "execution_count": null,
   "id": "eb825115-c74b-4631-823d-d30aa4dabe2c",
   "metadata": {},
   "outputs": [],
   "source": [
    "loan_dataset_cp['defaulted'] = loan_dataset_cp['loan_status'].map(lambda x: 1 if x == 'Charged Off' else 0)\n",
    "#this could also be like this alright\n",
    "#loan_dataset_cp['defaulted'] = loan_dataset_cp['loan_status'].apply(lambda x: 1 if x == 'Charged Off' else 0)"
   ]
  },
  {
   "cell_type": "code",
   "execution_count": null,
   "id": "d69443b4-7e8e-4e93-a94f-c9a96297bbb5",
   "metadata": {},
   "outputs": [],
   "source": [
    "#observe, we can't see all the columns, let's set the pd options of the column so that we can see it"
   ]
  },
  {
   "cell_type": "code",
   "execution_count": null,
   "id": "8aec7f8e-cac8-421b-977a-a6063a4a4cc6",
   "metadata": {},
   "outputs": [],
   "source": [
    "pd.options.display.max_columns = 30"
   ]
  },
  {
   "cell_type": "code",
   "execution_count": null,
   "id": "3851713e-7c65-4659-821b-49dc41853f97",
   "metadata": {},
   "outputs": [],
   "source": [
    "loan_dataset_cp.head()"
   ]
  },
  {
   "cell_type": "code",
   "execution_count": null,
   "id": "5858dc02-21f0-4e4f-9ce6-bf202add92d1",
   "metadata": {},
   "outputs": [],
   "source": [
    "#Let's see some statistical analysis of this data"
   ]
  },
  {
   "cell_type": "code",
   "execution_count": null,
   "id": "d71ea483-aaac-49d0-9426-9b3cb1023b7e",
   "metadata": {},
   "outputs": [],
   "source": [
    "loan_dataset_cp.describe()"
   ]
  },
  {
   "cell_type": "code",
   "execution_count": null,
   "id": "5596cb6a-bc2d-4e7c-b94d-2d971f3d759c",
   "metadata": {},
   "outputs": [],
   "source": [
    "type(loan_dataset_cp.describe())"
   ]
  },
  {
   "cell_type": "code",
   "execution_count": null,
   "id": "a90779bd-9374-4b55-b9bf-5ecf547ee7c4",
   "metadata": {},
   "outputs": [],
   "source": [
    "loan_dataset_cp.describe().loan_amnt"
   ]
  },
  {
   "cell_type": "code",
   "execution_count": null,
   "id": "5f1d50b0-50a3-4e81-9f6b-748f835ce1f7",
   "metadata": {},
   "outputs": [],
   "source": [
    "#general information of the dataset"
   ]
  },
  {
   "cell_type": "code",
   "execution_count": null,
   "id": "6b0ec8f9-4287-48b4-bfa0-1efdcbd9cf87",
   "metadata": {},
   "outputs": [],
   "source": [
    "loan_dataset_cp.info()"
   ]
  },
  {
   "cell_type": "markdown",
   "id": "bdbb77e9-7e4b-41e7-aca8-659e18eafe2e",
   "metadata": {},
   "source": [
    "#### UNIVARIATE ANALYSIS"
   ]
  },
  {
   "cell_type": "code",
   "execution_count": null,
   "id": "4302b1c0-e9ed-4ae6-aa29-b97d3f8ab5ef",
   "metadata": {},
   "outputs": [],
   "source": [
    "#Aim: To checkout the distribution of Loan Amounts and Funded Amounts"
   ]
  },
  {
   "cell_type": "code",
   "execution_count": null,
   "id": "3a7bec2a-efa4-444e-9db3-3e8b34f3bd81",
   "metadata": {},
   "outputs": [],
   "source": [
    "for values in loan_dataset_cp.columns:\n",
    "    if values.endswith('amnt'):\n",
    "        print(values)\n",
    "    else:\n",
    "        pass"
   ]
  },
  {
   "cell_type": "code",
   "execution_count": null,
   "id": "811e1e08-1e11-48de-a9df-90778b1dff36",
   "metadata": {},
   "outputs": [],
   "source": [
    "fig = plt.figure(figsize = (8,4))\n",
    "plt.hist(x = [loan_dataset_cp.loan_amnt, loan_dataset_cp.funded_amnt], label = ['Loan Amount', 'Funded Amount'])\n",
    "plt.xlabel(\"Loan Amount/Funded Amount\")\n",
    "plt.ylabel(\"The count of these\")\n",
    "plt.title(\"LOAN AMOUNT/FUNDED AMOUNT VS TITLE\")\n",
    "plt.legend()\n",
    "fig.show()"
   ]
  },
  {
   "cell_type": "markdown",
   "id": "5b75d7fc-2c1e-4a80-be0d-30805943c0b7",
   "metadata": {},
   "source": [
    "##### Just a pivot_table analysis"
   ]
  },
  {
   "cell_type": "code",
   "execution_count": null,
   "id": "870e01b3-f71a-436f-8602-c5f299f107b1",
   "metadata": {},
   "outputs": [],
   "source": [
    "#let's do average funded amount for defaulters and not defauotrers for the 36 and 60 months period"
   ]
  },
  {
   "cell_type": "code",
   "execution_count": null,
   "id": "98bc1445-e246-41cc-975d-838446839128",
   "metadata": {},
   "outputs": [],
   "source": [
    "loan_dataset_cp.columns"
   ]
  },
  {
   "cell_type": "code",
   "execution_count": null,
   "id": "25c23dbc-fe9b-4a46-8ebe-297d2117200d",
   "metadata": {},
   "outputs": [],
   "source": [
    "loan_dataset_cp.pivot_table(index = 'defaulted', columns = 'term', values = 'funded_amnt', aggfunc = 'mean')"
   ]
  }
 ],
 "metadata": {
  "kernelspec": {
   "display_name": "Python 3 (ipykernel)",
   "language": "python",
   "name": "python3"
  },
  "language_info": {
   "codemirror_mode": {
    "name": "ipython",
    "version": 3
   },
   "file_extension": ".py",
   "mimetype": "text/x-python",
   "name": "python",
   "nbconvert_exporter": "python",
   "pygments_lexer": "ipython3",
   "version": "3.11.4"
  }
 },
 "nbformat": 4,
 "nbformat_minor": 5
}

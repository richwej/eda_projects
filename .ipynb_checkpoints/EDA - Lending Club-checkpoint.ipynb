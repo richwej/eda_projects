{
 "cells": [
  {
   "cell_type": "markdown",
   "id": "e085b3dd-c785-41e1-b476-5f7185c0d978",
   "metadata": {},
   "source": [
    "### WELCOME TO THE ANALYSIS OF A LENDING CLUB LOAN DATA"
   ]
  },
  {
   "cell_type": "markdown",
   "id": "cb5318b2-ad26-4b45-996e-a21a86a433bd",
   "metadata": {},
   "source": [
    "<h5>1. Importing Relevant libraries and Modules</h5>"
   ]
  },
  {
   "cell_type": "code",
   "execution_count": 1,
   "id": "7f72d5f4-be2b-4d22-be6b-ce78a14f9b66",
   "metadata": {},
   "outputs": [],
   "source": [
    "import numpy as np\n",
    "import pandas as pd\n",
    "import matplotlib.pyplot as plt\n",
    "import seaborn as sns\n",
    "#from datetime import datetime"
   ]
  },
  {
   "cell_type": "code",
   "execution_count": 2,
   "id": "54cdb56f-e1bb-484f-9291-9e4f0aeb27fc",
   "metadata": {},
   "outputs": [],
   "source": [
    "#Remove Warnings\n",
    "import warnings\n",
    "warnings.filterwarnings(\"ignore\")"
   ]
  },
  {
   "cell_type": "markdown",
   "id": "0850aeb4-ef45-43ea-bfa2-2801d04ea521",
   "metadata": {},
   "source": [
    "<h5>2.Load your CSV File</h5>"
   ]
  },
  {
   "cell_type": "code",
   "execution_count": 3,
   "id": "dbc9f7ab-a220-48b6-91c5-2a593625f2f0",
   "metadata": {},
   "outputs": [
    {
     "ename": "FileNotFoundError",
     "evalue": "[Errno 2] No such file or directory: 'loan.csv'",
     "output_type": "error",
     "traceback": [
      "\u001b[1;31m---------------------------------------------------------------------------\u001b[0m",
      "\u001b[1;31mFileNotFoundError\u001b[0m                         Traceback (most recent call last)",
      "Cell \u001b[1;32mIn[3], line 1\u001b[0m\n\u001b[1;32m----> 1\u001b[0m loan_dataset \u001b[38;5;241m=\u001b[39m \u001b[43mpd\u001b[49m\u001b[38;5;241;43m.\u001b[39;49m\u001b[43mread_csv\u001b[49m\u001b[43m(\u001b[49m\u001b[38;5;124;43m\"\u001b[39;49m\u001b[38;5;124;43mloan.csv\u001b[39;49m\u001b[38;5;124;43m\"\u001b[39;49m\u001b[43m,\u001b[49m\u001b[43m \u001b[49m\u001b[43mencoding\u001b[49m\u001b[38;5;241;43m=\u001b[39;49m\u001b[43m \u001b[49m\u001b[38;5;124;43m\"\u001b[39;49m\u001b[38;5;124;43mISO-8859-1\u001b[39;49m\u001b[38;5;124;43m\"\u001b[39;49m\u001b[43m)\u001b[49m \u001b[38;5;66;03m#The encoding is useful in this case\u001b[39;00m\n",
      "File \u001b[1;32m~\\AppData\\Local\\Programs\\Python\\Python311\\Lib\\site-packages\\pandas\\io\\parsers\\readers.py:948\u001b[0m, in \u001b[0;36mread_csv\u001b[1;34m(filepath_or_buffer, sep, delimiter, header, names, index_col, usecols, dtype, engine, converters, true_values, false_values, skipinitialspace, skiprows, skipfooter, nrows, na_values, keep_default_na, na_filter, verbose, skip_blank_lines, parse_dates, infer_datetime_format, keep_date_col, date_parser, date_format, dayfirst, cache_dates, iterator, chunksize, compression, thousands, decimal, lineterminator, quotechar, quoting, doublequote, escapechar, comment, encoding, encoding_errors, dialect, on_bad_lines, delim_whitespace, low_memory, memory_map, float_precision, storage_options, dtype_backend)\u001b[0m\n\u001b[0;32m    935\u001b[0m kwds_defaults \u001b[38;5;241m=\u001b[39m _refine_defaults_read(\n\u001b[0;32m    936\u001b[0m     dialect,\n\u001b[0;32m    937\u001b[0m     delimiter,\n\u001b[1;32m   (...)\u001b[0m\n\u001b[0;32m    944\u001b[0m     dtype_backend\u001b[38;5;241m=\u001b[39mdtype_backend,\n\u001b[0;32m    945\u001b[0m )\n\u001b[0;32m    946\u001b[0m kwds\u001b[38;5;241m.\u001b[39mupdate(kwds_defaults)\n\u001b[1;32m--> 948\u001b[0m \u001b[38;5;28;01mreturn\u001b[39;00m \u001b[43m_read\u001b[49m\u001b[43m(\u001b[49m\u001b[43mfilepath_or_buffer\u001b[49m\u001b[43m,\u001b[49m\u001b[43m \u001b[49m\u001b[43mkwds\u001b[49m\u001b[43m)\u001b[49m\n",
      "File \u001b[1;32m~\\AppData\\Local\\Programs\\Python\\Python311\\Lib\\site-packages\\pandas\\io\\parsers\\readers.py:611\u001b[0m, in \u001b[0;36m_read\u001b[1;34m(filepath_or_buffer, kwds)\u001b[0m\n\u001b[0;32m    608\u001b[0m _validate_names(kwds\u001b[38;5;241m.\u001b[39mget(\u001b[38;5;124m\"\u001b[39m\u001b[38;5;124mnames\u001b[39m\u001b[38;5;124m\"\u001b[39m, \u001b[38;5;28;01mNone\u001b[39;00m))\n\u001b[0;32m    610\u001b[0m \u001b[38;5;66;03m# Create the parser.\u001b[39;00m\n\u001b[1;32m--> 611\u001b[0m parser \u001b[38;5;241m=\u001b[39m \u001b[43mTextFileReader\u001b[49m\u001b[43m(\u001b[49m\u001b[43mfilepath_or_buffer\u001b[49m\u001b[43m,\u001b[49m\u001b[43m \u001b[49m\u001b[38;5;241;43m*\u001b[39;49m\u001b[38;5;241;43m*\u001b[39;49m\u001b[43mkwds\u001b[49m\u001b[43m)\u001b[49m\n\u001b[0;32m    613\u001b[0m \u001b[38;5;28;01mif\u001b[39;00m chunksize \u001b[38;5;129;01mor\u001b[39;00m iterator:\n\u001b[0;32m    614\u001b[0m     \u001b[38;5;28;01mreturn\u001b[39;00m parser\n",
      "File \u001b[1;32m~\\AppData\\Local\\Programs\\Python\\Python311\\Lib\\site-packages\\pandas\\io\\parsers\\readers.py:1448\u001b[0m, in \u001b[0;36mTextFileReader.__init__\u001b[1;34m(self, f, engine, **kwds)\u001b[0m\n\u001b[0;32m   1445\u001b[0m     \u001b[38;5;28mself\u001b[39m\u001b[38;5;241m.\u001b[39moptions[\u001b[38;5;124m\"\u001b[39m\u001b[38;5;124mhas_index_names\u001b[39m\u001b[38;5;124m\"\u001b[39m] \u001b[38;5;241m=\u001b[39m kwds[\u001b[38;5;124m\"\u001b[39m\u001b[38;5;124mhas_index_names\u001b[39m\u001b[38;5;124m\"\u001b[39m]\n\u001b[0;32m   1447\u001b[0m \u001b[38;5;28mself\u001b[39m\u001b[38;5;241m.\u001b[39mhandles: IOHandles \u001b[38;5;241m|\u001b[39m \u001b[38;5;28;01mNone\u001b[39;00m \u001b[38;5;241m=\u001b[39m \u001b[38;5;28;01mNone\u001b[39;00m\n\u001b[1;32m-> 1448\u001b[0m \u001b[38;5;28mself\u001b[39m\u001b[38;5;241m.\u001b[39m_engine \u001b[38;5;241m=\u001b[39m \u001b[38;5;28;43mself\u001b[39;49m\u001b[38;5;241;43m.\u001b[39;49m\u001b[43m_make_engine\u001b[49m\u001b[43m(\u001b[49m\u001b[43mf\u001b[49m\u001b[43m,\u001b[49m\u001b[43m \u001b[49m\u001b[38;5;28;43mself\u001b[39;49m\u001b[38;5;241;43m.\u001b[39;49m\u001b[43mengine\u001b[49m\u001b[43m)\u001b[49m\n",
      "File \u001b[1;32m~\\AppData\\Local\\Programs\\Python\\Python311\\Lib\\site-packages\\pandas\\io\\parsers\\readers.py:1705\u001b[0m, in \u001b[0;36mTextFileReader._make_engine\u001b[1;34m(self, f, engine)\u001b[0m\n\u001b[0;32m   1703\u001b[0m     \u001b[38;5;28;01mif\u001b[39;00m \u001b[38;5;124m\"\u001b[39m\u001b[38;5;124mb\u001b[39m\u001b[38;5;124m\"\u001b[39m \u001b[38;5;129;01mnot\u001b[39;00m \u001b[38;5;129;01min\u001b[39;00m mode:\n\u001b[0;32m   1704\u001b[0m         mode \u001b[38;5;241m+\u001b[39m\u001b[38;5;241m=\u001b[39m \u001b[38;5;124m\"\u001b[39m\u001b[38;5;124mb\u001b[39m\u001b[38;5;124m\"\u001b[39m\n\u001b[1;32m-> 1705\u001b[0m \u001b[38;5;28mself\u001b[39m\u001b[38;5;241m.\u001b[39mhandles \u001b[38;5;241m=\u001b[39m \u001b[43mget_handle\u001b[49m\u001b[43m(\u001b[49m\n\u001b[0;32m   1706\u001b[0m \u001b[43m    \u001b[49m\u001b[43mf\u001b[49m\u001b[43m,\u001b[49m\n\u001b[0;32m   1707\u001b[0m \u001b[43m    \u001b[49m\u001b[43mmode\u001b[49m\u001b[43m,\u001b[49m\n\u001b[0;32m   1708\u001b[0m \u001b[43m    \u001b[49m\u001b[43mencoding\u001b[49m\u001b[38;5;241;43m=\u001b[39;49m\u001b[38;5;28;43mself\u001b[39;49m\u001b[38;5;241;43m.\u001b[39;49m\u001b[43moptions\u001b[49m\u001b[38;5;241;43m.\u001b[39;49m\u001b[43mget\u001b[49m\u001b[43m(\u001b[49m\u001b[38;5;124;43m\"\u001b[39;49m\u001b[38;5;124;43mencoding\u001b[39;49m\u001b[38;5;124;43m\"\u001b[39;49m\u001b[43m,\u001b[49m\u001b[43m \u001b[49m\u001b[38;5;28;43;01mNone\u001b[39;49;00m\u001b[43m)\u001b[49m\u001b[43m,\u001b[49m\n\u001b[0;32m   1709\u001b[0m \u001b[43m    \u001b[49m\u001b[43mcompression\u001b[49m\u001b[38;5;241;43m=\u001b[39;49m\u001b[38;5;28;43mself\u001b[39;49m\u001b[38;5;241;43m.\u001b[39;49m\u001b[43moptions\u001b[49m\u001b[38;5;241;43m.\u001b[39;49m\u001b[43mget\u001b[49m\u001b[43m(\u001b[49m\u001b[38;5;124;43m\"\u001b[39;49m\u001b[38;5;124;43mcompression\u001b[39;49m\u001b[38;5;124;43m\"\u001b[39;49m\u001b[43m,\u001b[49m\u001b[43m \u001b[49m\u001b[38;5;28;43;01mNone\u001b[39;49;00m\u001b[43m)\u001b[49m\u001b[43m,\u001b[49m\n\u001b[0;32m   1710\u001b[0m \u001b[43m    \u001b[49m\u001b[43mmemory_map\u001b[49m\u001b[38;5;241;43m=\u001b[39;49m\u001b[38;5;28;43mself\u001b[39;49m\u001b[38;5;241;43m.\u001b[39;49m\u001b[43moptions\u001b[49m\u001b[38;5;241;43m.\u001b[39;49m\u001b[43mget\u001b[49m\u001b[43m(\u001b[49m\u001b[38;5;124;43m\"\u001b[39;49m\u001b[38;5;124;43mmemory_map\u001b[39;49m\u001b[38;5;124;43m\"\u001b[39;49m\u001b[43m,\u001b[49m\u001b[43m \u001b[49m\u001b[38;5;28;43;01mFalse\u001b[39;49;00m\u001b[43m)\u001b[49m\u001b[43m,\u001b[49m\n\u001b[0;32m   1711\u001b[0m \u001b[43m    \u001b[49m\u001b[43mis_text\u001b[49m\u001b[38;5;241;43m=\u001b[39;49m\u001b[43mis_text\u001b[49m\u001b[43m,\u001b[49m\n\u001b[0;32m   1712\u001b[0m \u001b[43m    \u001b[49m\u001b[43merrors\u001b[49m\u001b[38;5;241;43m=\u001b[39;49m\u001b[38;5;28;43mself\u001b[39;49m\u001b[38;5;241;43m.\u001b[39;49m\u001b[43moptions\u001b[49m\u001b[38;5;241;43m.\u001b[39;49m\u001b[43mget\u001b[49m\u001b[43m(\u001b[49m\u001b[38;5;124;43m\"\u001b[39;49m\u001b[38;5;124;43mencoding_errors\u001b[39;49m\u001b[38;5;124;43m\"\u001b[39;49m\u001b[43m,\u001b[49m\u001b[43m \u001b[49m\u001b[38;5;124;43m\"\u001b[39;49m\u001b[38;5;124;43mstrict\u001b[39;49m\u001b[38;5;124;43m\"\u001b[39;49m\u001b[43m)\u001b[49m\u001b[43m,\u001b[49m\n\u001b[0;32m   1713\u001b[0m \u001b[43m    \u001b[49m\u001b[43mstorage_options\u001b[49m\u001b[38;5;241;43m=\u001b[39;49m\u001b[38;5;28;43mself\u001b[39;49m\u001b[38;5;241;43m.\u001b[39;49m\u001b[43moptions\u001b[49m\u001b[38;5;241;43m.\u001b[39;49m\u001b[43mget\u001b[49m\u001b[43m(\u001b[49m\u001b[38;5;124;43m\"\u001b[39;49m\u001b[38;5;124;43mstorage_options\u001b[39;49m\u001b[38;5;124;43m\"\u001b[39;49m\u001b[43m,\u001b[49m\u001b[43m \u001b[49m\u001b[38;5;28;43;01mNone\u001b[39;49;00m\u001b[43m)\u001b[49m\u001b[43m,\u001b[49m\n\u001b[0;32m   1714\u001b[0m \u001b[43m\u001b[49m\u001b[43m)\u001b[49m\n\u001b[0;32m   1715\u001b[0m \u001b[38;5;28;01massert\u001b[39;00m \u001b[38;5;28mself\u001b[39m\u001b[38;5;241m.\u001b[39mhandles \u001b[38;5;129;01mis\u001b[39;00m \u001b[38;5;129;01mnot\u001b[39;00m \u001b[38;5;28;01mNone\u001b[39;00m\n\u001b[0;32m   1716\u001b[0m f \u001b[38;5;241m=\u001b[39m \u001b[38;5;28mself\u001b[39m\u001b[38;5;241m.\u001b[39mhandles\u001b[38;5;241m.\u001b[39mhandle\n",
      "File \u001b[1;32m~\\AppData\\Local\\Programs\\Python\\Python311\\Lib\\site-packages\\pandas\\io\\common.py:863\u001b[0m, in \u001b[0;36mget_handle\u001b[1;34m(path_or_buf, mode, encoding, compression, memory_map, is_text, errors, storage_options)\u001b[0m\n\u001b[0;32m    858\u001b[0m \u001b[38;5;28;01melif\u001b[39;00m \u001b[38;5;28misinstance\u001b[39m(handle, \u001b[38;5;28mstr\u001b[39m):\n\u001b[0;32m    859\u001b[0m     \u001b[38;5;66;03m# Check whether the filename is to be opened in binary mode.\u001b[39;00m\n\u001b[0;32m    860\u001b[0m     \u001b[38;5;66;03m# Binary mode does not support 'encoding' and 'newline'.\u001b[39;00m\n\u001b[0;32m    861\u001b[0m     \u001b[38;5;28;01mif\u001b[39;00m ioargs\u001b[38;5;241m.\u001b[39mencoding \u001b[38;5;129;01mand\u001b[39;00m \u001b[38;5;124m\"\u001b[39m\u001b[38;5;124mb\u001b[39m\u001b[38;5;124m\"\u001b[39m \u001b[38;5;129;01mnot\u001b[39;00m \u001b[38;5;129;01min\u001b[39;00m ioargs\u001b[38;5;241m.\u001b[39mmode:\n\u001b[0;32m    862\u001b[0m         \u001b[38;5;66;03m# Encoding\u001b[39;00m\n\u001b[1;32m--> 863\u001b[0m         handle \u001b[38;5;241m=\u001b[39m \u001b[38;5;28;43mopen\u001b[39;49m\u001b[43m(\u001b[49m\n\u001b[0;32m    864\u001b[0m \u001b[43m            \u001b[49m\u001b[43mhandle\u001b[49m\u001b[43m,\u001b[49m\n\u001b[0;32m    865\u001b[0m \u001b[43m            \u001b[49m\u001b[43mioargs\u001b[49m\u001b[38;5;241;43m.\u001b[39;49m\u001b[43mmode\u001b[49m\u001b[43m,\u001b[49m\n\u001b[0;32m    866\u001b[0m \u001b[43m            \u001b[49m\u001b[43mencoding\u001b[49m\u001b[38;5;241;43m=\u001b[39;49m\u001b[43mioargs\u001b[49m\u001b[38;5;241;43m.\u001b[39;49m\u001b[43mencoding\u001b[49m\u001b[43m,\u001b[49m\n\u001b[0;32m    867\u001b[0m \u001b[43m            \u001b[49m\u001b[43merrors\u001b[49m\u001b[38;5;241;43m=\u001b[39;49m\u001b[43merrors\u001b[49m\u001b[43m,\u001b[49m\n\u001b[0;32m    868\u001b[0m \u001b[43m            \u001b[49m\u001b[43mnewline\u001b[49m\u001b[38;5;241;43m=\u001b[39;49m\u001b[38;5;124;43m\"\u001b[39;49m\u001b[38;5;124;43m\"\u001b[39;49m\u001b[43m,\u001b[49m\n\u001b[0;32m    869\u001b[0m \u001b[43m        \u001b[49m\u001b[43m)\u001b[49m\n\u001b[0;32m    870\u001b[0m     \u001b[38;5;28;01melse\u001b[39;00m:\n\u001b[0;32m    871\u001b[0m         \u001b[38;5;66;03m# Binary mode\u001b[39;00m\n\u001b[0;32m    872\u001b[0m         handle \u001b[38;5;241m=\u001b[39m \u001b[38;5;28mopen\u001b[39m(handle, ioargs\u001b[38;5;241m.\u001b[39mmode)\n",
      "\u001b[1;31mFileNotFoundError\u001b[0m: [Errno 2] No such file or directory: 'loan.csv'"
     ]
    }
   ],
   "source": [
    "loan_dataset = pd.read_csv(\"loan.csv\", encoding= \"ISO-8859-1\") #The encoding is useful in this case"
   ]
  },
  {
   "cell_type": "code",
   "execution_count": null,
   "id": "e0d19590-a95f-48e3-b29f-260a91e6051e",
   "metadata": {},
   "outputs": [],
   "source": [
    "#create a shallow copy of this dataset so that our original would be unaffected\n",
    "loan_dataset_cp = loan_dataset.copy(deep = True)"
   ]
  },
  {
   "cell_type": "markdown",
   "id": "04bdbae4-9a49-41e8-aafd-cb7d2c3f8594",
   "metadata": {},
   "source": [
    "#### Inspect the data to know what we have"
   ]
  },
  {
   "cell_type": "code",
   "execution_count": null,
   "id": "d4b2226d-e799-4ebe-96a3-eee2390cf923",
   "metadata": {},
   "outputs": [],
   "source": [
    "loan_dataset_cp.shape"
   ]
  },
  {
   "cell_type": "code",
   "execution_count": null,
   "id": "35234865-41ba-477a-873a-be829af6c815",
   "metadata": {},
   "outputs": [],
   "source": [
    "loan_dataset_cp.head()"
   ]
  },
  {
   "cell_type": "markdown",
   "id": "b2577103-c481-4bef-8f88-036ba9acc531",
   "metadata": {},
   "source": [
    "#### Dropping Some Irrelevant Columns and Taking only the Ones we need"
   ]
  },
  {
   "cell_type": "code",
   "execution_count": null,
   "id": "c522cc83-9251-4ebe-a0cb-1aa994c76611",
   "metadata": {},
   "outputs": [],
   "source": [
    "#let's know or let's see the columns we have in our dataset already"
   ]
  },
  {
   "cell_type": "code",
   "execution_count": null,
   "id": "5c951690-c56a-46f6-8457-9f275df49e9a",
   "metadata": {},
   "outputs": [],
   "source": [
    "loan_dataset_cp.columns"
   ]
  },
  {
   "cell_type": "code",
   "execution_count": null,
   "id": "1f74258a-cde4-43e5-bac2-defefd092c18",
   "metadata": {},
   "outputs": [],
   "source": [
    "#or rather.., let's store it in an empty list\n",
    "loan_dataset_columns = [column for column in loan_dataset_cp.columns]"
   ]
  },
  {
   "cell_type": "code",
   "execution_count": null,
   "id": "d54bb313-57a6-4796-953d-8ab2fab517ed",
   "metadata": {},
   "outputs": [],
   "source": [
    "len(loan_dataset_columns)"
   ]
  },
  {
   "cell_type": "code",
   "execution_count": null,
   "id": "76af4400-551f-4ffc-a952-e366ce5aca7e",
   "metadata": {
    "scrolled": true
   },
   "outputs": [],
   "source": [
    "for column in loan_dataset_columns:\n",
    "    print(column)"
   ]
  },
  {
   "cell_type": "code",
   "execution_count": null,
   "id": "0f25ee1e-1427-4db6-9aee-420dcba2036b",
   "metadata": {},
   "outputs": [],
   "source": [
    "'acc_now_delinq' in loan_dataset_columns"
   ]
  },
  {
   "cell_type": "code",
   "execution_count": null,
   "id": "3090e744-76c3-4e7f-a5c1-5cbd71122ebf",
   "metadata": {},
   "outputs": [],
   "source": [
    "loan_dataset_columns.sort()"
   ]
  },
  {
   "cell_type": "code",
   "execution_count": null,
   "id": "b559ee60-5e0a-4a63-a568-496ccacf0efd",
   "metadata": {},
   "outputs": [],
   "source": [
    "for columns in loan_dataset_columns:\n",
    "    print(columns)"
   ]
  },
  {
   "cell_type": "code",
   "execution_count": null,
   "id": "c1aa0ba7-6f99-4dbb-9072-b22bc07bece8",
   "metadata": {},
   "outputs": [],
   "source": [
    "#Rather than dropping, which is more tedious let's carry the ones we need"
   ]
  },
  {
   "cell_type": "code",
   "execution_count": null,
   "id": "7484c011-d8b8-4599-b9a1-3889bb908420",
   "metadata": {},
   "outputs": [],
   "source": [
    "#let's just drop regardless"
   ]
  },
  {
   "cell_type": "code",
   "execution_count": null,
   "id": "4fb78d8e-91ac-4d8a-b5c3-37cc1bf8a881",
   "metadata": {},
   "outputs": [],
   "source": [
    "loan_dataset_cp = loan_dataset_cp.drop([\n",
    "'acc_now_delinq'\n",
    ",'acc_open_past_24mths'\n",
    ",'all_util'\n",
    ",'annual_inc_joint'\n",
    ",'application_type'\n",
    ",'avg_cur_bal'\n",
    ",'bc_open_to_buy'\n",
    ",'bc_util'\n",
    ",'chargeoff_within_12_mths'\n",
    ",'collection_recovery_fee'\n",
    ",'collections_12_mths_ex_med'\n",
    ",'delinq_2yrs'\n",
    ",'delinq_amnt'\n",
    ",'desc'\n",
    ",'dti_joint'\n",
    ",'earliest_cr_line'\n",
    ",'home_ownership'\n",
    ",'id'\n",
    ",'il_util'\n",
    ",'initial_list_status'\n",
    ",'inq_fi'\n",
    ",'inq_last_12m'\n",
    ",'max_bal_bc'\n",
    ",'member_id'\n",
    ",'mo_sin_old_il_acct'\n",
    ",'mo_sin_old_rev_tl_op'\n",
    ",'mo_sin_rcnt_rev_tl_op'\n",
    ",'mo_sin_rcnt_tl'\n",
    ",'mort_acc'\n",
    ",'mths_since_last_delinq'\n",
    ",'mths_since_last_major_derog'\n",
    ",'mths_since_last_record'\n",
    ",'mths_since_rcnt_il'\n",
    ",'mths_since_recent_bc'\n",
    ",'mths_since_recent_bc_dlq'\n",
    ",'mths_since_recent_inq'\n",
    ",'mths_since_recent_revol_delinq'\n",
    ",'num_accts_ever_120_pd'\n",
    ",'num_actv_bc_tl'\n",
    ",'num_actv_rev_tl'\n",
    ",'num_bc_sats'\n",
    ",'num_bc_tl'\n",
    ",'num_il_tl'\n",
    ",'num_op_rev_tl'\n",
    ",'num_rev_accts'\n",
    ",'num_rev_tl_bal_gt_0'\n",
    ",'num_sats'\n",
    ",'num_tl_120dpd_2m'\n",
    ",'num_tl_30dpd'\n",
    ",'num_tl_90g_dpd_24m'\n",
    ",'num_tl_op_past_12m'\n",
    ",'open_acc_6m'\n",
    ",'open_il_12m'\n",
    ",'open_il_24m'\n",
    ",'open_il_6m'\n",
    ",'open_rv_12m'\n",
    ",'open_rv_24m'\n",
    ",'out_prncp'\n",
    ",'out_prncp_inv'\n",
    ",'pct_tl_nvr_dlq'\n",
    ",'percent_bc_gt_75'\n",
    ",'policy_code'\n",
    ",'pymnt_plan'\n",
    ",'recoveries'\n",
    ",'tax_liens'\n",
    ",'title'\n",
    ",'tot_coll_amt'\n",
    ",'tot_cur_bal'\n",
    ",'tot_hi_cred_lim'\n",
    ",'total_bal_ex_mort'\n",
    ",'total_bal_il'\n",
    ",'total_bc_limit'\n",
    ",'total_cu_tl'\n",
    ",'next_pymnt_d'\n",
    ",'total_il_high_credit_limit'\n",
    ",'total_pymnt'\n",
    ",'total_pymnt_inv'\n",
    ",'total_rec_int'\n",
    ",'total_rec_late_fee'\n",
    ",'total_rec_prncp'\n",
    ",'verification_status_joint'\n",
    ",'total_rev_hi_lim'\n",
    ",'last_pymnt_amnt'\n",
    ",'last_credit_pull_d'\n",
    ",'url'], axis='columns')"
   ]
  },
  {
   "cell_type": "code",
   "execution_count": null,
   "id": "3360450c-eeef-4273-8224-ff369fa82a86",
   "metadata": {},
   "outputs": [],
   "source": [
    "loan_dataset_cp.shape"
   ]
  },
  {
   "cell_type": "code",
   "execution_count": null,
   "id": "3692374c-9907-40bd-b81d-b7c41ab1fe8c",
   "metadata": {},
   "outputs": [],
   "source": [
    "loan_dataset_cp.head()"
   ]
  },
  {
   "cell_type": "code",
   "execution_count": null,
   "id": "6e726ec3-a8fd-4804-95bb-d3ce0d278ccf",
   "metadata": {},
   "outputs": [],
   "source": []
  }
 ],
 "metadata": {
  "kernelspec": {
   "display_name": "Python 3 (ipykernel)",
   "language": "python",
   "name": "python3"
  },
  "language_info": {
   "codemirror_mode": {
    "name": "ipython",
    "version": 3
   },
   "file_extension": ".py",
   "mimetype": "text/x-python",
   "name": "python",
   "nbconvert_exporter": "python",
   "pygments_lexer": "ipython3",
   "version": "3.11.4"
  }
 },
 "nbformat": 4,
 "nbformat_minor": 5
}
